{
 "cells": [
  {
   "cell_type": "markdown",
   "metadata": {},
   "source": [
    "# target encoder & ohe & just auoint"
   ]
  },
  {
   "cell_type": "code",
   "execution_count": 1,
   "metadata": {},
   "outputs": [],
   "source": [
    "%load_ext autoreload\n",
    "%autoreload 2\n",
    "\n",
    "import os\n",
    "import warnings\n",
    "warnings.filterwarnings('ignore')\n",
    "\n",
    "import sys\n",
    "sys.path.append(os.path.abspath('..'))\n",
    "# ---------------------------------\n",
    "from time import sleep\n",
    "import numpy as np\n",
    "import pandas as pd\n",
    "import scipy\n",
    "import tqdm\n",
    "import tensorflow as tf\n",
    "from tensorflow.keras.layers import Activation\n",
    "import matplotlib.pyplot as plt\n",
    "\n",
    "from category_encoders import TargetEncoder\n",
    "from sklearn.preprocessing import OneHotEncoder\n",
    "from sklearn.model_selection import StratifiedKFold\n",
    "from sklearn.linear_model import LogisticRegression, SGDRegressor\n",
    "from sklearn.metrics import roc_auc_score\n",
    "\n",
    "from hyperopt import hp\n",
    "# ---------------------------------\n",
    "from tools import CV, Tuning, CVGetScore, IdxValEncoder, auto_int, CyclicLR, MaxLrFinder\n",
    "# ---------------------------------\n",
    "from tools import focal_loss, gelu, mish\n",
    "from tensorflow.keras.utils import get_custom_objects\n",
    "\n",
    "get_custom_objects().update({'focal_loss': focal_loss()})\n",
    "get_custom_objects().update({'mish': mish})\n",
    "get_custom_objects().update({'gelu': gelu})"
   ]
  },
  {
   "cell_type": "code",
   "execution_count": 2,
   "metadata": {},
   "outputs": [],
   "source": [
    "train_df = pd.read_csv('../data/train.csv', index_col='id')\n",
    "test_df = pd.read_csv('../data/test.csv', index_col='id')\n",
    "\n",
    "# ord_5\n",
    "for i in range(2):\n",
    "    train_df[f'ord_5_{i}'] = train_df['ord_5'].str[i]\n",
    "    test_df[f'ord_5_{i}'] = test_df['ord_5'].str[i]\n",
    "\n",
    "# null\n",
    "train_df['null'] = train_df.isna().sum(axis=1)\n",
    "test_df['null'] = test_df.isna().sum(axis=1)\n",
    "\n",
    "for col in test_df.columns:\n",
    "    train_df[col].fillna('isnull', inplace=True)\n",
    "    test_df[col].fillna('isnull', inplace=True)\n",
    "\n",
    "# target\n",
    "target = train_df['target']\n",
    "y_train = target.values\n",
    "\n",
    "# drop\n",
    "train_df.drop(['target', 'ord_5'], axis=1, inplace=True)\n",
    "test_df.drop(['ord_5'], axis=1, inplace=True)"
   ]
  },
  {
   "cell_type": "code",
   "execution_count": 3,
   "metadata": {},
   "outputs": [],
   "source": [
    "feature_col = train_df.columns\n",
    "\n",
    "bin_col = ['null']\n",
    "\n",
    "class_col = ['bin_0', 'bin_1', 'bin_2', 'bin_3', 'bin_4',\n",
    "             'nom_0', 'nom_1', 'nom_2', 'nom_3', 'nom_4',\n",
    "             'nom_5', 'nom_6', 'nom_7', 'nom_8', 'nom_9',\n",
    "             'ord_0', 'ord_1', 'ord_2', 'ord_3', 'ord_4',\n",
    "             'day', 'month', 'ord_5_0', 'ord_5_1']"
   ]
  },
  {
   "cell_type": "code",
   "execution_count": 4,
   "metadata": {},
   "outputs": [],
   "source": [
    "# for col in bin_col:\n",
    "#     map_dict = dict(zip(train_df[col].unique(), [0., 1.]))\n",
    "#     train_df[col] = train_df[col].map(map_dict)\n",
    "#     test_df[col] = test_df[col].map(map_dict)"
   ]
  },
  {
   "cell_type": "code",
   "execution_count": 5,
   "metadata": {},
   "outputs": [
    {
     "name": "stderr",
     "output_type": "stream",
     "text": [
      "600000it [00:10, 56821.20it/s]\n"
     ]
    }
   ],
   "source": [
    "ecd = IdxValEncoder(feature_col, bin_col=bin_col, class_col=class_col)\n",
    "ecd.fit(train_df, verbose=1)"
   ]
  },
  {
   "cell_type": "code",
   "execution_count": 6,
   "metadata": {},
   "outputs": [
    {
     "name": "stderr",
     "output_type": "stream",
     "text": [
      "400000it [00:07, 56071.72it/s]\n"
     ]
    }
   ],
   "source": [
    "ecd.fit(test_df, verbose=1)"
   ]
  },
  {
   "cell_type": "code",
   "execution_count": 7,
   "metadata": {},
   "outputs": [
    {
     "name": "stderr",
     "output_type": "stream",
     "text": [
      "600000it [00:12, 47162.54it/s]\n",
      "400000it [00:08, 47636.93it/s]\n"
     ]
    }
   ],
   "source": [
    "idx, val = ecd.transform(train_df, verbose=1)\n",
    "idx_test, val_test = ecd.transform(test_df, verbose=1)"
   ]
  },
  {
   "cell_type": "markdown",
   "metadata": {},
   "source": [
    "# Search Max LR"
   ]
  },
  {
   "cell_type": "code",
   "execution_count": 8,
   "metadata": {
    "scrolled": true
   },
   "outputs": [
    {
     "name": "stdout",
     "output_type": "stream",
     "text": [
      "Train on 480000 samples, validate on 120000 samples\n",
      "Epoch 1/5\n",
      "480000/480000 [==============================] - 29s 60us/sample - loss: 0.6955 - AUC: 0.4778 - val_loss: 0.6932 - val_AUC: 0.4874\n",
      "Epoch 2/5\n",
      "480000/480000 [==============================] - 26s 55us/sample - loss: 0.6830 - AUC: 0.4902 - val_loss: 0.6521 - val_AUC: 0.4815\n",
      "Epoch 3/5\n",
      "480000/480000 [==============================] - 27s 56us/sample - loss: 0.5154 - AUC: 0.5392 - val_loss: 0.4469 - val_AUC: 0.7629\n",
      "Epoch 4/5\n",
      "480000/480000 [==============================] - 26s 55us/sample - loss: 0.4093 - AUC: 0.7718 - val_loss: 0.4002 - val_AUC: 0.7817\n",
      "Epoch 5/5\n",
      "480000/480000 [==============================] - 27s 55us/sample - loss: 0.4030 - AUC: 0.7778 - val_loss: 0.4135 - val_AUC: 0.7812\n",
      "folds 0 is done, score is 0.7811870999833329\n",
      "Train on 480000 samples, validate on 120000 samples\n",
      "Epoch 1/5\n",
      "480000/480000 [==============================] - 28s 59us/sample - loss: 0.6932 - AUC: 0.4831 - val_loss: 0.6869 - val_AUC: 0.4837\n",
      "Epoch 2/5\n",
      "480000/480000 [==============================] - 26s 55us/sample - loss: 0.6457 - AUC: 0.4979 - val_loss: 0.4977 - val_AUC: 0.5068\n",
      "Epoch 3/5\n",
      "480000/480000 [==============================] - 27s 56us/sample - loss: 0.4624 - AUC: 0.6502 - val_loss: 0.4117 - val_AUC: 0.7796\n",
      "Epoch 4/5\n",
      "480000/480000 [==============================] - 26s 55us/sample - loss: 0.4007 - AUC: 0.7825 - val_loss: 0.3993 - val_AUC: 0.7832\n",
      "Epoch 5/5\n",
      "480000/480000 [==============================] - 27s 55us/sample - loss: 0.4020 - AUC: 0.7791 - val_loss: 0.4034 - val_AUC: 0.7809\n",
      "folds 1 is done, score is 0.7809472666564696\n",
      "Train on 480000 samples, validate on 120000 samples\n",
      "Epoch 1/5\n",
      "480000/480000 [==============================] - 29s 60us/sample - loss: 0.6921 - AUC: 0.4852 - val_loss: 0.6839 - val_AUC: 0.4745\n",
      "Epoch 2/5\n",
      "480000/480000 [==============================] - 26s 55us/sample - loss: 0.6210 - AUC: 0.4979 - val_loss: 0.4909 - val_AUC: 0.5387\n",
      "Epoch 3/5\n",
      "480000/480000 [==============================] - 27s 55us/sample - loss: 0.4522 - AUC: 0.6879 - val_loss: 0.4028 - val_AUC: 0.7832\n",
      "Epoch 4/5\n",
      "480000/480000 [==============================] - 26s 55us/sample - loss: 0.4005 - AUC: 0.7826 - val_loss: 0.3990 - val_AUC: 0.7842\n",
      "Epoch 5/5\n",
      "480000/480000 [==============================] - 27s 56us/sample - loss: 0.4040 - AUC: 0.7764 - val_loss: 0.4221 - val_AUC: 0.7764\n",
      "folds 2 is done, score is 0.7764916018950139\n",
      "Train on 480000 samples, validate on 120000 samples\n",
      "Epoch 1/5\n",
      "480000/480000 [==============================] - 28s 59us/sample - loss: 0.6915 - AUC: 0.4859 - val_loss: 0.6819 - val_AUC: 0.4819\n",
      "Epoch 2/5\n",
      "480000/480000 [==============================] - 26s 55us/sample - loss: 0.6086 - AUC: 0.4967 - val_loss: 0.4898 - val_AUC: 0.5733\n",
      "Epoch 3/5\n",
      "480000/480000 [==============================] - 27s 55us/sample - loss: 0.4457 - AUC: 0.7100 - val_loss: 0.4037 - val_AUC: 0.7833\n",
      "Epoch 4/5\n",
      "480000/480000 [==============================] - 26s 55us/sample - loss: 0.3988 - AUC: 0.7849 - val_loss: 0.3998 - val_AUC: 0.7833\n",
      "Epoch 5/5\n",
      "480000/480000 [==============================] - 27s 55us/sample - loss: 0.4042 - AUC: 0.7756 - val_loss: 0.4063 - val_AUC: 0.7789\n",
      "folds 3 is done, score is 0.7789131709366807\n",
      "Train on 480000 samples, validate on 120000 samples\n",
      "Epoch 1/5\n",
      "480000/480000 [==============================] - 29s 60us/sample - loss: 0.6910 - AUC: 0.4859 - val_loss: 0.6805 - val_AUC: 0.4812\n",
      "Epoch 2/5\n",
      "480000/480000 [==============================] - 26s 55us/sample - loss: 0.6002 - AUC: 0.4984 - val_loss: 0.4838 - val_AUC: 0.5909\n",
      "Epoch 3/5\n",
      "480000/480000 [==============================] - 26s 54us/sample - loss: 0.4425 - AUC: 0.7203 - val_loss: 0.4039 - val_AUC: 0.7837\n",
      "Epoch 4/5\n",
      "480000/480000 [==============================] - 27s 56us/sample - loss: 0.3987 - AUC: 0.7848 - val_loss: 0.3988 - val_AUC: 0.7845\n",
      "Epoch 5/5\n",
      "480000/480000 [==============================] - 27s 55us/sample - loss: 0.4119 - AUC: 0.7659 - val_loss: 0.4191 - val_AUC: 0.7635\n",
      "folds 4 is done, score is 0.7635681564817122\n",
      "CPU times: user 10min 51s, sys: 3.88 s, total: 10min 55s\n",
      "Wall time: 11min 29s\n"
     ]
    }
   ],
   "source": [
    "%%time\n",
    "%matplotlib inline\n",
    "\n",
    "batch_size = 8192\n",
    "epochs = 5\n",
    "nflold = 5\n",
    "\n",
    "model_param = {'vocabulary_size':ecd.get_vocabulary(), \n",
    "               'feature_number': len(feature_col),\n",
    "               'activation': 'sigmoid',\n",
    "               'metrics': ['AUC'],\n",
    "               'optimizer': 'Adam',\n",
    "               'loss': 'binary_crossentropy', \n",
    "               'use_linear': False, 'use_deep': False}\n",
    "\n",
    "mf = MaxLrFinder(1e-5, 1e-1, epochs=epochs, batch_size=batch_size, sample_length=train_df.shape[0]*((nflold-1)/nflold))\n",
    "fit_param = {'batch_size': batch_size, 'epochs':epochs, 'verbose': 1, 'callbacks':[mf]}\n",
    "\n",
    "model = auto_int(**model_param)\n",
    "\n",
    "cv = CV(model, nflold)\n",
    "\n",
    "score = cv.fit(x=[idx, val],\n",
    "               y=y_train, \n",
    "               metrics_func=roc_auc_score,\n",
    "               split_method=StratifiedKFold,\n",
    "               fit_params=fit_param,\n",
    "               eval_param={'batch_size':batch_size},\n",
    "               use_proba=False, \n",
    "               verbose=True,\n",
    "               fit_use_valid=True)\n",
    "\n",
    "tf.keras.backend.clear_session()"
   ]
  },
  {
   "cell_type": "code",
   "execution_count": 9,
   "metadata": {
    "scrolled": false
   },
   "outputs": [
    {
     "data": {
      "image/png": "[encoded data removed]",
      "text/plain": [
       "<Figure size 1008x504 with 2 Axes>"
      ]
     },
     "metadata": {
      "needs_background": "light"
     },
     "output_type": "display_data"
    }
   ],
   "source": [
    "%matplotlib inline\n",
    "mf.plot(True, [0, 1])"
   ]
  },
  {
   "cell_type": "markdown",
   "metadata": {},
   "source": [
    "# fit one"
   ]
  },
  {
   "cell_type": "code",
   "execution_count": 12,
   "metadata": {
    "scrolled": true
   },
   "outputs": [
    {
     "name": "stdout",
     "output_type": "stream",
     "text": [
      "CPU times: user 267 ms, sys: 20.1 ms, total: 287 ms\n",
      "Wall time: 282 ms\n"
     ]
    }
   ],
   "source": [
    "%%time\n",
    "\n",
    "batch_size = 8192\n",
    "epochs = 100\n",
    "nflod = 5\n",
    "\n",
    "model_param = {'vocabulary_size':ecd.get_vocabulary(), \n",
    "               'feature_number': len(feature_col),\n",
    "               'activation': 'sigmoid',\n",
    "               'metrics': ['AUC'],\n",
    "               'optimizer': 'Adam',\n",
    "               'loss': 'binary_crossentropy',\n",
    "               'use_linear': False,\n",
    "               'use_deep': False}\n",
    "\n",
    "clr = CyclicLR(base_lr=0.1**(4),\n",
    "               max_lr = 0.1**(2.5), \n",
    "               step_size= int(4.0*(train_df.shape[0]*((nflod-1)/nflod)) / batch_size),\n",
    "               mode='triangular2',\n",
    "               gamma=1.0)\n",
    "\n",
    "es = tf.keras.callbacks.EarlyStopping(monitor='val_AUC', patience=3, mode='max', restore_best_weights=True)\n",
    "\n",
    "fit_param = {'batch_size': batch_size, 'epochs':epochs, 'verbose': 1, 'callbacks':[es, clr]}\n",
    "\n",
    "model = auto_int(**model_param)"
   ]
  },
  {
   "cell_type": "code",
   "execution_count": 13,
   "metadata": {
    "scrolled": true
   },
   "outputs": [
    {
     "name": "stdout",
     "output_type": "stream",
     "text": [
      "Train on 480000 samples, validate on 120000 samples\n",
      "Epoch 1/100\n",
      "480000/480000 [==============================] - 29s 61us/sample - loss: 0.6614 - AUC: 0.5025 - val_loss: 0.5482 - val_AUC: 0.4991\n",
      "Epoch 2/100\n",
      "480000/480000 [==============================] - 27s 55us/sample - loss: 0.4790 - AUC: 0.5855 - val_loss: 0.4552 - val_AUC: 0.7414\n",
      "Epoch 3/100\n",
      "480000/480000 [==============================] - 26s 55us/sample - loss: 0.4259 - AUC: 0.7632 - val_loss: 0.4015 - val_AUC: 0.7839\n",
      "Epoch 4/100\n",
      "480000/480000 [==============================] - 26s 55us/sample - loss: 0.3944 - AUC: 0.7919 - val_loss: 0.3968 - val_AUC: 0.7868\n",
      "Epoch 5/100\n",
      "480000/480000 [==============================] - 26s 55us/sample - loss: 0.3901 - AUC: 0.7969 - val_loss: 0.3973 - val_AUC: 0.7863\n",
      "Epoch 6/100\n",
      "480000/480000 [==============================] - 26s 55us/sample - loss: 0.3879 - AUC: 0.7996 - val_loss: 0.3978 - val_AUC: 0.7860\n",
      "Epoch 7/100\n",
      "480000/480000 [==============================] - 26s 55us/sample - loss: 0.3863 - AUC: 0.8015 - val_loss: 0.3977 - val_AUC: 0.7857\n",
      "folds 0 is done, score is 0.7867930378967971\n",
      "Train on 480000 samples, validate on 120000 samples\n",
      "Epoch 1/100\n",
      "480000/480000 [==============================] - 29s 60us/sample - loss: 0.5795 - AUC: 0.5056 - val_loss: 0.4738 - val_AUC: 0.6844\n",
      "Epoch 2/100\n",
      "480000/480000 [==============================] - 26s 55us/sample - loss: 0.4430 - AUC: 0.7381 - val_loss: 0.4091 - val_AUC: 0.7784\n",
      "Epoch 3/100\n",
      "480000/480000 [==============================] - 26s 55us/sample - loss: 0.3963 - AUC: 0.7890 - val_loss: 0.3973 - val_AUC: 0.7863\n",
      "Epoch 4/100\n",
      "480000/480000 [==============================] - 27s 55us/sample - loss: 0.3910 - AUC: 0.7953 - val_loss: 0.3972 - val_AUC: 0.7862\n",
      "Epoch 5/100\n",
      "480000/480000 [==============================] - 26s 55us/sample - loss: 0.3893 - AUC: 0.7973 - val_loss: 0.3975 - val_AUC: 0.7858\n",
      "Epoch 6/100\n",
      "480000/480000 [==============================] - 26s 55us/sample - loss: 0.3870 - AUC: 0.8003 - val_loss: 0.3980 - val_AUC: 0.7857\n",
      "folds 1 is done, score is 0.7863239572697331\n",
      "Train on 480000 samples, validate on 120000 samples\n",
      "Epoch 1/100\n",
      "480000/480000 [==============================] - 29s 60us/sample - loss: 0.5679 - AUC: 0.5098 - val_loss: 0.4648 - val_AUC: 0.7149\n",
      "Epoch 2/100\n",
      "480000/480000 [==============================] - 28s 57us/sample - loss: 0.4325 - AUC: 0.7527 - val_loss: 0.4011 - val_AUC: 0.7852\n",
      "Epoch 3/100\n",
      "480000/480000 [==============================] - 28s 58us/sample - loss: 0.3944 - AUC: 0.7913 - val_loss: 0.3972 - val_AUC: 0.7872\n",
      "Epoch 4/100\n",
      "480000/480000 [==============================] - 27s 57us/sample - loss: 0.3911 - AUC: 0.7952 - val_loss: 0.3973 - val_AUC: 0.7866\n",
      "Epoch 5/100\n",
      "480000/480000 [==============================] - 29s 60us/sample - loss: 0.3893 - AUC: 0.7974 - val_loss: 0.3971 - val_AUC: 0.7866\n",
      "Epoch 6/100\n",
      "480000/480000 [==============================] - 26s 54us/sample - loss: 0.3869 - AUC: 0.8003 - val_loss: 0.3977 - val_AUC: 0.7862\n",
      "folds 2 is done, score is 0.7872006600813777\n",
      "Train on 480000 samples, validate on 120000 samples\n",
      "Epoch 1/100\n",
      "480000/480000 [==============================] - 31s 65us/sample - loss: 0.5613 - AUC: 0.5153 - val_loss: 0.4636 - val_AUC: 0.7257\n",
      "Epoch 2/100\n",
      "480000/480000 [==============================] - 34s 71us/sample - loss: 0.4287 - AUC: 0.7541 - val_loss: 0.4016 - val_AUC: 0.7845\n",
      "Epoch 3/100\n",
      "480000/480000 [==============================] - 35s 73us/sample - loss: 0.3937 - AUC: 0.7921 - val_loss: 0.3976 - val_AUC: 0.7855\n",
      "Epoch 4/100\n",
      "480000/480000 [==============================] - 30s 63us/sample - loss: 0.3907 - AUC: 0.7957 - val_loss: 0.3990 - val_AUC: 0.7852\n",
      "Epoch 5/100\n",
      "480000/480000 [==============================] - 30s 63us/sample - loss: 0.3892 - AUC: 0.7975 - val_loss: 0.3979 - val_AUC: 0.7853\n",
      "Epoch 6/100\n",
      "480000/480000 [==============================] - 31s 64us/sample - loss: 0.3869 - AUC: 0.8004 - val_loss: 0.3986 - val_AUC: 0.7850\n",
      "folds 3 is done, score is 0.7856101184881716\n",
      "Train on 480000 samples, validate on 120000 samples\n",
      "Epoch 1/100\n",
      "480000/480000 [==============================] - 34s 70us/sample - loss: 0.5578 - AUC: 0.5177 - val_loss: 0.4626 - val_AUC: 0.7309\n",
      "Epoch 2/100\n",
      "480000/480000 [==============================] - 30s 63us/sample - loss: 0.4252 - AUC: 0.7569 - val_loss: 0.4002 - val_AUC: 0.7849\n",
      "Epoch 3/100\n",
      "480000/480000 [==============================] - 32s 66us/sample - loss: 0.3934 - AUC: 0.7925 - val_loss: 0.3975 - val_AUC: 0.7854\n",
      "Epoch 4/100\n",
      "480000/480000 [==============================] - 27s 57us/sample - loss: 0.3908 - AUC: 0.7957 - val_loss: 0.3978 - val_AUC: 0.7851\n",
      "Epoch 5/100\n",
      "480000/480000 [==============================] - 27s 57us/sample - loss: 0.3891 - AUC: 0.7977 - val_loss: 0.3980 - val_AUC: 0.7852\n",
      "Epoch 6/100\n",
      "480000/480000 [==============================] - 27s 55us/sample - loss: 0.3866 - AUC: 0.8010 - val_loss: 0.3986 - val_AUC: 0.7846\n",
      "folds 4 is done, score is 0.7854664177974153\n"
     ]
    }
   ],
   "source": [
    "cv = CV(model, nflod)\n",
    "\n",
    "score = cv.fit(x=[idx, val],\n",
    "               y=y_train,\n",
    "               metrics_func=roc_auc_score,\n",
    "               split_method=StratifiedKFold,\n",
    "               fit_params=fit_param,\n",
    "               eval_param={'batch_size':batch_size},\n",
    "               use_proba=False, \n",
    "               verbose=True,\n",
    "               fit_use_valid=True)\n",
    "\n",
    "tf.keras.backend.clear_session()"
   ]
  },
  {
   "cell_type": "markdown",
   "metadata": {},
   "source": [
    "# Tuning"
   ]
  },
  {
   "cell_type": "code",
   "execution_count": null,
   "metadata": {},
   "outputs": [],
   "source": [
    "%matplotlib qt5\n",
    "\n",
    "batch_size = 8192\n",
    "epochs = 100\n",
    "nflod = 5\n",
    "\n",
    "# fit param\n",
    "\n",
    "clr = CyclicLR(base_lr=0.1**(3.5),\n",
    "               max_lr = 0.1**(2.5),\n",
    "               step_size= int(4.0*(train_df.shape[0]*((nflod-1)/nflod)) / batch_size),\n",
    "               mode='triangular2',\n",
    "               gamma=1.0)\n",
    "\n",
    "es = tf.keras.callbacks.EarlyStopping(monitor='val_AUC', \n",
    "                                      patience=3,\n",
    "                                      mode='max',\n",
    "                                      restore_best_weights=True)\n",
    "\n",
    "fit_param = {\n",
    "    'batch_size': batch_size, \n",
    "    'epochs':epochs, \n",
    "    'verbose': 0,\n",
    "    'callbacks':[es, clr]\n",
    "}\n",
    "\n",
    "cv_fit_param = {'fit_params': fit_param, \n",
    "                'eval_param': {'batch_size':batch_size},\n",
    "                'use_proba':False, \n",
    "                'fit_use_valid': True}\n",
    "\n",
    "# model_fix_param & model_search_space\n",
    "model_fix_param = {'vocabulary_size':ecd.get_vocabulary(), \n",
    "                   'feature_number': len(feature_col),\n",
    "                   'activation': 'sigmoid',\n",
    "                   'metrics': ['AUC'],\n",
    "                   'optimizer': 'Adam', \n",
    "                   'use_linear': False, \n",
    "                   'use_deep': False}\n",
    "\n",
    "ss = {\n",
    "    'loss': (hp.choice, ('binary_crossentropy', 'focal_loss')), \n",
    "    'k': (hp.choice, (5, 7, 8, 10)),\n",
    "    'num_cross': (hp.choice, (1, 2, 3 ,4)),\n",
    "    'l2_em': (hp.loguniform, (-20, 0)),\n",
    "    'l2_cross': (hp.loguniform, (-20, 0))}\n",
    "\n",
    "# cv get score\n",
    "def neg_auc(y_true, y_pred):\n",
    "    return - roc_auc_score(y_true, y_pred)\n",
    "\n",
    "gs = CVGetScore(x=[idx, val],\n",
    "                y=y_train, \n",
    "                metrics_func=neg_auc,\n",
    "                split_method=StratifiedKFold,\n",
    "                nfolds=nflod, \n",
    "                random_state=2333,\n",
    "                model=dcn, \n",
    "                cv_fit_params=cv_fit_param, \n",
    "                model_fix_params=model_fix_param, \n",
    "                model_search_space=ss)\n",
    "\n",
    "tuning = Tuning(gs, verbose=1)\n",
    "tuning.fmin(gs.GET_SEARCH_SPACE(), max_evals=100)"
   ]
  },
  {
   "cell_type": "code",
   "execution_count": null,
   "metadata": {},
   "outputs": [],
   "source": [
    "log = tuning.log.get_log()"
   ]
  },
  {
   "cell_type": "code",
   "execution_count": null,
   "metadata": {
    "scrolled": true
   },
   "outputs": [],
   "source": [
    "log.sort_values('score').head(20)"
   ]
  },
  {
   "cell_type": "code",
   "execution_count": null,
   "metadata": {
    "scrolled": true
   },
   "outputs": [],
   "source": [
    "log.sort_values('score').tail(20)"
   ]
  },
  {
   "cell_type": "code",
   "execution_count": null,
   "metadata": {},
   "outputs": [],
   "source": [
    "%matplotlib inline\n",
    "tuning.log.plot(score_interval=[-0.789, -0.787])"
   ]
  },
  {
   "cell_type": "code",
   "execution_count": null,
   "metadata": {},
   "outputs": [],
   "source": [
    "np.random.randint(2**32)"
   ]
  },
  {
   "cell_type": "markdown",
   "metadata": {},
   "source": [
    "### 2072349059"
   ]
  },
  {
   "cell_type": "code",
   "execution_count": null,
   "metadata": {},
   "outputs": [],
   "source": [
    "! mkdir ../tmp/cross"
   ]
  },
  {
   "cell_type": "code",
   "execution_count": null,
   "metadata": {},
   "outputs": [],
   "source": [
    "log.to_csv('../tmp/cross/2072349059.csv', index=False)"
   ]
  },
  {
   "cell_type": "code",
   "execution_count": null,
   "metadata": {},
   "outputs": [],
   "source": [
    "batch_size = 8192\n",
    "epochs = 400\n",
    "nflod = 40\n",
    "nmodel = 5"
   ]
  },
  {
   "cell_type": "code",
   "execution_count": null,
   "metadata": {},
   "outputs": [],
   "source": [
    "# model params\n",
    "model_tuning_param = log.sort_values('score').head(nmodel).reset_index(drop=True).to_dict()\n",
    "\n",
    "model_fix_param = {'vocabulary_size':ecd.get_vocabulary(), \n",
    "                   'feature_number': len(feature_col),\n",
    "                   'activation': 'sigmoid',\n",
    "                   'metrics': ['AUC'],\n",
    "                   'optimizer': 'Adam', \n",
    "                   'use_linear': False, \n",
    "                   'use_deep': False}"
   ]
  },
  {
   "cell_type": "code",
   "execution_count": null,
   "metadata": {},
   "outputs": [],
   "source": [
    "# callbacks\n",
    "clr = CyclicLR(\n",
    "    base_lr=1e-4,\n",
    "    max_lr = 0.1**(2.5), \n",
    "    step_size= int(4.0*(train_df.shape[0]*((nflod-1)/nflod)) / batch_size),\n",
    "    mode='triangular2',\n",
    "    gamma=1.0)\n",
    "\n",
    "es = tf.keras.callbacks.EarlyStopping(monitor='val_AUC', \n",
    "                                      patience=3,\n",
    "                                      mode='max',\n",
    "                                      restore_best_weights=True)\n",
    "\n",
    "# fit\n",
    "fit_param = {\n",
    "    'batch_size': batch_size, \n",
    "    'epochs':epochs, \n",
    "    'verbose': 0,\n",
    "    'callbacks':[es, clr]\n",
    "}"
   ]
  },
  {
   "cell_type": "markdown",
   "metadata": {},
   "source": [
    "# Stacking 1"
   ]
  },
  {
   "cell_type": "code",
   "execution_count": null,
   "metadata": {
    "scrolled": false
   },
   "outputs": [],
   "source": [
    "pred_lst = []\n",
    "score_lst = []\n",
    "pred_arr_lst = []\n",
    "\n",
    "for i in range(nmodel):\n",
    "    model_params = {}\n",
    "    for param_name, param_value in model_fix_param.items():\n",
    "        model_params[param_name] = param_value\n",
    "        \n",
    "    for param_name in model_tuning_param.keys():\n",
    "        if param_name not in ['score', 'update', 'usetime', 'index']:\n",
    "            model_params[param_name] = model_tuning_param[param_name][i]\n",
    "            \n",
    "    # cv\n",
    "    model = dcn(**model_params)\n",
    "    cv = CV(model, nflod)\n",
    "    \n",
    "    score, pred_arr = cv.fit(x=[idx, val],\n",
    "                             y=y_train, \n",
    "                             metrics_func=roc_auc_score,\n",
    "                             split_method=StratifiedKFold,\n",
    "                             fit_params=fit_param,\n",
    "                             eval_param={'batch_size':batch_size},\n",
    "                             use_proba=False, \n",
    "                             verbose=True,\n",
    "                             fit_use_valid=True,\n",
    "                             output_oof_pred=True)\n",
    "    \n",
    "    pred = cv.predict(x=[idx_test, val_test], pred_param={'batch_size': batch_size})\n",
    "    \n",
    "    pred_lst.append(pred)\n",
    "    score_lst.append(score)\n",
    "    pred_arr_lst.append(pred_arr)\n",
    "    \n",
    "    print('score: ', score)\n",
    "    tf.keras.backend.clear_session()"
   ]
  },
  {
   "cell_type": "code",
   "execution_count": null,
   "metadata": {},
   "outputs": [],
   "source": [
    "pred_arr = np.array(pred_arr_lst).squeeze().T\n",
    "np.save('../tmp/cross/2072349059stacking1.npy', pred_arr)\n",
    "pred_arr.shape"
   ]
  },
  {
   "cell_type": "code",
   "execution_count": null,
   "metadata": {},
   "outputs": [],
   "source": [
    "pred = np.array(pred_lst).squeeze().T\n",
    "np.save('../tmp/cross/2072349059predict.npy', pred)\n",
    "pred.shape"
   ]
  },
  {
   "cell_type": "code",
   "execution_count": null,
   "metadata": {},
   "outputs": [],
   "source": [
    "submission = pd.read_csv('../data/sample_submission.csv', index_col='id')\n",
    "submission['target'] = np.mean(pred_lst, axis=0)\n",
    "submission.to_csv('../tmp/submission/main_5_crossnet_2072349059.csv')"
   ]
  },
  {
   "cell_type": "code",
   "execution_count": null,
   "metadata": {},
   "outputs": [],
   "source": []
  }
 ],
 "metadata": {
  "kernelspec": {
   "display_name": "Python 3",
   "language": "python",
   "name": "python3"
  },
  "language_info": {
   "codemirror_mode": {
    "name": "ipython",
    "version": 3
   },
   "file_extension": ".py",
   "mimetype": "text/x-python",
   "name": "python",
   "nbconvert_exporter": "python",
   "pygments_lexer": "ipython3",
   "version": "3.7.6"
  }
 },
 "nbformat": 4,
 "nbformat_minor": 2
}
