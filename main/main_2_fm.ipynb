{
 "cells": [
  {
   "cell_type": "markdown",
   "metadata": {},
   "source": [
    "# target encoder & ohe & FM"
   ]
  },
  {
   "cell_type": "code",
   "execution_count": 1,
   "metadata": {},
   "outputs": [],
   "source": [
    "%load_ext autoreload\n",
    "%autoreload 2\n",
    "\n",
    "import os\n",
    "import warnings\n",
    "warnings.filterwarnings('ignore')\n",
    "\n",
    "import sys\n",
    "sys.path.append(os.path.abspath('..'))\n",
    "# ---------------------------------\n",
    "import numpy as np\n",
    "import pandas as pd\n",
    "import scipy\n",
    "import tqdm\n",
    "import tensorflow as tf\n",
    "import matplotlib.pyplot as plt\n",
    "\n",
    "from category_encoders import TargetEncoder\n",
    "from sklearn.preprocessing import OneHotEncoder\n",
    "from sklearn.model_selection import StratifiedKFold\n",
    "from sklearn.linear_model import LogisticRegression, SGDRegressor\n",
    "from sklearn.metrics import roc_auc_score\n",
    "\n",
    "from hyperopt import hp\n",
    "# ---------------------------------\n",
    "from tools import CV, Tuning, CVGetScore, IdxValEncoder, fm"
   ]
  },
  {
   "cell_type": "code",
   "execution_count": 2,
   "metadata": {},
   "outputs": [],
   "source": [
    "train_df = pd.read_csv('../data/train.csv', index_col='id')\n",
    "test_df = pd.read_csv('../data/test.csv', index_col='id')\n",
    "\n",
    "# ord_5\n",
    "for i in range(2):\n",
    "    train_df[f'ord_5_{i}'] = train_df['ord_5'].str[i]\n",
    "    test_df[f'ord_5_{i}'] = test_df['ord_5'].str[i]\n",
    "\n",
    "# fillna\n",
    "for col in test_df.columns:\n",
    "    train_df[col].fillna(train_df[col].mode()[0], inplace=True)\n",
    "    test_df[col].fillna(test_df[col].mode()[0], inplace=True)\n",
    "\n",
    "# target\n",
    "target = train_df['target']\n",
    "y_train = target.values\n",
    "\n",
    "# drop\n",
    "train_df.drop(['target', 'ord_5'], axis=1, inplace=True)\n",
    "test_df.drop(['ord_5'], axis=1, inplace=True)"
   ]
  },
  {
   "cell_type": "code",
   "execution_count": 3,
   "metadata": {},
   "outputs": [],
   "source": [
    "feature_col = train_df.columns\n",
    "\n",
    "bin_col = ['bin_0', 'bin_1', 'bin_2', 'bin_3', 'bin_4']\n",
    "\n",
    "class_col = ['nom_0', 'nom_1', 'nom_2', 'nom_3', 'nom_4',\n",
    "             'nom_5', 'nom_6', 'nom_7', 'nom_8', 'nom_9',\n",
    "             'ord_0', 'ord_1', 'ord_2', 'ord_3', 'ord_4',\n",
    "             'day', 'month', 'ord_5_0', 'ord_5_1']"
   ]
  },
  {
   "cell_type": "code",
   "execution_count": 4,
   "metadata": {},
   "outputs": [],
   "source": [
    "for col in bin_col:\n",
    "    map_dict = dict(zip(train_df[col].unique(), [0., 1.]))\n",
    "    train_df[col] = train_df[col].map(map_dict)\n",
    "    test_df[col] = test_df[col].map(map_dict)"
   ]
  },
  {
   "cell_type": "code",
   "execution_count": 5,
   "metadata": {},
   "outputs": [
    {
     "name": "stderr",
     "output_type": "stream",
     "text": [
      "600000it [00:11, 52988.03it/s]\n"
     ]
    }
   ],
   "source": [
    "ecd = IdxValEncoder(feature_col, bin_col, class_col)\n",
    "ecd.fit(train_df, verbose=1)"
   ]
  },
  {
   "cell_type": "code",
   "execution_count": 6,
   "metadata": {},
   "outputs": [
    {
     "name": "stderr",
     "output_type": "stream",
     "text": [
      "400000it [00:07, 50999.62it/s]\n"
     ]
    }
   ],
   "source": [
    "ecd.fit(test_df, verbose=1)"
   ]
  },
  {
   "cell_type": "code",
   "execution_count": 7,
   "metadata": {},
   "outputs": [
    {
     "name": "stderr",
     "output_type": "stream",
     "text": [
      "600000it [00:12, 48977.80it/s]\n",
      "400000it [00:08, 49766.02it/s]\n"
     ]
    }
   ],
   "source": [
    "idx, val = ecd.transform(train_df, verbose=1)\n",
    "idx_test, val_test = ecd.transform(test_df, verbose=1)"
   ]
  },
  {
   "cell_type": "markdown",
   "metadata": {},
   "source": [
    "# fit one"
   ]
  },
  {
   "cell_type": "code",
   "execution_count": 16,
   "metadata": {
    "scrolled": true
   },
   "outputs": [
    {
     "name": "stdout",
     "output_type": "stream",
     "text": [
      "Train on 480000 samples, validate on 120000 samples\n",
      "Epoch 1/100\n",
      "480000/480000 [==============================] - 3s 6us/sample - loss: 45.6115 - AUC: 0.5068 - val_loss: 3.5221 - val_AUC: 0.5348\n",
      "Epoch 2/100\n",
      "480000/480000 [==============================] - 2s 4us/sample - loss: 1.6631 - AUC: 0.5565 - val_loss: 1.1915 - val_AUC: 0.6141\n",
      "Epoch 3/100\n",
      "480000/480000 [==============================] - 2s 4us/sample - loss: 1.1778 - AUC: 0.6586 - val_loss: 1.1596 - val_AUC: 0.6932\n",
      "Epoch 4/100\n",
      "480000/480000 [==============================] - 2s 4us/sample - loss: 1.1638 - AUC: 0.7229 - val_loss: 1.1517 - val_AUC: 0.7354\n",
      "Epoch 5/100\n",
      "480000/480000 [==============================] - 2s 3us/sample - loss: 1.1511 - AUC: 0.7538 - val_loss: 1.1521 - val_AUC: 0.7552\n",
      "Epoch 6/100\n",
      "480000/480000 [==============================] - 2s 3us/sample - loss: 1.1398 - AUC: 0.7686 - val_loss: 1.1452 - val_AUC: 0.7650\n",
      "Epoch 7/100\n",
      "480000/480000 [==============================] - 2s 3us/sample - loss: 1.1278 - AUC: 0.7763 - val_loss: 1.1300 - val_AUC: 0.7702\n",
      "Epoch 8/100\n",
      "480000/480000 [==============================] - 2s 3us/sample - loss: 1.1193 - AUC: 0.7807 - val_loss: 1.1144 - val_AUC: 0.7736\n",
      "Epoch 9/100\n",
      "480000/480000 [==============================] - 2s 3us/sample - loss: 1.1119 - AUC: 0.7837 - val_loss: 1.1052 - val_AUC: 0.7758\n",
      "Epoch 10/100\n",
      "480000/480000 [==============================] - 2s 3us/sample - loss: 1.1044 - AUC: 0.7857 - val_loss: 1.1057 - val_AUC: 0.7774\n",
      "Epoch 11/100\n",
      "480000/480000 [==============================] - 2s 4us/sample - loss: 1.0992 - AUC: 0.7873 - val_loss: 1.1030 - val_AUC: 0.7787\n",
      "Epoch 12/100\n",
      "480000/480000 [==============================] - 2s 4us/sample - loss: 1.0938 - AUC: 0.7886 - val_loss: 1.1052 - val_AUC: 0.7796\n",
      "Epoch 13/100\n",
      "480000/480000 [==============================] - 2s 4us/sample - loss: 1.0896 - AUC: 0.7895 - val_loss: 1.0940 - val_AUC: 0.7804\n",
      "Epoch 14/100\n",
      "480000/480000 [==============================] - 2s 4us/sample - loss: 1.0838 - AUC: 0.7904 - val_loss: 1.0783 - val_AUC: 0.7810\n",
      "Epoch 15/100\n",
      "480000/480000 [==============================] - 2s 4us/sample - loss: 1.0788 - AUC: 0.7911 - val_loss: 1.0727 - val_AUC: 0.7816\n",
      "Epoch 16/100\n",
      "480000/480000 [==============================] - 2s 4us/sample - loss: 1.0751 - AUC: 0.7918 - val_loss: 1.0712 - val_AUC: 0.7821\n",
      "Epoch 17/100\n",
      "480000/480000 [==============================] - 2s 4us/sample - loss: 1.0726 - AUC: 0.7923 - val_loss: 1.0826 - val_AUC: 0.7825\n",
      "Epoch 18/100\n",
      "480000/480000 [==============================] - 2s 4us/sample - loss: 1.0718 - AUC: 0.7928 - val_loss: 1.0793 - val_AUC: 0.7829\n",
      "Epoch 19/100\n",
      "480000/480000 [==============================] - 2s 4us/sample - loss: 1.0716 - AUC: 0.7933 - val_loss: 1.0764 - val_AUC: 0.7832\n",
      "Epoch 20/100\n",
      "480000/480000 [==============================] - 2s 4us/sample - loss: 1.0726 - AUC: 0.7937 - val_loss: 1.0753 - val_AUC: 0.7834\n",
      "Epoch 21/100\n",
      "480000/480000 [==============================] - 2s 4us/sample - loss: 1.0737 - AUC: 0.7941 - val_loss: 1.0772 - val_AUC: 0.7837\n",
      "Epoch 22/100\n",
      "480000/480000 [==============================] - 2s 4us/sample - loss: 1.0738 - AUC: 0.7944 - val_loss: 1.0818 - val_AUC: 0.7839\n",
      "Epoch 23/100\n",
      "480000/480000 [==============================] - 2s 4us/sample - loss: 1.0743 - AUC: 0.7947 - val_loss: 1.0814 - val_AUC: 0.7841\n",
      "Epoch 24/100\n",
      "480000/480000 [==============================] - 2s 4us/sample - loss: 1.0736 - AUC: 0.7950 - val_loss: 1.0813 - val_AUC: 0.7843\n",
      "Epoch 25/100\n",
      "480000/480000 [==============================] - 2s 4us/sample - loss: 1.0729 - AUC: 0.7953 - val_loss: 1.0809 - val_AUC: 0.7844\n",
      "Epoch 26/100\n",
      "480000/480000 [==============================] - 2s 4us/sample - loss: 1.0720 - AUC: 0.7955 - val_loss: 1.0803 - val_AUC: 0.7845\n",
      "Epoch 27/100\n",
      "480000/480000 [==============================] - 2s 4us/sample - loss: 1.0711 - AUC: 0.7957 - val_loss: 1.0756 - val_AUC: 0.7845\n",
      "Epoch 28/100\n",
      "480000/480000 [==============================] - 2s 4us/sample - loss: 1.0718 - AUC: 0.7959 - val_loss: 1.0719 - val_AUC: 0.7846\n",
      "Epoch 29/100\n",
      "480000/480000 [==============================] - 2s 4us/sample - loss: 1.0707 - AUC: 0.7961 - val_loss: 1.0766 - val_AUC: 0.7847\n",
      "Epoch 30/100\n",
      "480000/480000 [==============================] - 2s 4us/sample - loss: 1.0709 - AUC: 0.7963 - val_loss: 1.0811 - val_AUC: 0.7848\n",
      "Epoch 31/100\n",
      "480000/480000 [==============================] - 2s 4us/sample - loss: 1.0718 - AUC: 0.7964 - val_loss: 1.0825 - val_AUC: 0.7847\n",
      "Epoch 32/100\n",
      "480000/480000 [==============================] - 2s 4us/sample - loss: 1.0718 - AUC: 0.7965 - val_loss: 1.0777 - val_AUC: 0.7848\n",
      "folds 0 is done, score is 0.7848364017927372\n",
      "Train on 480000 samples, validate on 120000 samples\n",
      "Epoch 1/100\n",
      "480000/480000 [==============================] - 3s 6us/sample - loss: 22.2618 - AUC: 0.5834 - val_loss: 3.8185 - val_AUC: 0.7502\n",
      "Epoch 2/100\n",
      "480000/480000 [==============================] - 2s 4us/sample - loss: 2.9560 - AUC: 0.7722 - val_loss: 2.4216 - val_AUC: 0.7742\n",
      "Epoch 3/100\n",
      "480000/480000 [==============================] - 2s 4us/sample - loss: 2.3193 - AUC: 0.7851 - val_loss: 2.1331 - val_AUC: 0.7792\n",
      "Epoch 4/100\n",
      "480000/480000 [==============================] - 2s 4us/sample - loss: 2.0308 - AUC: 0.7888 - val_loss: 1.9225 - val_AUC: 0.7812\n",
      "Epoch 5/100\n",
      "480000/480000 [==============================] - 2s 4us/sample - loss: 1.8504 - AUC: 0.7907 - val_loss: 1.8067 - val_AUC: 0.7823\n",
      "Epoch 6/100\n",
      "480000/480000 [==============================] - 2s 4us/sample - loss: 1.7251 - AUC: 0.7919 - val_loss: 1.6756 - val_AUC: 0.7832\n",
      "Epoch 7/100\n",
      "480000/480000 [==============================] - 2s 4us/sample - loss: 1.6319 - AUC: 0.7929 - val_loss: 1.5993 - val_AUC: 0.7837\n",
      "Epoch 8/100\n",
      "480000/480000 [==============================] - 2s 4us/sample - loss: 1.5592 - AUC: 0.7935 - val_loss: 1.5131 - val_AUC: 0.7841\n",
      "Epoch 9/100\n",
      "480000/480000 [==============================] - 2s 4us/sample - loss: 1.5002 - AUC: 0.7941 - val_loss: 1.4784 - val_AUC: 0.7844\n",
      "Epoch 10/100\n",
      "480000/480000 [==============================] - 2s 4us/sample - loss: 1.4529 - AUC: 0.7946 - val_loss: 1.4644 - val_AUC: 0.7847\n",
      "Epoch 11/100\n",
      "480000/480000 [==============================] - 2s 4us/sample - loss: 1.4128 - AUC: 0.7950 - val_loss: 1.4170 - val_AUC: 0.7849\n",
      "Epoch 12/100\n",
      "480000/480000 [==============================] - 2s 4us/sample - loss: 1.3783 - AUC: 0.7953 - val_loss: 1.4091 - val_AUC: 0.7849\n",
      "Epoch 13/100\n",
      "480000/480000 [==============================] - 2s 4us/sample - loss: 1.3483 - AUC: 0.7956 - val_loss: 1.3401 - val_AUC: 0.7850\n",
      "Epoch 14/100\n",
      "480000/480000 [==============================] - 2s 4us/sample - loss: 1.3214 - AUC: 0.7958 - val_loss: 1.2967 - val_AUC: 0.7852\n",
      "Epoch 15/100\n",
      "480000/480000 [==============================] - 2s 4us/sample - loss: 1.3001 - AUC: 0.7961 - val_loss: 1.2728 - val_AUC: 0.7852\n",
      "Epoch 16/100\n",
      "480000/480000 [==============================] - 2s 4us/sample - loss: 1.2816 - AUC: 0.7962 - val_loss: 1.2771 - val_AUC: 0.7852\n",
      "Epoch 17/100\n",
      "480000/480000 [==============================] - 2s 4us/sample - loss: 1.2654 - AUC: 0.7964 - val_loss: 1.2600 - val_AUC: 0.7852\n",
      "Epoch 18/100\n",
      "480000/480000 [==============================] - 2s 4us/sample - loss: 1.2522 - AUC: 0.7966 - val_loss: 1.2688 - val_AUC: 0.7852\n",
      "folds 1 is done, score is 0.7852680843465175\n",
      "Train on 480000 samples, validate on 120000 samples\n",
      "Epoch 1/100\n",
      "480000/480000 [==============================] - 3s 7us/sample - loss: 22.2040 - AUC: 0.5875 - val_loss: 3.8538 - val_AUC: 0.7537\n",
      "Epoch 2/100\n",
      "480000/480000 [==============================] - 2s 4us/sample - loss: 3.0928 - AUC: 0.7742 - val_loss: 2.5250 - val_AUC: 0.7753\n",
      "Epoch 3/100\n",
      "480000/480000 [==============================] - 2s 4us/sample - loss: 2.4277 - AUC: 0.7859 - val_loss: 2.2180 - val_AUC: 0.7797\n",
      "Epoch 4/100\n",
      "480000/480000 [==============================] - 2s 4us/sample - loss: 2.1177 - AUC: 0.7894 - val_loss: 2.0011 - val_AUC: 0.7816\n",
      "Epoch 5/100\n",
      "480000/480000 [==============================] - 2s 4us/sample - loss: 1.9227 - AUC: 0.7912 - val_loss: 1.8757 - val_AUC: 0.7827\n",
      "Epoch 6/100\n",
      "480000/480000 [==============================] - 2s 4us/sample - loss: 1.7877 - AUC: 0.7924 - val_loss: 1.7562 - val_AUC: 0.7834\n",
      "Epoch 7/100\n"
     ]
    },
    {
     "name": "stdout",
     "output_type": "stream",
     "text": [
      "480000/480000 [==============================] - 2s 4us/sample - loss: 1.6870 - AUC: 0.7932 - val_loss: 1.6637 - val_AUC: 0.7839\n",
      "Epoch 8/100\n",
      "480000/480000 [==============================] - 2s 4us/sample - loss: 1.6091 - AUC: 0.7939 - val_loss: 1.5410 - val_AUC: 0.7843\n",
      "Epoch 9/100\n",
      "480000/480000 [==============================] - 2s 4us/sample - loss: 1.5452 - AUC: 0.7944 - val_loss: 1.5111 - val_AUC: 0.7846\n",
      "Epoch 10/100\n",
      "480000/480000 [==============================] - 2s 4us/sample - loss: 1.4940 - AUC: 0.7948 - val_loss: 1.5065 - val_AUC: 0.7847\n",
      "Epoch 11/100\n",
      "480000/480000 [==============================] - 2s 4us/sample - loss: 1.4502 - AUC: 0.7953 - val_loss: 1.4557 - val_AUC: 0.7849\n",
      "Epoch 12/100\n",
      "480000/480000 [==============================] - 2s 4us/sample - loss: 1.4123 - AUC: 0.7956 - val_loss: 1.4425 - val_AUC: 0.7850\n",
      "Epoch 13/100\n",
      "480000/480000 [==============================] - 2s 4us/sample - loss: 1.3800 - AUC: 0.7958 - val_loss: 1.3648 - val_AUC: 0.7850\n",
      "Epoch 14/100\n",
      "480000/480000 [==============================] - 2s 4us/sample - loss: 1.3524 - AUC: 0.7961 - val_loss: 1.3409 - val_AUC: 0.7851\n",
      "Epoch 15/100\n",
      "480000/480000 [==============================] - 2s 4us/sample - loss: 1.3293 - AUC: 0.7963 - val_loss: 1.2965 - val_AUC: 0.7851\n",
      "Epoch 16/100\n",
      "480000/480000 [==============================] - 2s 4us/sample - loss: 1.3087 - AUC: 0.7965 - val_loss: 1.3127 - val_AUC: 0.7850\n",
      "folds 2 is done, score is 0.7851224876604701\n",
      "Train on 480000 samples, validate on 120000 samples\n",
      "Epoch 1/100\n",
      "480000/480000 [==============================] - 3s 6us/sample - loss: 22.1525 - AUC: 0.5900 - val_loss: 3.9131 - val_AUC: 0.7551\n",
      "Epoch 2/100\n",
      "480000/480000 [==============================] - 2s 4us/sample - loss: 3.1371 - AUC: 0.7750 - val_loss: 2.5605 - val_AUC: 0.7756\n",
      "Epoch 3/100\n",
      "480000/480000 [==============================] - 2s 4us/sample - loss: 2.4578 - AUC: 0.7865 - val_loss: 2.2365 - val_AUC: 0.7796\n",
      "Epoch 4/100\n",
      "480000/480000 [==============================] - 2s 4us/sample - loss: 2.1412 - AUC: 0.7899 - val_loss: 2.0206 - val_AUC: 0.7813\n",
      "Epoch 5/100\n",
      "480000/480000 [==============================] - 2s 4us/sample - loss: 1.9428 - AUC: 0.7916 - val_loss: 1.8951 - val_AUC: 0.7823\n",
      "Epoch 6/100\n",
      "480000/480000 [==============================] - 2s 4us/sample - loss: 1.8058 - AUC: 0.7928 - val_loss: 1.7752 - val_AUC: 0.7829\n",
      "Epoch 7/100\n",
      "480000/480000 [==============================] - 2s 4us/sample - loss: 1.7026 - AUC: 0.7936 - val_loss: 1.6787 - val_AUC: 0.7834\n",
      "Epoch 8/100\n",
      "480000/480000 [==============================] - 2s 4us/sample - loss: 1.6231 - AUC: 0.7942 - val_loss: 1.5578 - val_AUC: 0.7836\n",
      "Epoch 9/100\n",
      "480000/480000 [==============================] - 2s 4us/sample - loss: 1.5574 - AUC: 0.7947 - val_loss: 1.5325 - val_AUC: 0.7839\n",
      "Epoch 10/100\n",
      "480000/480000 [==============================] - 2s 4us/sample - loss: 1.5062 - AUC: 0.7951 - val_loss: 1.5182 - val_AUC: 0.7840\n",
      "Epoch 11/100\n",
      "480000/480000 [==============================] - 2s 4us/sample - loss: 1.4605 - AUC: 0.7955 - val_loss: 1.4610 - val_AUC: 0.7841\n",
      "Epoch 12/100\n",
      "480000/480000 [==============================] - 2s 4us/sample - loss: 1.4214 - AUC: 0.7958 - val_loss: 1.4521 - val_AUC: 0.7842\n",
      "Epoch 13/100\n",
      "480000/480000 [==============================] - 2s 4us/sample - loss: 1.3897 - AUC: 0.7961 - val_loss: 1.3735 - val_AUC: 0.7842\n",
      "Epoch 14/100\n",
      "480000/480000 [==============================] - 2s 4us/sample - loss: 1.3612 - AUC: 0.7963 - val_loss: 1.3535 - val_AUC: 0.7842\n",
      "Epoch 15/100\n",
      "480000/480000 [==============================] - 2s 4us/sample - loss: 1.3376 - AUC: 0.7965 - val_loss: 1.3018 - val_AUC: 0.7843\n",
      "Epoch 16/100\n",
      "480000/480000 [==============================] - 2s 4us/sample - loss: 1.3170 - AUC: 0.7967 - val_loss: 1.3237 - val_AUC: 0.7842\n",
      "Epoch 17/100\n",
      "480000/480000 [==============================] - 2s 4us/sample - loss: 1.3001 - AUC: 0.7968 - val_loss: 1.2827 - val_AUC: 0.7842\n",
      "folds 3 is done, score is 0.7842939285800957\n",
      "Train on 480000 samples, validate on 120000 samples\n",
      "Epoch 1/100\n",
      "480000/480000 [==============================] - 3s 7us/sample - loss: 22.1402 - AUC: 0.5888 - val_loss: 3.9174 - val_AUC: 0.7551\n",
      "Epoch 2/100\n",
      "480000/480000 [==============================] - 2s 4us/sample - loss: 3.1538 - AUC: 0.7756 - val_loss: 2.5742 - val_AUC: 0.7749\n",
      "Epoch 3/100\n",
      "480000/480000 [==============================] - 2s 4us/sample - loss: 2.4709 - AUC: 0.7866 - val_loss: 2.2451 - val_AUC: 0.7791\n",
      "Epoch 4/100\n",
      "480000/480000 [==============================] - 2s 4us/sample - loss: 2.1502 - AUC: 0.7899 - val_loss: 2.0331 - val_AUC: 0.7809\n",
      "Epoch 5/100\n",
      "480000/480000 [==============================] - 2s 4us/sample - loss: 1.9510 - AUC: 0.7917 - val_loss: 1.9084 - val_AUC: 0.7820\n",
      "Epoch 6/100\n",
      "480000/480000 [==============================] - 2s 4us/sample - loss: 1.8128 - AUC: 0.7928 - val_loss: 1.7813 - val_AUC: 0.7826\n",
      "Epoch 7/100\n",
      "480000/480000 [==============================] - 2s 4us/sample - loss: 1.7085 - AUC: 0.7937 - val_loss: 1.6879 - val_AUC: 0.7831\n",
      "Epoch 8/100\n",
      "480000/480000 [==============================] - 2s 4us/sample - loss: 1.6288 - AUC: 0.7943 - val_loss: 1.5643 - val_AUC: 0.7834\n",
      "Epoch 9/100\n",
      "480000/480000 [==============================] - 2s 4us/sample - loss: 1.5625 - AUC: 0.7948 - val_loss: 1.5340 - val_AUC: 0.7836\n",
      "Epoch 10/100\n",
      "480000/480000 [==============================] - 2s 4us/sample - loss: 1.5113 - AUC: 0.7953 - val_loss: 1.5231 - val_AUC: 0.7838\n",
      "Epoch 11/100\n",
      "480000/480000 [==============================] - 2s 4us/sample - loss: 1.4653 - AUC: 0.7956 - val_loss: 1.4689 - val_AUC: 0.7839\n",
      "Epoch 12/100\n",
      "480000/480000 [==============================] - 2s 4us/sample - loss: 1.4260 - AUC: 0.7959 - val_loss: 1.4593 - val_AUC: 0.7840\n",
      "Epoch 13/100\n",
      "480000/480000 [==============================] - 2s 4us/sample - loss: 1.3931 - AUC: 0.7962 - val_loss: 1.3721 - val_AUC: 0.7840\n",
      "Epoch 14/100\n",
      "480000/480000 [==============================] - 2s 4us/sample - loss: 1.3643 - AUC: 0.7964 - val_loss: 1.3545 - val_AUC: 0.7841\n",
      "Epoch 15/100\n",
      "480000/480000 [==============================] - 2s 4us/sample - loss: 1.3408 - AUC: 0.7966 - val_loss: 1.3099 - val_AUC: 0.7841\n",
      "Epoch 16/100\n",
      "480000/480000 [==============================] - 2s 4us/sample - loss: 1.3192 - AUC: 0.7968 - val_loss: 1.3234 - val_AUC: 0.7841\n",
      "folds 4 is done, score is 0.7841165182464418\n"
     ]
    },
    {
     "data": {
      "text/plain": [
       "0.7847274841252525"
      ]
     },
     "execution_count": 16,
     "metadata": {},
     "output_type": "execute_result"
    }
   ],
   "source": [
    "learning_rate =1e-3\n",
    "batch_size =  8192\n",
    "epochs = 100\n",
    "patience = 2\n",
    "\n",
    "model_param = {'vocabulary_size':ecd.get_vocabulary(), \n",
    "               'feature_number': len(feature_col),\n",
    "               'activation': 'sigmoid',\n",
    "               'metrics': ['AUC'],\n",
    "               'optimizer': tf.keras.optimizers.Adam(learning_rate=learning_rate),\n",
    "               'loss': tf.keras.losses.BinaryCrossentropy(),\n",
    "               'l1_linear':0.,\n",
    "               'l2_linear': 0.,\n",
    "               'l1_pair':0.1, \n",
    "               'l2_pair':0.1}\n",
    "\n",
    "callback = tf.keras.callbacks.EarlyStopping(monitor='val_AUC', patience=patience, mode='max')\n",
    "fit_param = {'batch_size': 8192, 'epochs':epochs, 'verbose': 1, 'callbacks':[callback]}\n",
    "\n",
    "model = fm(**model_param)\n",
    "\n",
    "cv = CV(model, 5)\n",
    "\n",
    "cv.fit(x=[idx, val],\n",
    "       y=y_train, \n",
    "       metrics_func=roc_auc_score,\n",
    "       split_method=StratifiedKFold,\n",
    "       fit_params=fit_param,\n",
    "       eval_param={'batch_size':batch_size},\n",
    "       use_proba=False, \n",
    "       verbose=True,\n",
    "       fit_use_valid=True)"
   ]
  },
  {
   "cell_type": "code",
   "execution_count": 18,
   "metadata": {},
   "outputs": [
    {
     "data": {
      "text/plain": [
       "[array([[ 8.68425705e-05,  1.25098130e-04,  7.61014744e-05, ...,\n",
       "          9.10201124e-05, -1.59656542e-04, -6.46640401e-05],\n",
       "        [-5.85156740e-05,  1.71531108e-04, -1.08824315e-04, ...,\n",
       "         -4.87733923e-05, -1.64253106e-05, -2.03166943e-04],\n",
       "        [-1.33402224e-04, -5.59204054e-05,  1.80689502e-04, ...,\n",
       "          1.30275526e-04,  9.61374972e-05, -5.60243061e-05],\n",
       "        ...,\n",
       "        [-4.48581413e-05,  2.59245804e-04,  3.10742325e-05, ...,\n",
       "          1.28844476e-04,  2.72234087e-04, -3.86328866e-05],\n",
       "        [-4.81687384e-05, -1.95962450e-04, -9.99568874e-06, ...,\n",
       "         -1.21068224e-05, -4.66797865e-05,  1.37649200e-04],\n",
       "        [-2.49055040e-04,  2.49408477e-04, -2.40813155e-04, ...,\n",
       "          2.54910119e-05, -6.70916997e-05,  1.31026318e-04]], dtype=float32),\n",
       " array([[-0.21192501],\n",
       "        [ 0.17532426],\n",
       "        [-0.26370415],\n",
       "        ...,\n",
       "        [-0.19879094],\n",
       "        [ 0.03098572],\n",
       "        [-0.04212531]], dtype=float32)]"
      ]
     },
     "execution_count": 18,
     "metadata": {},
     "output_type": "execute_result"
    }
   ],
   "source": [
    "model_lst = cv.model\n",
    "model_lst[0].get_weights()"
   ]
  },
  {
   "cell_type": "markdown",
   "metadata": {},
   "source": [
    "# Tuning"
   ]
  },
  {
   "cell_type": "code",
   "execution_count": 10,
   "metadata": {},
   "outputs": [
    {
     "name": "stdout",
     "output_type": "stream",
     "text": [
      "new best, eval 1, score -0.7834, param {'l1_pair': 2.1383198575114704e-05, 'l2_pair': 0.0001182810995421841, 'loss': 'MSE'}\n",
      "new best, eval 2, score -0.7839, param {'l1_pair': 0.010410431935348215, 'l2_pair': 0.6275871054712372, 'loss': 'MSE'}\n",
      "new best, eval 3, score -0.7839, param {'l1_pair': 5.286715429147466e-07, 'l2_pair': 0.10579294525493872, 'loss': 'MSE'}\n",
      "new best, eval 7, score -0.7839, param {'l1_pair': 0.02304106494804331, 'l2_pair': 7.0123606439973846e-09, 'loss': 'MSE'}\n",
      "new best, eval 10, score -0.7848, param {'l1_pair': 0.0015827326602032652, 'l2_pair': 0.04932812485248445, 'loss': <tensorflow.python.keras.losses.BinaryCrossentropy object at 0x7f8128cd5fd0>}\n",
      "new best, eval 21, score -0.7848, param {'l1_pair': 0.7797287497562283, 'l2_pair': 0.001122653710865107, 'loss': <tensorflow.python.keras.losses.BinaryCrossentropy object at 0x7f8128cd5fd0>}\n",
      "new best, eval 24, score -0.7848, param {'l1_pair': 0.17657790128622586, 'l2_pair': 0.0010659965034824086, 'loss': <tensorflow.python.keras.losses.BinaryCrossentropy object at 0x7f8128cd5fd0>}\n",
      "new best, eval 29, score -0.7849, param {'l1_pair': 0.0043477921481847245, 'l2_pair': 0.00012756758615348364, 'loss': <tensorflow.python.keras.losses.BinaryCrossentropy object at 0x7f8128cd5fd0>}\n",
      "new best, eval 81, score -0.7849, param {'l1_pair': 0.17806231899592775, 'l2_pair': 0.010142810617512113, 'loss': <tensorflow.python.keras.losses.BinaryCrossentropy object at 0x7f8128cd5fd0>}\n",
      "100%|██████████| 100/100 [3:31:16<00:00, 126.76s/trial, best loss: -0.7848651393812484]\n"
     ]
    },
    {
     "data": {
      "text/plain": [
       "{'l1': 0.17806231899592775, 'l2': 0.010142810617512113, 'loss': 1}"
      ]
     },
     "execution_count": 10,
     "metadata": {},
     "output_type": "execute_result"
    }
   ],
   "source": [
    "# fit param\n",
    "callback = tf.keras.callbacks.EarlyStopping(monitor='val_AUC', patience=2, mode='max')\n",
    "fit_param = {'batch_size': 8192, 'epochs':100, 'verbose': 0, 'callbacks':[callback]}\n",
    "\n",
    "cv_fit_param = {'fit_params': fit_param, \n",
    "                'eval_param': {'batch_size':8192},\n",
    "                'use_proba':False, \n",
    "                'fit_use_valid': True}\n",
    "\n",
    "# model_fix_param & model_search_space\n",
    "opt = tf.keras.optimizers.Adam(learning_rate=1e-3)\n",
    "\n",
    "model_fix_param = {'vocabulary_size':ecd.get_vocabulary(), \n",
    "                   'feature_number': len(feature_col),\n",
    "                   'activation': 'sigmoid',\n",
    "                   'metrics': ['AUC'],\n",
    "                   'optimizer': opt, \n",
    "                   'k': 10}\n",
    "\n",
    "model_search_space = {'loss': hp.choice('loss', ['MSE', tf.keras.losses.BinaryCrossentropy()]),\n",
    "                      'l1_pair': hp.loguniform('l1', -20, 0),\n",
    "                      'l2_pair': hp.loguniform('l2', -20, 0)}\n",
    "\n",
    "# cv get score\n",
    "def neg_auc(y_true, y_pred):\n",
    "    return - roc_auc_score(y_true, y_pred)\n",
    "\n",
    "gs = CVGetScore(x=[idx, val],\n",
    "                y=y_train, \n",
    "                metrics_func=neg_auc,\n",
    "                split_method=StratifiedKFold,\n",
    "                nfolds=5, \n",
    "                random_state=2333,\n",
    "                model=fm, \n",
    "                cv_fit_params=cv_fit_param, \n",
    "                model_fix_params=model_fix_param, \n",
    "                model_search_space=model_search_space)\n",
    "\n",
    "tuning = Tuning(gs, verbose=1)\n",
    "tuning.fmin(gs.GET_SEARCH_SPACE(), max_evals=100)"
   ]
  },
  {
   "cell_type": "code",
   "execution_count": null,
   "metadata": {},
   "outputs": [],
   "source": [
    "{'l1': 0.17806231899592775, 'l2': 0.010142810617512113, 'loss': 1}"
   ]
  },
  {
   "cell_type": "code",
   "execution_count": 11,
   "metadata": {},
   "outputs": [
    {
     "data": {
      "image/png": "[encoded data removed]",
      "text/plain": [
       "<Figure size 1008x1008 with 3 Axes>"
      ]
     },
     "metadata": {
      "needs_background": "light"
     },
     "output_type": "display_data"
    }
   ],
   "source": [
    "tuning.log.plot()"
   ]
  },
  {
   "cell_type": "code",
   "execution_count": null,
   "metadata": {},
   "outputs": [],
   "source": [
    "opt = tf.keras.optimizers.Adam(learning_rate=1e-4)\n",
    "\n",
    "model = linear_regression(vocabulary_size=ecd.get_vocabulary(), \n",
    "                          feature_number=len(feature_col),, \n",
    "                          activation='sigmoid',\n",
    "                          loss='mse',\n",
    "                          metrics=['AUC'],\n",
    "                          optimizer=opt, \n",
    "                          l1=0., l2=0.)"
   ]
  },
  {
   "cell_type": "code",
   "execution_count": null,
   "metadata": {},
   "outputs": [],
   "source": [
    "callback = tf.keras.callbacks.EarlyStopping(monitor='val_AUC', patience=5, mode='max')\n",
    "fit_param = {'batch_size':1024, 'epochs':20, 'verbose': 1, 'callbacks':[callback]}"
   ]
  },
  {
   "cell_type": "code",
   "execution_count": null,
   "metadata": {
    "scrolled": true
   },
   "outputs": [],
   "source": [
    "pred_param = {'batch_size':1024}\n",
    "\n",
    "cv = CV(model, 5)\n",
    "\n",
    "cv.fit(x=[idx, val],\n",
    "       y=y_train, \n",
    "       metrics_func=roc_auc_score,\n",
    "       split_method=StratifiedKFold,\n",
    "       fit_params=fit_param,\n",
    "       eval_param=pred_param,\n",
    "       use_proba=False, \n",
    "       verbose=True,\n",
    "       fit_use_valid=True)"
   ]
  },
  {
   "cell_type": "code",
   "execution_count": null,
   "metadata": {},
   "outputs": [],
   "source": [
    "np.exp(-10)"
   ]
  },
  {
   "cell_type": "code",
   "execution_count": null,
   "metadata": {},
   "outputs": [],
   "source": []
  }
 ],
 "metadata": {
  "kernelspec": {
   "display_name": "Python 3",
   "language": "python",
   "name": "python3"
  },
  "language_info": {
   "codemirror_mode": {
    "name": "ipython",
    "version": 3
   },
   "file_extension": ".py",
   "mimetype": "text/x-python",
   "name": "python",
   "nbconvert_exporter": "python",
   "pygments_lexer": "ipython3",
   "version": "3.7.6"
  }
 },
 "nbformat": 4,
 "nbformat_minor": 2
}
