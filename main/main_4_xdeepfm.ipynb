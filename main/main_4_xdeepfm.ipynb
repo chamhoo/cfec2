{
 "cells": [
  {
   "cell_type": "markdown",
   "metadata": {},
   "source": [
    "# target encoder & ohe & xDeepFM - basic"
   ]
  },
  {
   "cell_type": "code",
   "execution_count": 1,
   "metadata": {},
   "outputs": [],
   "source": [
    "%load_ext autoreload\n",
    "%autoreload 2\n",
    "\n",
    "import os\n",
    "import warnings\n",
    "warnings.filterwarnings('ignore')\n",
    "\n",
    "import sys\n",
    "sys.path.append(os.path.abspath('..'))\n",
    "# ---------------------------------\n",
    "from time import sleep\n",
    "import numpy as np\n",
    "import pandas as pd\n",
    "import scipy\n",
    "import tqdm\n",
    "import tensorflow as tf\n",
    "from tensorflow.keras.layers import Activation\n",
    "import matplotlib.pyplot as plt\n",
    "\n",
    "from sklearn.preprocessing import OneHotEncoder\n",
    "from sklearn.model_selection import StratifiedKFold\n",
    "from sklearn.linear_model import LogisticRegression, SGDRegressor\n",
    "from sklearn.metrics import roc_auc_score\n",
    "\n",
    "from hyperopt import hp\n",
    "# ---------------------------------\n",
    "from tools import CV, Tuning, CVGetScore, IdxValEncoder, xdeepfm, CyclicLR, MaxLrFinder\n",
    "# ---------------------------------\n",
    "from tools import focal_loss, gelu, mish\n",
    "from tensorflow.keras.utils import get_custom_objects\n",
    "\n",
    "get_custom_objects().update({'focal_loss': focal_loss()})\n",
    "get_custom_objects().update({'mish': mish})\n",
    "get_custom_objects().update({'gelu': gelu})"
   ]
  },
  {
   "cell_type": "code",
   "execution_count": 2,
   "metadata": {},
   "outputs": [],
   "source": [
    "train_df = pd.read_csv('../data/train.csv', index_col='id')\n",
    "test_df = pd.read_csv('../data/test.csv', index_col='id')\n",
    "\n",
    "# ord_5\n",
    "for i in range(2):\n",
    "    train_df[f'ord_5_{i}'] = train_df['ord_5'].str[i]\n",
    "    test_df[f'ord_5_{i}'] = test_df['ord_5'].str[i]\n",
    "\n",
    "# null\n",
    "train_df['null'] = train_df.isna().sum(axis=1)\n",
    "test_df['null'] = test_df.isna().sum(axis=1)\n",
    "\n",
    "for col in test_df.columns:\n",
    "    train_df[col].fillna('isnull', inplace=True)\n",
    "    test_df[col].fillna('isnull', inplace=True)\n",
    "\n",
    "# target\n",
    "target = train_df['target']\n",
    "y_train = target.values\n",
    "\n",
    "# drop\n",
    "train_df.drop(['target', 'ord_5'], axis=1, inplace=True)\n",
    "test_df.drop(['ord_5'], axis=1, inplace=True)"
   ]
  },
  {
   "cell_type": "code",
   "execution_count": 3,
   "metadata": {},
   "outputs": [],
   "source": [
    "feature_col = train_df.columns\n",
    "\n",
    "bin_col = ['null']\n",
    "\n",
    "class_col = ['bin_0', 'bin_1', 'bin_2', 'bin_3', 'bin_4',\n",
    "             'nom_0', 'nom_1', 'nom_2', 'nom_3', 'nom_4',\n",
    "             'nom_5', 'nom_6', 'nom_7', 'nom_8', 'nom_9',\n",
    "             'ord_0', 'ord_1', 'ord_2', 'ord_3', 'ord_4',\n",
    "             'day', 'month', 'ord_5_0', 'ord_5_1']"
   ]
  },
  {
   "cell_type": "code",
   "execution_count": 4,
   "metadata": {},
   "outputs": [],
   "source": [
    "# for col in bin_col:\n",
    "#     map_dict = dict(zip(train_df[col].unique(), [0., 1.]))\n",
    "#     train_df[col] = train_df[col].map(map_dict)\n",
    "#     test_df[col] = test_df[col].map(map_dict)"
   ]
  },
  {
   "cell_type": "code",
   "execution_count": 5,
   "metadata": {},
   "outputs": [
    {
     "name": "stderr",
     "output_type": "stream",
     "text": [
      "600000it [00:27, 22162.04it/s]\n"
     ]
    }
   ],
   "source": [
    "ecd = IdxValEncoder(feature_col, bin_col=bin_col, class_col=class_col)\n",
    "ecd.fit(train_df, verbose=1)"
   ]
  },
  {
   "cell_type": "code",
   "execution_count": 6,
   "metadata": {},
   "outputs": [
    {
     "name": "stderr",
     "output_type": "stream",
     "text": [
      "400000it [00:18, 22174.31it/s]\n"
     ]
    }
   ],
   "source": [
    "ecd.fit(test_df, verbose=1)"
   ]
  },
  {
   "cell_type": "code",
   "execution_count": 7,
   "metadata": {},
   "outputs": [
    {
     "name": "stderr",
     "output_type": "stream",
     "text": [
      "600000it [00:29, 20351.89it/s]\n",
      "400000it [00:18, 21211.25it/s]\n"
     ]
    }
   ],
   "source": [
    "idx, val = ecd.transform(train_df, verbose=1)\n",
    "idx_test, val_test = ecd.transform(test_df, verbose=1)"
   ]
  },
  {
   "cell_type": "markdown",
   "metadata": {},
   "source": [
    "# Search Max LR"
   ]
  },
  {
   "cell_type": "code",
   "execution_count": 11,
   "metadata": {
    "scrolled": false
   },
   "outputs": [
    {
     "name": "stdout",
     "output_type": "stream",
     "text": [
      "Train on 479999 samples, validate on 120001 samples\n",
      "Epoch 1/5\n",
      "479999/479999 [==============================] - 15s 31us/sample - loss: 0.6944 - AUC: 0.4967 - val_loss: 0.6916 - val_AUC: 0.4982\n",
      "Epoch 2/5\n",
      "479999/479999 [==============================] - 11s 23us/sample - loss: 0.6822 - AUC: 0.4969 - val_loss: 0.6637 - val_AUC: 0.4940\n",
      "Epoch 3/5\n",
      "479999/479999 [==============================] - 11s 23us/sample - loss: 0.6016 - AUC: 0.4989 - val_loss: 0.4904 - val_AUC: 0.4967\n",
      "Epoch 4/5\n",
      "479999/479999 [==============================] - 11s 23us/sample - loss: 0.4498 - AUC: 0.6732 - val_loss: 0.4017 - val_AUC: 0.7807\n",
      "Epoch 5/5\n",
      "479999/479999 [==============================] - 11s 23us/sample - loss: 0.3979 - AUC: 0.7854 - val_loss: 0.4011 - val_AUC: 0.7812\n",
      "folds 0 is done, score is 0.7812718029719459\n",
      "Train on 479999 samples, validate on 120001 samples\n",
      "Epoch 1/5\n",
      "479999/479999 [==============================] - 14s 30us/sample - loss: 0.6916 - AUC: 0.4981 - val_loss: 0.6844 - val_AUC: 0.4953\n",
      "Epoch 2/5\n",
      "479999/479999 [==============================] - 11s 23us/sample - loss: 0.6658 - AUC: 0.4984 - val_loss: 0.6324 - val_AUC: 0.4901\n",
      "Epoch 3/5\n",
      "479999/479999 [==============================] - 11s 23us/sample - loss: 0.5509 - AUC: 0.4995 - val_loss: 0.4781 - val_AUC: 0.6040\n",
      "Epoch 4/5\n",
      "479999/479999 [==============================] - 11s 23us/sample - loss: 0.4282 - AUC: 0.7347 - val_loss: 0.3990 - val_AUC: 0.7841\n",
      "Epoch 5/5\n",
      "479999/479999 [==============================] - 11s 23us/sample - loss: 0.3974 - AUC: 0.7860 - val_loss: 0.4007 - val_AUC: 0.7826\n",
      "folds 1 is done, score is 0.7826596850057803\n",
      "Train on 480000 samples, validate on 120000 samples\n",
      "Epoch 1/5\n",
      "480000/480000 [==============================] - 14s 30us/sample - loss: 0.6904 - AUC: 0.4974 - val_loss: 0.6812 - val_AUC: 0.4944\n",
      "Epoch 2/5\n",
      "480000/480000 [==============================] - 11s 23us/sample - loss: 0.6581 - AUC: 0.4987 - val_loss: 0.6173 - val_AUC: 0.4907\n",
      "Epoch 3/5\n",
      "480000/480000 [==============================] - 11s 23us/sample - loss: 0.5324 - AUC: 0.5061 - val_loss: 0.4725 - val_AUC: 0.6647\n",
      "Epoch 4/5\n",
      "480000/480000 [==============================] - 11s 23us/sample - loss: 0.4203 - AUC: 0.7488 - val_loss: 0.3996 - val_AUC: 0.7830\n",
      "Epoch 5/5\n",
      "480000/480000 [==============================] - 11s 23us/sample - loss: 0.3975 - AUC: 0.7858 - val_loss: 0.4025 - val_AUC: 0.7806\n",
      "folds 2 is done, score is 0.7806404467041119\n",
      "Train on 480001 samples, validate on 119999 samples\n",
      "Epoch 1/5\n",
      "480001/480001 [==============================] - 15s 30us/sample - loss: 0.6896 - AUC: 0.4989 - val_loss: 0.6792 - val_AUC: 0.4952\n",
      "Epoch 2/5\n",
      "480001/480001 [==============================] - 11s 23us/sample - loss: 0.6532 - AUC: 0.4989 - val_loss: 0.6078 - val_AUC: 0.4885\n",
      "Epoch 3/5\n",
      "480001/480001 [==============================] - 11s 23us/sample - loss: 0.5234 - AUC: 0.5089 - val_loss: 0.4697 - val_AUC: 0.6906\n",
      "Epoch 4/5\n",
      "480001/480001 [==============================] - 11s 23us/sample - loss: 0.4167 - AUC: 0.7552 - val_loss: 0.3969 - val_AUC: 0.7866\n",
      "Epoch 5/5\n",
      "480001/480001 [==============================] - 11s 23us/sample - loss: 0.3975 - AUC: 0.7858 - val_loss: 0.4039 - val_AUC: 0.7808\n",
      "folds 3 is done, score is 0.7808037280740189\n",
      "Train on 480001 samples, validate on 119999 samples\n",
      "Epoch 1/5\n",
      "480001/480001 [==============================] - 14s 29us/sample - loss: 0.6892 - AUC: 0.4965 - val_loss: 0.6779 - val_AUC: 0.4950\n",
      "Epoch 2/5\n",
      "480001/480001 [==============================] - 11s 23us/sample - loss: 0.6501 - AUC: 0.4974 - val_loss: 0.6017 - val_AUC: 0.4884\n",
      "Epoch 3/5\n",
      "480001/480001 [==============================] - 11s 23us/sample - loss: 0.5181 - AUC: 0.5121 - val_loss: 0.4667 - val_AUC: 0.7055\n",
      "Epoch 4/5\n",
      "480001/480001 [==============================] - 11s 23us/sample - loss: 0.4142 - AUC: 0.7594 - val_loss: 0.3973 - val_AUC: 0.7862\n",
      "Epoch 5/5\n",
      "480001/480001 [==============================] - 11s 23us/sample - loss: 0.3975 - AUC: 0.7859 - val_loss: 0.4027 - val_AUC: 0.7809\n",
      "folds 4 is done, score is 0.7809432934951979\n",
      "CPU times: user 6min 45s, sys: 1min 31s, total: 8min 16s\n",
      "Wall time: 5min 1s\n"
     ]
    }
   ],
   "source": [
    "%%time\n",
    "\n",
    "tf.keras.backend.clear_session()\n",
    "\n",
    "batch_size = 8192\n",
    "epochs = 5\n",
    "nflold = 5\n",
    "\n",
    "model_param = {'vocabulary_size':ecd.get_vocabulary(), \n",
    "               'feature_number': len(feature_col),\n",
    "               'activation': 'sigmoid',\n",
    "               'metrics': ['AUC'],\n",
    "               'optimizer': 'Adam',\n",
    "               'loss': 'binary_crossentropy', \n",
    "               'num_cin_layer': 4, 'num_cin_size': 256,\n",
    "               'split_half':True}\n",
    "\n",
    "mf = MaxLrFinder(1e-6, 1e-2, epochs=epochs, batch_size=batch_size, sample_length=train_df.shape[0]*((nflold-1)/nflold))\n",
    "fit_param = {'batch_size': batch_size, 'epochs':epochs, 'verbose': 1, 'callbacks':[mf], 'workers': 16}\n",
    "\n",
    "model = xdeepfm(**model_param)\n",
    "\n",
    "cv = CV(model, nflold)\n",
    "\n",
    "score = cv.fit(x=[idx, val],\n",
    "               y=y_train, \n",
    "               metrics_func=roc_auc_score,\n",
    "               split_method=StratifiedKFold,\n",
    "               fit_params=fit_param,\n",
    "               eval_param={'batch_size':batch_size},\n",
    "               use_proba=False, \n",
    "               verbose=True,\n",
    "               fit_use_valid=True)\n"
   ]
  },
  {
   "cell_type": "code",
   "execution_count": 12,
   "metadata": {},
   "outputs": [],
   "source": [
    "tf.keras.backend.clear_session()"
   ]
  },
  {
   "cell_type": "code",
   "execution_count": 13,
   "metadata": {},
   "outputs": [
    {
     "data": {
      "image/png": "[encoded data removed]",
      "text/plain": [
       "<Figure size 1008x504 with 2 Axes>"
      ]
     },
     "metadata": {
      "needs_background": "light"
     },
     "output_type": "display_data"
    }
   ],
   "source": [
    "mf.plot(True)"
   ]
  },
  {
   "cell_type": "markdown",
   "metadata": {},
   "source": [
    "# fit one"
   ]
  },
  {
   "cell_type": "code",
   "execution_count": 17,
   "metadata": {
    "scrolled": true
   },
   "outputs": [
    {
     "name": "stdout",
     "output_type": "stream",
     "text": [
      "Train on 479999 samples, validate on 120001 samples\n",
      "Epoch 1/100\n",
      "479999/479999 [==============================] - 6s 13us/sample - loss: 0.6523 - AUC: 0.5021 - val_loss: 0.5653 - val_AUC: 0.5335\n",
      "Epoch 2/100\n",
      "479999/479999 [==============================] - 4s 8us/sample - loss: 0.4902 - AUC: 0.5521 - val_loss: 0.4614 - val_AUC: 0.7144\n",
      "Epoch 3/100\n",
      "479999/479999 [==============================] - 4s 8us/sample - loss: 0.4258 - AUC: 0.7476 - val_loss: 0.4012 - val_AUC: 0.7805\n",
      "Epoch 4/100\n",
      "479999/479999 [==============================] - 4s 8us/sample - loss: 0.3935 - AUC: 0.7921 - val_loss: 0.3971 - val_AUC: 0.7868\n",
      "Epoch 5/100\n",
      "479999/479999 [==============================] - 4s 8us/sample - loss: 0.3899 - AUC: 0.7973 - val_loss: 0.3972 - val_AUC: 0.7866\n",
      "Epoch 6/100\n",
      "479999/479999 [==============================] - 4s 8us/sample - loss: 0.3882 - AUC: 0.7997 - val_loss: 0.3979 - val_AUC: 0.7859\n",
      "Epoch 7/100\n",
      "479999/479999 [==============================] - 4s 8us/sample - loss: 0.3870 - AUC: 0.8013 - val_loss: 0.3982 - val_AUC: 0.7856\n",
      "Epoch 8/100\n",
      "479999/479999 [==============================] - 4s 8us/sample - loss: 0.3862 - AUC: 0.8025 - val_loss: 0.3983 - val_AUC: 0.7854\n",
      "Epoch 9/100\n",
      "479999/479999 [==============================] - 4s 8us/sample - loss: 0.3860 - AUC: 0.8027 - val_loss: 0.3985 - val_AUC: 0.7852\n",
      "folds 0 is done, score is 0.7868305081727452\n",
      "Train on 479999 samples, validate on 120001 samples\n",
      "Epoch 1/100\n",
      "479999/479999 [==============================] - 6s 13us/sample - loss: 0.5005 - AUC: 0.5759 - val_loss: 0.4330 - val_AUC: 0.7527\n",
      "Epoch 2/100\n",
      "479999/479999 [==============================] - 4s 8us/sample - loss: 0.4038 - AUC: 0.7789 - val_loss: 0.3979 - val_AUC: 0.7864\n",
      "Epoch 3/100\n",
      "479999/479999 [==============================] - 4s 8us/sample - loss: 0.3914 - AUC: 0.7953 - val_loss: 0.3973 - val_AUC: 0.7863\n",
      "Epoch 4/100\n",
      "479999/479999 [==============================] - 4s 8us/sample - loss: 0.3889 - AUC: 0.7985 - val_loss: 0.3974 - val_AUC: 0.7863\n",
      "Epoch 5/100\n",
      "479999/479999 [==============================] - 4s 8us/sample - loss: 0.3869 - AUC: 0.8010 - val_loss: 0.3982 - val_AUC: 0.7853\n",
      "Epoch 6/100\n",
      "479999/479999 [==============================] - 4s 8us/sample - loss: 0.3853 - AUC: 0.8030 - val_loss: 0.3987 - val_AUC: 0.7847\n",
      "Epoch 7/100\n",
      "479999/479999 [==============================] - 4s 8us/sample - loss: 0.3841 - AUC: 0.8046 - val_loss: 0.3992 - val_AUC: 0.7845\n",
      "folds 1 is done, score is 0.7863893208241546\n",
      "Train on 480000 samples, validate on 120000 samples\n",
      "Epoch 1/100\n",
      "480000/480000 [==============================] - 7s 15us/sample - loss: 0.5458 - AUC: 0.5157 - val_loss: 0.4671 - val_AUC: 0.7109\n",
      "Epoch 2/100\n",
      "480000/480000 [==============================] - 4s 8us/sample - loss: 0.4222 - AUC: 0.7506 - val_loss: 0.3981 - val_AUC: 0.7854\n",
      "Epoch 3/100\n",
      "480000/480000 [==============================] - 4s 8us/sample - loss: 0.3926 - AUC: 0.7935 - val_loss: 0.3972 - val_AUC: 0.7868\n",
      "Epoch 4/100\n",
      "480000/480000 [==============================] - 4s 8us/sample - loss: 0.3904 - AUC: 0.7965 - val_loss: 0.3974 - val_AUC: 0.7863\n",
      "Epoch 5/100\n",
      "480000/480000 [==============================] - 4s 8us/sample - loss: 0.3889 - AUC: 0.7984 - val_loss: 0.3975 - val_AUC: 0.7862\n",
      "Epoch 6/100\n",
      "480000/480000 [==============================] - 4s 8us/sample - loss: 0.3870 - AUC: 0.8010 - val_loss: 0.3982 - val_AUC: 0.7854\n",
      "Epoch 7/100\n",
      "480000/480000 [==============================] - 4s 8us/sample - loss: 0.3855 - AUC: 0.8029 - val_loss: 0.3985 - val_AUC: 0.7847\n",
      "Epoch 8/100\n",
      "480000/480000 [==============================] - 4s 8us/sample - loss: 0.3843 - AUC: 0.8044 - val_loss: 0.3988 - val_AUC: 0.7847\n",
      "folds 2 is done, score is 0.7868632921022456\n",
      "Train on 480001 samples, validate on 119999 samples\n",
      "Epoch 1/100\n",
      "480001/480001 [==============================] - 7s 14us/sample - loss: 0.5330 - AUC: 0.5278 - val_loss: 0.4590 - val_AUC: 0.7285\n",
      "Epoch 2/100\n",
      "480001/480001 [==============================] - 4s 8us/sample - loss: 0.4163 - AUC: 0.7599 - val_loss: 0.3969 - val_AUC: 0.7873\n",
      "Epoch 3/100\n",
      "480001/480001 [==============================] - 4s 8us/sample - loss: 0.3926 - AUC: 0.7936 - val_loss: 0.3953 - val_AUC: 0.7889\n",
      "Epoch 4/100\n",
      "480001/480001 [==============================] - 4s 8us/sample - loss: 0.3908 - AUC: 0.7959 - val_loss: 0.3952 - val_AUC: 0.7892\n",
      "Epoch 5/100\n",
      "480001/480001 [==============================] - 4s 8us/sample - loss: 0.3889 - AUC: 0.7985 - val_loss: 0.3960 - val_AUC: 0.7878\n",
      "Epoch 6/100\n",
      "480001/480001 [==============================] - 4s 8us/sample - loss: 0.3865 - AUC: 0.8015 - val_loss: 0.3964 - val_AUC: 0.7874\n",
      "Epoch 7/100\n",
      "480001/480001 [==============================] - 4s 8us/sample - loss: 0.3846 - AUC: 0.8039 - val_loss: 0.3974 - val_AUC: 0.7864\n",
      "Epoch 8/100\n",
      "480001/480001 [==============================] - 4s 8us/sample - loss: 0.3831 - AUC: 0.8058 - val_loss: 0.3978 - val_AUC: 0.7861\n",
      "Epoch 9/100\n",
      "480001/480001 [==============================] - 4s 8us/sample - loss: 0.3830 - AUC: 0.8059 - val_loss: 0.3979 - val_AUC: 0.7857\n",
      "folds 3 is done, score is 0.789218474398554\n",
      "Train on 480001 samples, validate on 119999 samples\n",
      "Epoch 1/100\n",
      "480001/480001 [==============================] - 6s 13us/sample - loss: 0.4822 - AUC: 0.6144 - val_loss: 0.4086 - val_AUC: 0.7749\n",
      "Epoch 2/100\n",
      "480001/480001 [==============================] - 4s 8us/sample - loss: 0.3977 - AUC: 0.7867 - val_loss: 0.3958 - val_AUC: 0.7883\n",
      "Epoch 3/100\n",
      "480001/480001 [==============================] - 4s 8us/sample - loss: 0.3912 - AUC: 0.7954 - val_loss: 0.3959 - val_AUC: 0.7881\n",
      "Epoch 4/100\n",
      "480001/480001 [==============================] - 4s 8us/sample - loss: 0.3886 - AUC: 0.7988 - val_loss: 0.3962 - val_AUC: 0.7878\n",
      "Epoch 5/100\n",
      "480001/480001 [==============================] - 4s 8us/sample - loss: 0.3858 - AUC: 0.8020 - val_loss: 0.3970 - val_AUC: 0.7869\n",
      "Epoch 6/100\n",
      "480001/480001 [==============================] - 4s 8us/sample - loss: 0.3834 - AUC: 0.8049 - val_loss: 0.3982 - val_AUC: 0.7857\n",
      "Epoch 7/100\n",
      "480001/480001 [==============================] - 4s 8us/sample - loss: 0.3818 - AUC: 0.8068 - val_loss: 0.3987 - val_AUC: 0.7855\n",
      "folds 4 is done, score is 0.7883581823282956\n",
      "CPU times: user 7min 37s, sys: 27.3 s, total: 8min 4s\n",
      "Wall time: 2min 50s\n"
     ]
    }
   ],
   "source": [
    "%%time\n",
    "\n",
    "batch_size = 8192\n",
    "epochs = 100\n",
    "nflod = 5\n",
    "\n",
    "model_param = {'vocabulary_size':ecd.get_vocabulary(), \n",
    "               'feature_number': len(feature_col),\n",
    "               'activation': 'sigmoid',\n",
    "               'metrics': ['AUC'],\n",
    "               'optimizer': 'Adam',\n",
    "               'loss': 'binary_crossentropy'}\n",
    "\n",
    "clr = CyclicLR(base_lr=1e-5,\n",
    "               max_lr=1e-3, \n",
    "               step_size=int(4.0*(train_df.shape[0]*((nflod-1)/nflod)) / batch_size),\n",
    "               mode='exp_range',\n",
    "               gamma=1.0)\n",
    "\n",
    "es = tf.keras.callbacks.EarlyStopping(monitor='val_AUC', patience=5, mode='max', restore_best_weights=True)\n",
    "\n",
    "fit_param = {'batch_size': batch_size, 'epochs':epochs, 'verbose': 1, 'callbacks':[es, clr]}\n",
    "\n",
    "model = xdeepfm(**model_param)\n",
    "\n",
    "cv = CV(model, nflod)\n",
    "\n",
    "score = cv.fit(x=[idx, val],\n",
    "               y=y_train, \n",
    "               metrics_func=roc_auc_score,\n",
    "               split_method=StratifiedKFold,\n",
    "               fit_params=fit_param,\n",
    "               eval_param={'batch_size':batch_size},\n",
    "               use_proba=False, \n",
    "               verbose=True,\n",
    "               fit_use_valid=True)\n",
    "\n",
    "tf.keras.backend.clear_session()"
   ]
  },
  {
   "cell_type": "code",
   "execution_count": 18,
   "metadata": {},
   "outputs": [
    {
     "data": {
      "text/plain": [
       "0.7875319555651991"
      ]
     },
     "execution_count": 18,
     "metadata": {},
     "output_type": "execute_result"
    }
   ],
   "source": [
    "score"
   ]
  },
  {
   "cell_type": "markdown",
   "metadata": {},
   "source": [
    "# Tuning"
   ]
  },
  {
   "cell_type": "code",
   "execution_count": 19,
   "metadata": {},
   "outputs": [
    {
     "name": "stdout",
     "output_type": "stream",
     "text": [
      "new best, eval 1, score -0.7878, param {'cin_activation': 'gelu', 'cin_dropout': 0.2057811773763612, 'deep_activation': 'mish', 'deep_dropout': 0.20858365242531457, 'l2_cin': 7.979700429019407e-06, 'l2_deep': 0.00111340891704806, 'loss': 'focal_loss', 'num_cin_layer': 3, 'num_cin_size': 32, 'num_neuron': 256}\n",
      "new best, eval 3, score -0.7881, param {'cin_activation': 'mish', 'cin_dropout': 0.32949641474455055, 'deep_activation': 'gelu', 'deep_dropout': 0.26498769973408076, 'l2_cin': 0.13894034071012318, 'l2_deep': 7.894546073626839e-05, 'loss': 'focal_loss', 'num_cin_layer': 2, 'num_cin_size': 128, 'num_neuron': 256}\n",
      "new best, eval 6, score -0.7881, param {'cin_activation': 'mish', 'cin_dropout': 0.2326420502543929, 'deep_activation': 'mish', 'deep_dropout': 0.25236626158562747, 'l2_cin': 0.08174554354988584, 'l2_deep': 0.00014460364694334098, 'loss': 'focal_loss', 'num_cin_layer': 3, 'num_cin_size': 32, 'num_neuron': 64}\n",
      "new best, eval 22, score -0.7882, param {'cin_activation': 'mish', 'cin_dropout': 0.2500811067993417, 'deep_activation': 'mish', 'deep_dropout': 0.3025070684047007, 'l2_cin': 0.01285995844195089, 'l2_deep': 7.598056945722454e-05, 'loss': 'focal_loss', 'num_cin_layer': 2, 'num_cin_size': 128, 'num_neuron': 64}\n",
      "new best, eval 23, score -0.7882, param {'cin_activation': 'mish', 'cin_dropout': 0.2461029180281538, 'deep_activation': 'mish', 'deep_dropout': 0.3973356541374604, 'l2_cin': 0.008497500337670874, 'l2_deep': 7.877545144155741e-05, 'loss': 'focal_loss', 'num_cin_layer': 2, 'num_cin_size': 128, 'num_neuron': 64}\n",
      "new best, eval 27, score -0.7883, param {'cin_activation': 'mish', 'cin_dropout': 0.2511752793381591, 'deep_activation': 'mish', 'deep_dropout': 0.3737827620930923, 'l2_cin': 0.002807990399016415, 'l2_deep': 4.099838067114186e-05, 'loss': 'focal_loss', 'num_cin_layer': 2, 'num_cin_size': 128, 'num_neuron': 64}\n",
      "new best, eval 56, score -0.7883, param {'cin_activation': 'mish', 'cin_dropout': 0.2550548530047234, 'deep_activation': 'mish', 'deep_dropout': 0.33613923735133877, 'l2_cin': 0.003304809456710979, 'l2_deep': 0.00010687797599471418, 'loss': 'focal_loss', 'num_cin_layer': 1, 'num_cin_size': 256, 'num_neuron': 64}\n",
      "100%|██████████| 100/100 [7:11:43<00:00, 545.70s/trial, best loss: -0.7883426704616555] \n"
     ]
    },
    {
     "data": {
      "text/plain": [
       "{'cin_activation': 0,\n",
       " 'cin_dropout': 0.2550548530047234,\n",
       " 'deep_activation': 0,\n",
       " 'deep_dropout': 0.33613923735133877,\n",
       " 'l2_cin': 0.003304809456710979,\n",
       " 'l2_deep': 0.00010687797599471418,\n",
       " 'loss': 0,\n",
       " 'num_cin_layer': 0,\n",
       " 'num_cin_size': 3,\n",
       " 'num_neuron': 0}"
      ]
     },
     "execution_count": 19,
     "metadata": {},
     "output_type": "execute_result"
    }
   ],
   "source": [
    "batch_size = 8192\n",
    "epochs = 100\n",
    "nflod = 5\n",
    "\n",
    "# fit param\n",
    "\n",
    "clr = CyclicLR(base_lr=1e-5,\n",
    "               max_lr = 1e-3, \n",
    "               step_size= int(4.0*(train_df.shape[0]*((nflod-1)/nflod)) / batch_size),\n",
    "               mode='exp_range',\n",
    "               gamma=1.0)\n",
    "\n",
    "es = tf.keras.callbacks.EarlyStopping(monitor='val_AUC', \n",
    "                                      patience=3,\n",
    "                                      mode='max',\n",
    "                                      restore_best_weights=True)\n",
    "\n",
    "fit_param = {\n",
    "    'batch_size': batch_size, \n",
    "    'epochs':epochs, \n",
    "    'verbose': 0,\n",
    "    'callbacks':[es, clr]\n",
    "}\n",
    "\n",
    "cv_fit_param = {'fit_params': fit_param, \n",
    "                'eval_param': {'batch_size':batch_size},\n",
    "                'use_proba':False, \n",
    "                'fit_use_valid': True}\n",
    "\n",
    "# model_fix_param & model_search_space\n",
    "model_fix_param = {'vocabulary_size':ecd.get_vocabulary(), \n",
    "                   'feature_number': len(feature_col),\n",
    "                   'activation': 'sigmoid',\n",
    "                   'metrics': ['AUC'],\n",
    "                   'k': 5,\n",
    "                   'deep_use_bn': False,\n",
    "                   'optimizer': 'Adam',\n",
    "                   'split_half':True,\n",
    "                   'num_deep_layer': 2}\n",
    "\n",
    "ss = {\n",
    "    'loss': (hp.choice, ('focal_loss', 'binary_crossentropy')), \n",
    "    'deep_activation': (hp.choice, ('mish', 'gelu')),\n",
    "    'num_neuron': (hp.choice, (64, 128, 256)),\n",
    "    'l2_deep': (hp.loguniform, (-15, -6)),\n",
    "    'deep_dropout': (hp.uniform, (0.1, 0.4)),\n",
    "    'num_cin_layer': (hp.choice, (1, 2, 3, 4)),\n",
    "    'num_cin_size': (hp.choice, (32, 64, 128, 256)),\n",
    "    'cin_activation': (hp.choice, ('mish', 'gelu')),\n",
    "    'l2_cin': (hp.loguniform, (-15, 0)),\n",
    "    'cin_dropout': (hp.uniform, (0.1, 0.4)),\n",
    "}\n",
    "\n",
    "# cv get score\n",
    "def neg_auc(y_true, y_pred):\n",
    "    return - roc_auc_score(y_true, y_pred)\n",
    "\n",
    "gs = CVGetScore(x=[idx, val],\n",
    "                y=y_train, \n",
    "                metrics_func=neg_auc,\n",
    "                split_method=StratifiedKFold,\n",
    "                nfolds=nflod, \n",
    "                random_state=2333,\n",
    "                model=xdeepfm, \n",
    "                cv_fit_params=cv_fit_param, \n",
    "                model_fix_params=model_fix_param, \n",
    "                model_search_space=ss)\n",
    "\n",
    "tuning = Tuning(gs, verbose=1)\n",
    "tuning.fmin(gs.GET_SEARCH_SPACE(), max_evals=100)"
   ]
  },
  {
   "cell_type": "markdown",
   "metadata": {},
   "source": [
    "# Tuning 2"
   ]
  },
  {
   "cell_type": "code",
   "execution_count": null,
   "metadata": {},
   "outputs": [
    {
     "name": "stdout",
     "output_type": "stream",
     "text": [
      "new best, eval 1, score -0.7879, param {'cin_dropout': 0.3092258988440683, 'deep_activation': 'gelu', 'deep_dropout': 0.1402355684285091, 'l2_cin': 0.04040994580812637, 'l2_deep': 8.178813162024387e-06, 'loss': 'focal_loss', 'num_cin_layer': 1, 'num_cin_size': 64, 'num_neuron': 128}\n",
      "new best, eval 5, score -0.7881, param {'cin_dropout': 0.29887194005576273, 'deep_activation': 'mish', 'deep_dropout': 0.34454928305899196, 'l2_cin': 0.22382862180320617, 'l2_deep': 7.47699066197892e-05, 'loss': 'focal_loss', 'num_cin_layer': 1, 'num_cin_size': 256, 'num_neuron': 256}\n",
      "new best, eval 13, score -0.7882, param {'cin_dropout': 0.22349726824320137, 'deep_activation': 'gelu', 'deep_dropout': 0.3983325517009807, 'l2_cin': 0.007482119725859714, 'l2_deep': 0.001649155701362694, 'loss': 'binary_crossentropy', 'num_cin_layer': 2, 'num_cin_size': 32, 'num_neuron': 64}\n",
      "new best, eval 19, score -0.7882, param {'cin_dropout': 0.14198582151160777, 'deep_activation': 'mish', 'deep_dropout': 0.2645314800119569, 'l2_cin': 0.0015597047468139807, 'l2_deep': 0.0022218031797339843, 'loss': 'focal_loss', 'num_cin_layer': 2, 'num_cin_size': 32, 'num_neuron': 128}\n",
      "new best, eval 23, score -0.7882, param {'cin_dropout': 0.23714259597402315, 'deep_activation': 'mish', 'deep_dropout': 0.2820041568315538, 'l2_cin': 0.16128844327563863, 'l2_deep': 0.0004742986373410697, 'loss': 'binary_crossentropy', 'num_cin_layer': 2, 'num_cin_size': 32, 'num_neuron': 64}\n",
      "new best, eval 28, score -0.7882, param {'cin_dropout': 0.17004856366960125, 'deep_activation': 'mish', 'deep_dropout': 0.2684401877221899, 'l2_cin': 0.018802403422624053, 'l2_deep': 0.001110324309529836, 'loss': 'binary_crossentropy', 'num_cin_layer': 2, 'num_cin_size': 32, 'num_neuron': 64}\n",
      "new best, eval 56, score -0.7883, param {'cin_dropout': 0.10967611057054134, 'deep_activation': 'mish', 'deep_dropout': 0.19155529747941347, 'l2_cin': 0.05162106422572533, 'l2_deep': 0.00018393905164911545, 'loss': 'focal_loss', 'num_cin_layer': 1, 'num_cin_size': 256, 'num_neuron': 64}\n",
      " 60%|██████    | 60/100 [3:17:14<1:45:03, 157.58s/trial, best loss: -0.7882986533780085]"
     ]
    }
   ],
   "source": [
    "batch_size = 8192\n",
    "epochs = 100\n",
    "nflod = 5\n",
    "\n",
    "# fit param\n",
    "\n",
    "clr = CyclicLR(base_lr=1e-5,\n",
    "               max_lr = 1e-3, \n",
    "               step_size= int(4.0*(train_df.shape[0]*((nflod-1)/nflod)) / batch_size),\n",
    "               mode='exp_range',\n",
    "               gamma=1.0)\n",
    "\n",
    "es = tf.keras.callbacks.EarlyStopping(monitor='val_AUC', \n",
    "                                      patience=3,\n",
    "                                      mode='max',\n",
    "                                      restore_best_weights=True)\n",
    "\n",
    "fit_param = {\n",
    "    'batch_size': batch_size, \n",
    "    'epochs':epochs, \n",
    "    'verbose': 0,\n",
    "    'callbacks':[es, clr]\n",
    "}\n",
    "\n",
    "cv_fit_param = {'fit_params': fit_param, \n",
    "                'eval_param': {'batch_size':batch_size},\n",
    "                'use_proba':False, \n",
    "                'fit_use_valid': True}\n",
    "\n",
    "# model_fix_param & model_search_space\n",
    "model_fix_param = {'vocabulary_size':ecd.get_vocabulary(), \n",
    "                   'feature_number': len(feature_col),\n",
    "                   'activation': 'sigmoid',\n",
    "                   'metrics': ['AUC'],\n",
    "                   'k': 5,\n",
    "                   'deep_use_bn': False,\n",
    "                   'optimizer': 'Adam',\n",
    "                   'split_half':True,\n",
    "                   'num_deep_layer': 2,\n",
    "                   'cin_activation': 'linear'}\n",
    "\n",
    "ss = {\n",
    "    'loss': (hp.choice, ('focal_loss', 'binary_crossentropy')), \n",
    "    'deep_activation': (hp.choice, ('mish', 'gelu')),\n",
    "    'num_neuron': (hp.choice, (64, 128, 256)),\n",
    "    'l2_deep': (hp.loguniform, (-15, -6)),\n",
    "    'deep_dropout': (hp.uniform, (0.1, 0.4)),\n",
    "    'num_cin_layer': (hp.choice, (1, 2, 3, 4)),\n",
    "    'num_cin_size': (hp.choice, (32, 64, 128, 256)),\n",
    "    'l2_cin': (hp.loguniform, (-15, 0)),\n",
    "    'cin_dropout': (hp.uniform, (0.1, 0.4)),\n",
    "}\n",
    "\n",
    "# cv get score\n",
    "def neg_auc(y_true, y_pred):\n",
    "    return - roc_auc_score(y_true, y_pred)\n",
    "\n",
    "gs = CVGetScore(x=[idx, val],\n",
    "                y=y_train, \n",
    "                metrics_func=neg_auc,\n",
    "                split_method=StratifiedKFold,\n",
    "                nfolds=nflod, \n",
    "                random_state=2333,\n",
    "                model=xdeepfm, \n",
    "                cv_fit_params=cv_fit_param, \n",
    "                model_fix_params=model_fix_param, \n",
    "                model_search_space=ss)\n",
    "\n",
    "tuning2 = Tuning(gs, verbose=1)\n",
    "tuning2.fmin(gs.GET_SEARCH_SPACE(), max_evals=100)"
   ]
  },
  {
   "cell_type": "code",
   "execution_count": null,
   "metadata": {},
   "outputs": [],
   "source": []
  }
 ],
 "metadata": {
  "kernelspec": {
   "display_name": "Python 3",
   "language": "python",
   "name": "python3"
  },
  "language_info": {
   "codemirror_mode": {
    "name": "ipython",
    "version": 3
   },
   "file_extension": ".py",
   "mimetype": "text/x-python",
   "name": "python",
   "nbconvert_exporter": "python",
   "pygments_lexer": "ipython3",
   "version": "3.6.6"
  }
 },
 "nbformat": 4,
 "nbformat_minor": 2
}
