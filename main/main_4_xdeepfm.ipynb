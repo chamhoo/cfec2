{
 "cells": [
  {
   "cell_type": "markdown",
   "metadata": {},
   "source": [
    "# target encoder & ohe & xDeepFM - basic"
   ]
  },
  {
   "cell_type": "code",
   "execution_count": 2,
   "metadata": {},
   "outputs": [
    {
     "name": "stdout",
     "output_type": "stream",
     "text": [
      "The autoreload extension is already loaded. To reload it, use:\n",
      "  %reload_ext autoreload\n"
     ]
    }
   ],
   "source": [
    "%load_ext autoreload\n",
    "%autoreload 2\n",
    "\n",
    "import os\n",
    "import warnings\n",
    "warnings.filterwarnings('ignore')\n",
    "\n",
    "import sys\n",
    "sys.path.append(os.path.abspath('..'))\n",
    "# ---------------------------------\n",
    "from time import sleep\n",
    "import numpy as np\n",
    "import pandas as pd\n",
    "import scipy\n",
    "import tqdm\n",
    "import tensorflow as tf\n",
    "from tensorflow.keras.layers import Activation\n",
    "import matplotlib.pyplot as plt\n",
    "\n",
    "from sklearn.preprocessing import OneHotEncoder\n",
    "from sklearn.model_selection import StratifiedKFold\n",
    "from sklearn.linear_model import LogisticRegression, SGDRegressor\n",
    "from sklearn.metrics import roc_auc_score\n",
    "\n",
    "from hyperopt import hp\n",
    "# ---------------------------------\n",
    "from tools import CV, Tuning, CVGetScore, IdxValEncoder, xdeepfm, CyclicLR, MaxLrFinder\n",
    "# ---------------------------------\n",
    "from tools import focal_loss, gelu, mish\n",
    "from tensorflow.keras.utils import get_custom_objects\n",
    "\n",
    "get_custom_objects().update({'focal_loss': focal_loss()})\n",
    "get_custom_objects().update({'mish': mish})\n",
    "get_custom_objects().update({'gelu': gelu})"
   ]
  },
  {
   "cell_type": "code",
   "execution_count": 3,
   "metadata": {},
   "outputs": [],
   "source": [
    "train_df = pd.read_csv('../data/train.csv', index_col='id')\n",
    "test_df = pd.read_csv('../data/test.csv', index_col='id')\n",
    "\n",
    "# ord_5\n",
    "for i in range(2):\n",
    "    train_df[f'ord_5_{i}'] = train_df['ord_5'].str[i]\n",
    "    test_df[f'ord_5_{i}'] = test_df['ord_5'].str[i]\n",
    "\n",
    "# null\n",
    "train_df['null'] = train_df.isna().sum(axis=1)\n",
    "test_df['null'] = test_df.isna().sum(axis=1)\n",
    "\n",
    "for col in test_df.columns:\n",
    "    train_df[col].fillna('isnull', inplace=True)\n",
    "    test_df[col].fillna('isnull', inplace=True)\n",
    "\n",
    "# target\n",
    "target = train_df['target']\n",
    "y_train = target.values\n",
    "\n",
    "# drop\n",
    "train_df.drop(['target', 'ord_5'], axis=1, inplace=True)\n",
    "test_df.drop(['ord_5'], axis=1, inplace=True)"
   ]
  },
  {
   "cell_type": "code",
   "execution_count": 4,
   "metadata": {},
   "outputs": [],
   "source": [
    "feature_col = train_df.columns\n",
    "\n",
    "bin_col = ['null']\n",
    "\n",
    "class_col = ['bin_0', 'bin_1', 'bin_2', 'bin_3', 'bin_4',\n",
    "             'nom_0', 'nom_1', 'nom_2', 'nom_3', 'nom_4',\n",
    "             'nom_5', 'nom_6', 'nom_7', 'nom_8', 'nom_9',\n",
    "             'ord_0', 'ord_1', 'ord_2', 'ord_3', 'ord_4',\n",
    "             'day', 'month', 'ord_5_0', 'ord_5_1']"
   ]
  },
  {
   "cell_type": "code",
   "execution_count": 5,
   "metadata": {},
   "outputs": [],
   "source": [
    "# for col in bin_col:\n",
    "#     map_dict = dict(zip(train_df[col].unique(), [0., 1.]))\n",
    "#     train_df[col] = train_df[col].map(map_dict)\n",
    "#     test_df[col] = test_df[col].map(map_dict)"
   ]
  },
  {
   "cell_type": "code",
   "execution_count": 6,
   "metadata": {},
   "outputs": [
    {
     "name": "stderr",
     "output_type": "stream",
     "text": [
      "600000it [00:17, 33655.19it/s]\n"
     ]
    }
   ],
   "source": [
    "ecd = IdxValEncoder(feature_col, bin_col=bin_col, class_col=class_col)\n",
    "ecd.fit(train_df, verbose=1)"
   ]
  },
  {
   "cell_type": "code",
   "execution_count": 7,
   "metadata": {},
   "outputs": [
    {
     "name": "stderr",
     "output_type": "stream",
     "text": [
      "400000it [00:12, 32856.38it/s]\n"
     ]
    }
   ],
   "source": [
    "ecd.fit(test_df, verbose=1)"
   ]
  },
  {
   "cell_type": "code",
   "execution_count": 8,
   "metadata": {},
   "outputs": [
    {
     "name": "stderr",
     "output_type": "stream",
     "text": [
      "600000it [00:19, 30328.46it/s]\n",
      "400000it [00:12, 30912.41it/s]\n"
     ]
    }
   ],
   "source": [
    "idx, val = ecd.transform(train_df, verbose=1)\n",
    "idx_test, val_test = ecd.transform(test_df, verbose=1)"
   ]
  },
  {
   "cell_type": "markdown",
   "metadata": {},
   "source": [
    "# Search Max LR"
   ]
  },
  {
   "cell_type": "code",
   "execution_count": 15,
   "metadata": {
    "scrolled": true
   },
   "outputs": [
    {
     "name": "stdout",
     "output_type": "stream",
     "text": [
      "Train on 479999 samples, validate on 120001 samples\n",
      "Epoch 1/5\n",
      "479999/479999 [==============================] - 16s 33us/sample - loss: 0.6898 - AUC: 0.4985 - val_loss: 0.6819 - val_AUC: 0.4999\n",
      "Epoch 2/5\n",
      "479999/479999 [==============================] - 10s 21us/sample - loss: 0.6481 - AUC: 0.5004 - val_loss: 0.5764 - val_AUC: 0.5309\n",
      "Epoch 3/5\n",
      "479999/479999 [==============================] - 10s 21us/sample - loss: 0.4855 - AUC: 0.5741 - val_loss: 0.4189 - val_AUC: 0.7512\n",
      "Epoch 4/5\n",
      "479999/479999 [==============================] - 10s 21us/sample - loss: 0.4013 - AUC: 0.7801 - val_loss: 0.4009 - val_AUC: 0.7811\n",
      "Epoch 5/5\n",
      "479999/479999 [==============================] - 10s 21us/sample - loss: 99750688.1423 - AUC: 0.5806 - val_loss: 686614219.5412 - val_AUC: 0.4912\n",
      "folds 0 is done, score is 0.4911891690990009\n",
      "Train on 479999 samples, validate on 120001 samples\n",
      "Epoch 1/5\n",
      "479999/479999 [==============================] - 12s 25us/sample - loss: 0.6833 - AUC: 0.4983 - val_loss: 0.6637 - val_AUC: 0.5000\n",
      "Epoch 2/5\n",
      "479999/479999 [==============================] - 10s 21us/sample - loss: 0.6026 - AUC: 0.5018 - val_loss: 0.4937 - val_AUC: 0.5551\n",
      "Epoch 3/5\n",
      "479999/479999 [==============================] - 10s 21us/sample - loss: 0.4542 - AUC: 0.6624 - val_loss: 0.4035 - val_AUC: 0.7779\n",
      "Epoch 4/5\n",
      "479999/479999 [==============================] - 10s 21us/sample - loss: 0.3988 - AUC: 0.7836 - val_loss: 0.4023 - val_AUC: 0.7787\n",
      "Epoch 5/5\n",
      "479999/479999 [==============================] - 10s 21us/sample - loss: 525449061.3841 - AUC: 0.5057 - val_loss: 2265797113.0518 - val_AUC: 0.4915\n",
      "folds 1 is done, score is 0.4915057839772484\n",
      "Train on 480000 samples, validate on 120000 samples\n",
      "Epoch 1/5\n",
      "480000/480000 [==============================] - 13s 26us/sample - loss: 0.6803 - AUC: 0.4995 - val_loss: 0.6556 - val_AUC: 0.4999\n",
      "Epoch 2/5\n",
      "480000/480000 [==============================] - 10s 21us/sample - loss: 0.5839 - AUC: 0.5016 - val_loss: 0.4793 - val_AUC: 0.5672\n",
      "Epoch 3/5\n",
      "480000/480000 [==============================] - 10s 21us/sample - loss: 0.4469 - AUC: 0.6866 - val_loss: 0.4013 - val_AUC: 0.7806\n",
      "Epoch 4/5\n",
      "480000/480000 [==============================] - 10s 21us/sample - loss: 0.3988 - AUC: 0.7837 - val_loss: 0.4081 - val_AUC: 0.7753\n",
      "Epoch 5/5\n",
      "480000/480000 [==============================] - 10s 21us/sample - loss: 709316.4101 - AUC: 0.5115 - val_loss: 93277.8562 - val_AUC: 0.5215\n",
      "folds 2 is done, score is 0.521538805355713\n",
      "Train on 480001 samples, validate on 119999 samples\n",
      "Epoch 1/5\n",
      "480001/480001 [==============================] - 12s 26us/sample - loss: 0.6785 - AUC: 0.4998 - val_loss: 0.6507 - val_AUC: 0.5000\n",
      "Epoch 2/5\n",
      "480001/480001 [==============================] - 10s 21us/sample - loss: 0.5738 - AUC: 0.5023 - val_loss: 0.4819 - val_AUC: 0.5741\n",
      "Epoch 3/5\n",
      "480001/480001 [==============================] - 10s 21us/sample - loss: 0.4424 - AUC: 0.6997 - val_loss: 0.3995 - val_AUC: 0.7829\n",
      "Epoch 4/5\n",
      "480001/480001 [==============================] - 10s 21us/sample - loss: 0.3993 - AUC: 0.7833 - val_loss: 0.4168 - val_AUC: 0.7740\n",
      "Epoch 5/5\n",
      "480001/480001 [==============================] - 10s 21us/sample - loss: 20283931112.0712 - AUC: 0.5082 - val_loss: 29573600974.0604 - val_AUC: 0.4991\n",
      "folds 3 is done, score is 0.4991058411514049\n",
      "Train on 480001 samples, validate on 119999 samples\n",
      "Epoch 1/5\n",
      "480001/480001 [==============================] - 12s 25us/sample - loss: 0.6774 - AUC: 0.4991 - val_loss: 0.6474 - val_AUC: 0.4997\n",
      "Epoch 2/5\n",
      "480001/480001 [==============================] - 10s 21us/sample - loss: 0.5677 - AUC: 0.5038 - val_loss: 0.4839 - val_AUC: 0.5883\n",
      "Epoch 3/5\n",
      "480001/480001 [==============================] - 10s 21us/sample - loss: 0.4404 - AUC: 0.7040 - val_loss: 0.3994 - val_AUC: 0.7825\n",
      "Epoch 4/5\n",
      "480001/480001 [==============================] - 10s 21us/sample - loss: 0.3993 - AUC: 0.7830 - val_loss: 0.4174 - val_AUC: 0.7703\n",
      "Epoch 5/5\n",
      "480001/480001 [==============================] - 10s 21us/sample - loss: 62459013887.6972 - AUC: 0.5039 - val_loss: 891777013102.0916 - val_AUC: 0.5097\n",
      "folds 4 is done, score is 0.5096909882284203\n",
      "CPU times: user 5min 1s, sys: 56.3 s, total: 5min 57s\n",
      "Wall time: 4min 38s\n"
     ]
    }
   ],
   "source": [
    "%%time\n",
    "\n",
    "tf.keras.backend.clear_session()\n",
    "\n",
    "batch_size = 8192\n",
    "epochs = 5\n",
    "nflold = 5\n",
    "\n",
    "model_param = {'vocabulary_size':ecd.get_vocabulary(), \n",
    "               'feature_number': len(feature_col),\n",
    "               'activation': 'sigmoid',\n",
    "               'metrics': ['AUC'],\n",
    "               'optimizer': 'Adam',\n",
    "               'loss': 'binary_crossentropy', \n",
    "               'use_linear': False,\n",
    "               'use_deep': False,\n",
    "               'use_cin': True,\n",
    "               'num_cin_layer': 4, 'num_cin_size': 256,\n",
    "               'split_half':True}\n",
    "\n",
    "mf = MaxLrFinder(1e-6, 1e-1, epochs=epochs, batch_size=batch_size, sample_length=train_df.shape[0]*((nflold-1)/nflold))\n",
    "fit_param = {'batch_size': batch_size, 'epochs':epochs, 'verbose': 1, 'callbacks':[mf], 'workers': 16}\n",
    "\n",
    "model = xdeepfm(**model_param)\n",
    "\n",
    "cv = CV(model, nflold)\n",
    "\n",
    "score = cv.fit(x=[idx, val],\n",
    "               y=y_train, \n",
    "               metrics_func=roc_auc_score,\n",
    "               split_method=StratifiedKFold,\n",
    "               fit_params=fit_param,\n",
    "               eval_param={'batch_size':batch_size},\n",
    "               use_proba=False, \n",
    "               verbose=True,\n",
    "               fit_use_valid=True)\n"
   ]
  },
  {
   "cell_type": "code",
   "execution_count": 16,
   "metadata": {},
   "outputs": [],
   "source": [
    "tf.keras.backend.clear_session()"
   ]
  },
  {
   "cell_type": "code",
   "execution_count": 18,
   "metadata": {},
   "outputs": [
    {
     "data": {
      "image/png": "[encoded data removed]",
      "text/plain": [
       "<Figure size 1008x504 with 2 Axes>"
      ]
     },
     "metadata": {},
     "output_type": "display_data"
    }
   ],
   "source": [
    "mf.plot(True, lim=[0, 1])"
   ]
  },
  {
   "cell_type": "markdown",
   "metadata": {},
   "source": [
    "# fit one"
   ]
  },
  {
   "cell_type": "code",
   "execution_count": 21,
   "metadata": {
    "scrolled": true
   },
   "outputs": [
    {
     "name": "stdout",
     "output_type": "stream",
     "text": [
      "Train on 479999 samples, validate on 120001 samples\n",
      "Epoch 1/100\n",
      "479999/479999 [==============================] - 5s 11us/sample - loss: 0.6305 - AUC: 0.5000 - val_loss: 0.5242 - val_AUC: 0.5399\n",
      "Epoch 2/100\n",
      "479999/479999 [==============================] - 3s 7us/sample - loss: 0.4781 - AUC: 0.5861 - val_loss: 0.4483 - val_AUC: 0.7340\n",
      "Epoch 3/100\n",
      "479999/479999 [==============================] - 3s 7us/sample - loss: 0.4101 - AUC: 0.7674 - val_loss: 0.3980 - val_AUC: 0.7848\n",
      "Epoch 4/100\n",
      "479999/479999 [==============================] - 3s 7us/sample - loss: 0.3919 - AUC: 0.7938 - val_loss: 0.3968 - val_AUC: 0.7869\n",
      "Epoch 5/100\n",
      "479999/479999 [==============================] - 3s 7us/sample - loss: 0.3895 - AUC: 0.7972 - val_loss: 0.3971 - val_AUC: 0.7864\n",
      "Epoch 6/100\n",
      "479999/479999 [==============================] - 3s 7us/sample - loss: 0.3879 - AUC: 0.7993 - val_loss: 0.3976 - val_AUC: 0.7861\n",
      "Epoch 7/100\n",
      "479999/479999 [==============================] - 3s 7us/sample - loss: 0.3867 - AUC: 0.8011 - val_loss: 0.3985 - val_AUC: 0.7853\n",
      "folds 0 is done, score is 0.786975332372156\n",
      "Train on 479999 samples, validate on 120001 samples\n",
      "Epoch 1/100\n",
      "479999/479999 [==============================] - 5s 10us/sample - loss: 0.5609 - AUC: 0.5087 - val_loss: 0.4751 - val_AUC: 0.6639\n",
      "Epoch 2/100\n",
      "479999/479999 [==============================] - 3s 7us/sample - loss: 0.4294 - AUC: 0.7357 - val_loss: 0.3989 - val_AUC: 0.7843\n",
      "Epoch 3/100\n",
      "479999/479999 [==============================] - 3s 7us/sample - loss: 0.3930 - AUC: 0.7922 - val_loss: 0.3969 - val_AUC: 0.7874\n",
      "Epoch 4/100\n",
      "479999/479999 [==============================] - 3s 7us/sample - loss: 0.3906 - AUC: 0.7957 - val_loss: 0.3974 - val_AUC: 0.7864\n",
      "Epoch 5/100\n",
      "479999/479999 [==============================] - 3s 7us/sample - loss: 0.3893 - AUC: 0.7974 - val_loss: 0.3977 - val_AUC: 0.7862\n",
      "Epoch 6/100\n",
      "479999/479999 [==============================] - 3s 7us/sample - loss: 0.3875 - AUC: 0.7998 - val_loss: 0.3983 - val_AUC: 0.7854\n",
      "folds 1 is done, score is 0.7874513161202786\n",
      "Train on 480000 samples, validate on 120000 samples\n",
      "Epoch 1/100\n",
      "480000/480000 [==============================] - 5s 10us/sample - loss: 0.5521 - AUC: 0.5113 - val_loss: 0.4714 - val_AUC: 0.6929\n",
      "Epoch 2/100\n",
      "480000/480000 [==============================] - 3s 7us/sample - loss: 0.4199 - AUC: 0.7502 - val_loss: 0.3985 - val_AUC: 0.7846\n",
      "Epoch 3/100\n",
      "480000/480000 [==============================] - 3s 7us/sample - loss: 0.3926 - AUC: 0.7929 - val_loss: 0.3973 - val_AUC: 0.7868\n",
      "Epoch 4/100\n",
      "480000/480000 [==============================] - 3s 7us/sample - loss: 0.3906 - AUC: 0.7957 - val_loss: 0.3970 - val_AUC: 0.7866\n",
      "Epoch 5/100\n",
      "480000/480000 [==============================] - 3s 7us/sample - loss: 0.3890 - AUC: 0.7977 - val_loss: 0.3975 - val_AUC: 0.7862\n",
      "Epoch 6/100\n",
      "480000/480000 [==============================] - 3s 7us/sample - loss: 0.3870 - AUC: 0.8004 - val_loss: 0.3988 - val_AUC: 0.7850\n",
      "folds 2 is done, score is 0.7869122535079061\n",
      "Train on 480001 samples, validate on 119999 samples\n",
      "Epoch 1/100\n",
      "480001/480001 [==============================] - 5s 10us/sample - loss: 0.5475 - AUC: 0.5147 - val_loss: 0.4681 - val_AUC: 0.7035\n",
      "Epoch 2/100\n",
      "480001/480001 [==============================] - 3s 7us/sample - loss: 0.4154 - AUC: 0.7575 - val_loss: 0.3968 - val_AUC: 0.7877\n",
      "Epoch 3/100\n",
      "480001/480001 [==============================] - 3s 7us/sample - loss: 0.3929 - AUC: 0.7926 - val_loss: 0.3954 - val_AUC: 0.7887\n",
      "Epoch 4/100\n",
      "480001/480001 [==============================] - 3s 7us/sample - loss: 0.3911 - AUC: 0.7951 - val_loss: 0.3956 - val_AUC: 0.7884\n",
      "Epoch 5/100\n",
      "480001/480001 [==============================] - 3s 7us/sample - loss: 0.3895 - AUC: 0.7971 - val_loss: 0.3958 - val_AUC: 0.7883\n",
      "Epoch 6/100\n",
      "480001/480001 [==============================] - 3s 7us/sample - loss: 0.3874 - AUC: 0.7999 - val_loss: 0.3967 - val_AUC: 0.7871\n",
      "folds 3 is done, score is 0.788739565255047\n",
      "Train on 480001 samples, validate on 119999 samples\n",
      "Epoch 1/100\n",
      "480001/480001 [==============================] - 5s 10us/sample - loss: 0.5453 - AUC: 0.5146 - val_loss: 0.4664 - val_AUC: 0.7081\n",
      "Epoch 2/100\n",
      "480001/480001 [==============================] - 3s 7us/sample - loss: 0.4133 - AUC: 0.7607 - val_loss: 0.3961 - val_AUC: 0.7878\n",
      "Epoch 3/100\n",
      "480001/480001 [==============================] - 3s 7us/sample - loss: 0.3928 - AUC: 0.7927 - val_loss: 0.3956 - val_AUC: 0.7884\n",
      "Epoch 4/100\n",
      "480001/480001 [==============================] - 3s 7us/sample - loss: 0.3910 - AUC: 0.7952 - val_loss: 0.3961 - val_AUC: 0.7876\n",
      "Epoch 5/100\n",
      "480001/480001 [==============================] - 3s 7us/sample - loss: 0.3894 - AUC: 0.7971 - val_loss: 0.3967 - val_AUC: 0.7878\n",
      "Epoch 6/100\n",
      "480001/480001 [==============================] - 3s 7us/sample - loss: 0.3869 - AUC: 0.8004 - val_loss: 0.3970 - val_AUC: 0.7869\n",
      "folds 4 is done, score is 0.7884473172717457\n",
      "CPU times: user 3min 27s, sys: 13.8 s, total: 3min 41s\n",
      "Wall time: 1min 55s\n"
     ]
    }
   ],
   "source": [
    "%%time\n",
    "\n",
    "batch_size = 8192\n",
    "epochs = 100\n",
    "nflod = 5\n",
    "\n",
    "model_param = {'vocabulary_size':ecd.get_vocabulary(), \n",
    "               'feature_number': len(feature_col),\n",
    "               'activation': 'sigmoid',\n",
    "               'metrics': ['AUC'],\n",
    "               'optimizer': 'Adam',\n",
    "               'loss': 'binary_crossentropy',\n",
    "               'use_linear': False,\n",
    "               'use_deep': False,\n",
    "               'use_cin': True}\n",
    "\n",
    "clr = CyclicLR(base_lr=1e-5,\n",
    "               max_lr=1e-3, \n",
    "               step_size=int(4.0*(train_df.shape[0]*((nflod-1)/nflod)) / batch_size),\n",
    "               mode='triangular2',\n",
    "               gamma=1.0)\n",
    "\n",
    "es = tf.keras.callbacks.EarlyStopping(monitor='val_AUC', patience=3, mode='max', restore_best_weights=True)\n",
    "\n",
    "fit_param = {'batch_size': batch_size, 'epochs':epochs, 'verbose': 1, 'callbacks':[es, clr]}\n",
    "\n",
    "model = xdeepfm(**model_param)\n",
    "\n",
    "cv = CV(model, nflod)\n",
    "\n",
    "score = cv.fit(x=[idx, val],\n",
    "               y=y_train, \n",
    "               metrics_func=roc_auc_score,\n",
    "               split_method=StratifiedKFold,\n",
    "               fit_params=fit_param,\n",
    "               eval_param={'batch_size':batch_size},\n",
    "               use_proba=False, \n",
    "               verbose=True,\n",
    "               fit_use_valid=True)\n",
    "\n",
    "tf.keras.backend.clear_session()"
   ]
  },
  {
   "cell_type": "code",
   "execution_count": 22,
   "metadata": {},
   "outputs": [
    {
     "data": {
      "text/plain": [
       "0.7877051569054266"
      ]
     },
     "execution_count": 22,
     "metadata": {},
     "output_type": "execute_result"
    }
   ],
   "source": [
    "score"
   ]
  },
  {
   "cell_type": "markdown",
   "metadata": {},
   "source": [
    "# Tuning"
   ]
  },
  {
   "cell_type": "code",
   "execution_count": null,
   "metadata": {},
   "outputs": [
    {
     "name": "stdout",
     "output_type": "stream",
     "text": [
      "new best, eval 1, score -0.6196, param {'cin_activation': 'relu', 'cin_dropout': 0.41943913044678, 'l2_cin': 0.2474163272016758, 'l2_pair': 5.8640679331547826e-09, 'loss': 'binary_crossentropy', 'num_cin_layer': 4, 'num_cin_size': 64}\n",
      "new best, eval 2, score -0.7871, param {'cin_activation': 'relu', 'cin_dropout': 0.42866652715232867, 'l2_cin': 0.002535009894349025, 'l2_pair': 2.78515247391503e-05, 'loss': 'binary_crossentropy', 'num_cin_layer': 1, 'num_cin_size': 128}\n",
      "new best, eval 3, score -0.7877, param {'cin_activation': 'mish', 'cin_dropout': 0.24610454750119565, 'l2_cin': 0.0015095265873823595, 'l2_pair': 5.6164992038370736e-08, 'loss': 'binary_crossentropy', 'num_cin_layer': 3, 'num_cin_size': 32}\n",
      "new best, eval 7, score -0.7884, param {'cin_activation': 'gelu', 'cin_dropout': 0.007588570259166039, 'l2_cin': 1.5461542262682648e-08, 'l2_pair': 9.84780463033403e-05, 'loss': 'focal_loss', 'num_cin_layer': 2, 'num_cin_size': 256}\n",
      "new best, eval 11, score -0.7885, param {'cin_activation': 'linear', 'cin_dropout': 0.36230080586979835, 'l2_cin': 9.480524131556419e-07, 'l2_pair': 0.0009541545565196022, 'loss': 'focal_loss', 'num_cin_layer': 3, 'num_cin_size': 64}\n",
      "new best, eval 20, score -0.7886, param {'cin_activation': 'mish', 'cin_dropout': 0.27782233219661284, 'l2_cin': 9.955741308392287e-08, 'l2_pair': 0.0002927787673288, 'loss': 'focal_loss', 'num_cin_layer': 2, 'num_cin_size': 256}\n",
      "new best, eval 25, score -0.7888, param {'cin_activation': 'mish', 'cin_dropout': 0.1830275597524515, 'l2_cin': 2.445392043541247e-09, 'l2_pair': 0.00025928692529886727, 'loss': 'focal_loss', 'num_cin_layer': 3, 'num_cin_size': 64}\n",
      "new best, eval 28, score -0.7888, param {'cin_activation': 'mish', 'cin_dropout': 0.22017188113344932, 'l2_cin': 5.126388295208549e-09, 'l2_pair': 0.00016623128224110646, 'loss': 'focal_loss', 'num_cin_layer': 3, 'num_cin_size': 64}\n",
      " 52%|█████▏    | 52/100 [2:40:15<2:54:25, 218.03s/trial, best loss: -0.7887942848533838]"
     ]
    }
   ],
   "source": [
    "batch_size = 8192\n",
    "epochs = 100\n",
    "nflod = 5\n",
    "\n",
    "# fit param\n",
    "\n",
    "clr = CyclicLR(base_lr=1e-5,\n",
    "               max_lr = 1e-3, \n",
    "               step_size= int(4.0*(train_df.shape[0]*((nflod-1)/nflod)) / batch_size),\n",
    "               mode='triangular2',\n",
    "               gamma=1.0)\n",
    "\n",
    "es = tf.keras.callbacks.EarlyStopping(monitor='val_AUC', \n",
    "                                      patience=2,\n",
    "                                      mode='max',\n",
    "                                      restore_best_weights=True)\n",
    "\n",
    "fit_param = {\n",
    "    'batch_size': batch_size, \n",
    "    'epochs':epochs, \n",
    "    'verbose': 0,\n",
    "    'callbacks':[es, clr]\n",
    "}\n",
    "\n",
    "cv_fit_param = {'fit_params': fit_param, \n",
    "                'eval_param': {'batch_size':batch_size},\n",
    "                'use_proba':False, \n",
    "                'fit_use_valid': True}\n",
    "\n",
    "# model_fix_param & model_search_space\n",
    "model_fix_param = {'vocabulary_size':ecd.get_vocabulary(), \n",
    "                   'feature_number': len(feature_col),\n",
    "                   'activation': 'sigmoid',\n",
    "                   'metrics': ['AUC'],\n",
    "                   'optimizer': 'Adam',\n",
    "                   'use_linear': False,\n",
    "                   'use_deep': False,\n",
    "                   'use_cin': True, \n",
    "                   'k': 5}\n",
    "\n",
    "ss = {\n",
    "    'loss': (hp.choice, ('focal_loss', 'binary_crossentropy')), \n",
    "    'num_cin_layer': (hp.choice, (1, 2, 3, 4)),\n",
    "    'num_cin_size': (hp.choice, (32, 64, 128, 256)),\n",
    "    'cin_activation': (hp.choice, ('mish', 'gelu', 'linear', 'relu')),\n",
    "    'l2_cin': (hp.loguniform, (-20, 0)),\n",
    "    'l2_pair': (hp.loguniform, (-20, 0)),\n",
    "    'cin_dropout': (hp.uniform, (0., 0.5))\n",
    "}\n",
    "\n",
    "# cv get score\n",
    "def neg_auc(y_true, y_pred):\n",
    "    return - roc_auc_score(y_true, y_pred)\n",
    "\n",
    "gs = CVGetScore(x=[idx, val],\n",
    "                y=y_train, \n",
    "                metrics_func=neg_auc,\n",
    "                split_method=StratifiedKFold,\n",
    "                nfolds=nflod, \n",
    "                random_state=2333,\n",
    "                model=xdeepfm, \n",
    "                cv_fit_params=cv_fit_param, \n",
    "                model_fix_params=model_fix_param, \n",
    "                model_search_space=ss)\n",
    "\n",
    "tuning = Tuning(gs, verbose=1)\n",
    "tuning.fmin(gs.GET_SEARCH_SPACE(), max_evals=100)"
   ]
  },
  {
   "cell_type": "markdown",
   "metadata": {},
   "source": [
    "# Stacking"
   ]
  },
  {
   "cell_type": "code",
   "execution_count": 30,
   "metadata": {},
   "outputs": [],
   "source": [
    "log = tuning.log.get_log()"
   ]
  },
  {
   "cell_type": "code",
   "execution_count": 35,
   "metadata": {},
   "outputs": [
    {
     "name": "stdout",
     "output_type": "stream",
     "text": [
      "1960993645\n"
     ]
    }
   ],
   "source": [
    "seed = np.random.randint(2**32)\n",
    "print(seed)"
   ]
  },
  {
   "cell_type": "markdown",
   "metadata": {},
   "source": [
    "### 1960993645"
   ]
  },
  {
   "cell_type": "code",
   "execution_count": 36,
   "metadata": {},
   "outputs": [],
   "source": [
    "######\n",
    "log.to_csv(f'/data/{seed}.csv', index=False)\n",
    "#####"
   ]
  },
  {
   "cell_type": "code",
   "execution_count": 37,
   "metadata": {},
   "outputs": [],
   "source": [
    "batch_size = 8192\n",
    "epochs = 400\n",
    "nflod = 40\n",
    "nmodel = 5"
   ]
  },
  {
   "cell_type": "code",
   "execution_count": 38,
   "metadata": {},
   "outputs": [],
   "source": [
    "# model params\n",
    "model_tuning_param = log.sort_values('score').head(nmodel).reset_index(drop=True).to_dict()\n",
    "\n",
    "model_fix_param = {'vocabulary_size':ecd.get_vocabulary(), \n",
    "                   'feature_number': len(feature_col),\n",
    "                   'activation': 'sigmoid',\n",
    "                   'metrics': ['AUC'],\n",
    "                   'optimizer': 'Adam',\n",
    "                   'use_linear': False,\n",
    "                   'use_deep': False,\n",
    "                   'use_cin': True, \n",
    "                   'k': 5}"
   ]
  },
  {
   "cell_type": "code",
   "execution_count": 39,
   "metadata": {},
   "outputs": [],
   "source": [
    "# callbacks\n",
    "clr = CyclicLR(\n",
    "    base_lr=0.1**(5),\n",
    "    max_lr = 0.1**(3.5), \n",
    "    step_size= int(4.0*(train_df.shape[0]*((nflod-1)/nflod)) / batch_size),\n",
    "    mode='triangular2',\n",
    "    gamma=1.0)\n",
    "\n",
    "es = tf.keras.callbacks.EarlyStopping(monitor='val_AUC', \n",
    "                                      patience=3,\n",
    "                                      mode='max',\n",
    "                                      restore_best_weights=True)\n",
    "\n",
    "# fit\n",
    "fit_param = {\n",
    "    'batch_size': batch_size, \n",
    "    'epochs':epochs, \n",
    "    'verbose': 0,\n",
    "    'callbacks':[es, clr]\n",
    "}"
   ]
  },
  {
   "cell_type": "code",
   "execution_count": 41,
   "metadata": {
    "scrolled": false
   },
   "outputs": [
    {
     "name": "stdout",
     "output_type": "stream",
     "text": [
      "folds 0 is done, score is 0.787444527059162\n",
      "folds 1 is done, score is 0.7867683283203876\n",
      "folds 2 is done, score is 0.7847381991377546\n",
      "folds 3 is done, score is 0.7939158471577272\n",
      "folds 4 is done, score is 0.7874547511655862\n",
      "folds 5 is done, score is 0.7896620448652518\n",
      "folds 6 is done, score is 0.7812161312868744\n",
      "folds 7 is done, score is 0.797122523479971\n",
      "folds 8 is done, score is 0.7837239057557709\n",
      "folds 9 is done, score is 0.7858604388193462\n",
      "folds 10 is done, score is 0.791296316158931\n",
      "folds 11 is done, score is 0.784977106560932\n",
      "folds 12 is done, score is 0.7854727231111336\n",
      "folds 13 is done, score is 0.792888788290486\n",
      "folds 14 is done, score is 0.795085668711817\n",
      "folds 15 is done, score is 0.7933386185467468\n",
      "folds 16 is done, score is 0.7955319791923712\n",
      "folds 17 is done, score is 0.7895506388524351\n",
      "folds 18 is done, score is 0.7863281600517084\n",
      "folds 19 is done, score is 0.7891626602564102\n",
      "folds 20 is done, score is 0.7859381075629435\n",
      "folds 21 is done, score is 0.7875886779009729\n",
      "folds 22 is done, score is 0.7837600236201778\n",
      "folds 23 is done, score is 0.7901438452004397\n",
      "folds 24 is done, score is 0.7912906786758493\n",
      "folds 25 is done, score is 0.790721789450464\n",
      "folds 26 is done, score is 0.7891338448312283\n",
      "folds 27 is done, score is 0.793798555378895\n",
      "folds 28 is done, score is 0.7854304127782639\n",
      "folds 29 is done, score is 0.7900133652163671\n",
      "folds 30 is done, score is 0.7923733383153494\n",
      "folds 31 is done, score is 0.7915494625171052\n",
      "folds 32 is done, score is 0.7834505170360648\n",
      "folds 33 is done, score is 0.7970601314392324\n",
      "folds 34 is done, score is 0.7872717666434859\n",
      "folds 35 is done, score is 0.7826231214621142\n",
      "folds 36 is done, score is 0.7863803432824102\n",
      "folds 37 is done, score is 0.8006734306822487\n",
      "folds 38 is done, score is 0.794295015518664\n",
      "folds 39 is done, score is 0.7894692701004735\n",
      "score:  0.7893626263598389\n",
      "folds 0 is done, score is 0.7875220221560059\n",
      "folds 1 is done, score is 0.7873061804996876\n",
      "folds 2 is done, score is 0.784818497372992\n",
      "folds 3 is done, score is 0.7934316224127165\n",
      "folds 4 is done, score is 0.7871228845125664\n",
      "folds 5 is done, score is 0.7897486225847036\n",
      "folds 6 is done, score is 0.7814051038091392\n",
      "folds 7 is done, score is 0.7971077433429795\n",
      "folds 8 is done, score is 0.7834800188905339\n",
      "folds 9 is done, score is 0.7857785492658771\n",
      "folds 10 is done, score is 0.7910300108052732\n",
      "folds 11 is done, score is 0.7849888342783273\n",
      "folds 12 is done, score is 0.7855400369959097\n",
      "folds 13 is done, score is 0.7924677442496505\n",
      "folds 14 is done, score is 0.7951329447033597\n",
      "folds 15 is done, score is 0.7934192374757909\n",
      "folds 16 is done, score is 0.795780700272375\n",
      "folds 17 is done, score is 0.7899916769718689\n",
      "folds 18 is done, score is 0.7860073346867966\n",
      "folds 19 is done, score is 0.7886787130040903\n",
      "folds 20 is done, score is 0.7857219699667617\n",
      "folds 21 is done, score is 0.7875569268952225\n",
      "folds 22 is done, score is 0.7835372846189366\n",
      "folds 23 is done, score is 0.7904564188090271\n",
      "folds 24 is done, score is 0.7914990318718171\n",
      "folds 25 is done, score is 0.7906960118399997\n",
      "folds 26 is done, score is 0.7892708678008464\n",
      "folds 27 is done, score is 0.7939881705158116\n",
      "folds 28 is done, score is 0.7856631269114864\n",
      "folds 29 is done, score is 0.7902056530460401\n",
      "folds 30 is done, score is 0.7919183817467529\n",
      "folds 31 is done, score is 0.7916599922372151\n",
      "folds 32 is done, score is 0.7836781194618301\n",
      "folds 33 is done, score is 0.7968872388881411\n",
      "folds 34 is done, score is 0.7874589573705798\n",
      "folds 35 is done, score is 0.7829134518408222\n",
      "folds 36 is done, score is 0.7861740785840605\n",
      "folds 37 is done, score is 0.8005013564955326\n",
      "folds 38 is done, score is 0.7943381472624357\n",
      "folds 39 is done, score is 0.7894832335095645\n",
      "score:  0.7893591724490883\n",
      "folds 0 is done, score is 0.787615985690913\n",
      "folds 1 is done, score is 0.7870149752996789\n",
      "folds 2 is done, score is 0.7848532738086895\n",
      "folds 3 is done, score is 0.7935157026979534\n",
      "folds 4 is done, score is 0.7877068751822689\n",
      "folds 5 is done, score is 0.7895517926378327\n",
      "folds 6 is done, score is 0.781974431180878\n",
      "folds 7 is done, score is 0.7972299715707277\n",
      "folds 8 is done, score is 0.7834223588304133\n",
      "folds 9 is done, score is 0.7858935188690355\n",
      "folds 10 is done, score is 0.7906189711061758\n",
      "folds 11 is done, score is 0.7849628814093217\n",
      "folds 12 is done, score is 0.7858100811984505\n",
      "folds 13 is done, score is 0.7926050008973238\n",
      "folds 14 is done, score is 0.7951916709196072\n",
      "folds 15 is done, score is 0.7935001192926471\n",
      "folds 16 is done, score is 0.7958635245380653\n",
      "folds 17 is done, score is 0.7897212384376098\n",
      "folds 18 is done, score is 0.7862437146445101\n",
      "folds 19 is done, score is 0.7890394388969274\n",
      "folds 20 is done, score is 0.7856236061104007\n",
      "folds 21 is done, score is 0.7880203688981986\n",
      "folds 22 is done, score is 0.7838660696426034\n",
      "folds 23 is done, score is 0.7905408496113466\n",
      "folds 24 is done, score is 0.7917856087967637\n",
      "folds 25 is done, score is 0.7907163418308022\n",
      "folds 26 is done, score is 0.7893399926905504\n",
      "folds 27 is done, score is 0.7944122085567297\n",
      "folds 28 is done, score is 0.7852105655429558\n",
      "folds 29 is done, score is 0.7903000589803411\n",
      "folds 30 is done, score is 0.7919084358245283\n",
      "folds 31 is done, score is 0.7915714866738078\n",
      "folds 32 is done, score is 0.7838113305581726\n",
      "folds 33 is done, score is 0.7972014920577504\n",
      "folds 34 is done, score is 0.7877048597090428\n",
      "folds 35 is done, score is 0.7829271950314437\n",
      "folds 36 is done, score is 0.7862564208887618\n",
      "folds 37 is done, score is 0.800405964210205\n",
      "folds 38 is done, score is 0.7945596922301047\n",
      "folds 39 is done, score is 0.7889441378336876\n",
      "score:  0.7894360553196806\n",
      "folds 0 is done, score is 0.7879076434809746\n",
      "folds 1 is done, score is 0.7870896088594124\n",
      "folds 2 is done, score is 0.7847660553255424\n",
      "folds 3 is done, score is 0.7938170305501342\n",
      "folds 4 is done, score is 0.7878913932166065\n",
      "folds 5 is done, score is 0.7892707071471835\n",
      "folds 6 is done, score is 0.7818335817331061\n",
      "folds 7 is done, score is 0.797172793471596\n",
      "folds 8 is done, score is 0.7835355028237656\n",
      "folds 9 is done, score is 0.7858664706341463\n",
      "folds 10 is done, score is 0.7908374162731528\n",
      "folds 11 is done, score is 0.7853369415561837\n",
      "folds 12 is done, score is 0.7857580878311685\n",
      "folds 13 is done, score is 0.7926158377171337\n",
      "folds 14 is done, score is 0.7949289583660483\n",
      "folds 15 is done, score is 0.7933203478438059\n",
      "folds 16 is done, score is 0.7957817518236235\n",
      "folds 17 is done, score is 0.7897621174923914\n",
      "folds 18 is done, score is 0.7860642791078734\n",
      "folds 19 is done, score is 0.7894622501280556\n",
      "folds 20 is done, score is 0.7856371740424808\n",
      "folds 21 is done, score is 0.7883992486549491\n",
      "folds 22 is done, score is 0.7834474354067119\n",
      "folds 23 is done, score is 0.7904266686716245\n",
      "folds 24 is done, score is 0.7910866485239025\n",
      "folds 25 is done, score is 0.7905069370835857\n",
      "folds 26 is done, score is 0.7892505524149225\n",
      "folds 28 is done, score is 0.7851266605162602\n",
      "folds 29 is done, score is 0.7904744120192775\n",
      "folds 30 is done, score is 0.7917736035866777\n",
      "folds 31 is done, score is 0.7913751678976826\n",
      "folds 32 is done, score is 0.7835848527080482\n",
      "folds 33 is done, score is 0.7969677701879145\n",
      "folds 34 is done, score is 0.7868655903689121\n",
      "folds 35 is done, score is 0.7824883476437775\n",
      "folds 36 is done, score is 0.7861857478819421\n",
      "folds 37 is done, score is 0.8007659747826675\n",
      "folds 38 is done, score is 0.7943237748832039\n",
      "folds 39 is done, score is 0.7895800279782315\n",
      "score:  0.7893878506269761\n",
      "folds 0 is done, score is 0.7877978246945279\n",
      "folds 1 is done, score is 0.7873591773349443\n",
      "folds 2 is done, score is 0.7848394479125494\n",
      "folds 3 is done, score is 0.7936067933248462\n",
      "folds 4 is done, score is 0.787836858600474\n",
      "folds 5 is done, score is 0.7897308776573869\n",
      "folds 6 is done, score is 0.7817553580041277\n",
      "folds 7 is done, score is 0.7971396696072712\n",
      "folds 8 is done, score is 0.7833441643111918\n",
      "folds 9 is done, score is 0.7859915322083136\n",
      "folds 10 is done, score is 0.7907114053818861\n",
      "folds 11 is done, score is 0.7852375261485743\n",
      "folds 12 is done, score is 0.7855778636310953\n",
      "folds 13 is done, score is 0.791902418614607\n",
      "folds 14 is done, score is 0.7954051942425465\n",
      "folds 15 is done, score is 0.7940784578743896\n",
      "folds 16 is done, score is 0.7960218852350989\n",
      "folds 17 is done, score is 0.7898197921573906\n",
      "folds 18 is done, score is 0.7864818617925164\n"
     ]
    },
    {
     "name": "stdout",
     "output_type": "stream",
     "text": [
      "folds 19 is done, score is 0.7891007793864175\n",
      "folds 20 is done, score is 0.7860232832140641\n",
      "folds 21 is done, score is 0.7881461022967748\n",
      "folds 22 is done, score is 0.7838103812410735\n",
      "folds 23 is done, score is 0.7905322765476965\n",
      "folds 24 is done, score is 0.7915233782041935\n",
      "folds 25 is done, score is 0.790564976870546\n",
      "folds 26 is done, score is 0.789904120725561\n",
      "folds 27 is done, score is 0.794137636841869\n",
      "folds 28 is done, score is 0.7852503200220967\n",
      "folds 29 is done, score is 0.7900035945526841\n",
      "folds 30 is done, score is 0.7922084638425271\n",
      "folds 31 is done, score is 0.7917611310204813\n",
      "folds 32 is done, score is 0.7835168523939848\n",
      "folds 33 is done, score is 0.797194832233177\n",
      "folds 34 is done, score is 0.7875933952767122\n",
      "folds 35 is done, score is 0.7825092764345963\n",
      "folds 36 is done, score is 0.7863305406468957\n",
      "folds 37 is done, score is 0.8006847649975777\n",
      "folds 38 is done, score is 0.7939362756748533\n",
      "folds 39 is done, score is 0.7894930487929422\n",
      "score:  0.7894715884987615\n"
     ]
    }
   ],
   "source": [
    "pred_lst = []\n",
    "score_lst = []\n",
    "pred_arr_lst = []\n",
    "\n",
    "for i in range(nmodel):\n",
    "    model_params = {}\n",
    "    for param_name, param_value in model_fix_param.items():\n",
    "        model_params[param_name] = param_value\n",
    "        \n",
    "    for param_name in model_tuning_param.keys():\n",
    "        if param_name not in ['score', 'update', 'usetime', 'index']:\n",
    "            model_params[param_name] = model_tuning_param[param_name][i]\n",
    "            \n",
    "    # cv\n",
    "    model = xdeepfm(**model_params)\n",
    "    cv = CV(model, nflod)\n",
    "    \n",
    "    score, pred_arr = cv.fit(x=[idx, val],\n",
    "                             y=y_train, \n",
    "                             metrics_func=roc_auc_score,\n",
    "                             split_method=StratifiedKFold,\n",
    "                             fit_params=fit_param,\n",
    "                             eval_param={'batch_size':batch_size},\n",
    "                             use_proba=False, \n",
    "                             verbose=True,\n",
    "                             fit_use_valid=True,\n",
    "                             output_oof_pred=True)\n",
    "    \n",
    "    pred = cv.predict(x=[idx_test, val_test], pred_param={'batch_size': batch_size})\n",
    "    \n",
    "    pred_lst.append(pred)\n",
    "    score_lst.append(score)\n",
    "    pred_arr_lst.append(pred_arr)\n",
    "    \n",
    "    print('score: ', score)\n",
    "    del model, cv\n",
    "    tf.keras.backend.clear_session()"
   ]
  },
  {
   "cell_type": "code",
   "execution_count": 42,
   "metadata": {},
   "outputs": [
    {
     "data": {
      "text/plain": [
       "(600000, 5)"
      ]
     },
     "execution_count": 42,
     "metadata": {},
     "output_type": "execute_result"
    }
   ],
   "source": [
    "pred_arr = np.array(pred_arr_lst).squeeze().T\n",
    "np.save(f'/data/{seed}stacking1.npy', pred_arr)\n",
    "pred_arr.shape"
   ]
  },
  {
   "cell_type": "code",
   "execution_count": 43,
   "metadata": {},
   "outputs": [
    {
     "data": {
      "text/plain": [
       "(400000, 5)"
      ]
     },
     "execution_count": 43,
     "metadata": {},
     "output_type": "execute_result"
    }
   ],
   "source": [
    "pred = np.array(pred_lst).squeeze().T\n",
    "np.save(f'/data/{seed}predict.npy', pred)\n",
    "pred.shape"
   ]
  },
  {
   "cell_type": "code",
   "execution_count": 44,
   "metadata": {},
   "outputs": [],
   "source": [
    "submission = pd.read_csv('../data/sample_submission.csv', index_col='id')\n",
    "submission['target'] = np.mean(pred_lst, axis=0)\n",
    "submission.to_csv(f'/data/main_4_cin_{seed}.csv')"
   ]
  }
 ],
 "metadata": {
  "kernelspec": {
   "display_name": "Python 3",
   "language": "python",
   "name": "python3"
  },
  "language_info": {
   "codemirror_mode": {
    "name": "ipython",
    "version": 3
   },
   "file_extension": ".py",
   "mimetype": "text/x-python",
   "name": "python",
   "nbconvert_exporter": "python",
   "pygments_lexer": "ipython3",
   "version": "3.7.3"
  }
 },
 "nbformat": 4,
 "nbformat_minor": 2
}
