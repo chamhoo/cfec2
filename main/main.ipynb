{
 "cells": [
  {
   "cell_type": "markdown",
   "metadata": {},
   "source": [
    "# target encoder & ohe & LogisticRegression"
   ]
  },
  {
   "cell_type": "code",
   "execution_count": 2,
   "metadata": {},
   "outputs": [],
   "source": [
    "%load_ext autoreload\n",
    "%autoreload 2\n",
    "\n",
    "import os\n",
    "import warnings\n",
    "warnings.filterwarnings('ignore')\n",
    "\n",
    "import sys\n",
    "sys.path.append(os.path.abspath('..'))\n",
    "# ---------------------------------\n",
    "import numpy as np\n",
    "import pandas as pd\n",
    "import scipy\n",
    "\n",
    "from category_encoders import TargetEncoder\n",
    "from sklearn.preprocessing import OneHotEncoder\n",
    "from sklearn.model_selection import StratifiedKFold\n",
    "from sklearn.linear_model import LogisticRegression, SGDRegressor\n",
    "from sklearn.metrics import roc_auc_score\n",
    "# ---------------------------------\n",
    "from tools import Tuning"
   ]
  },
  {
   "cell_type": "code",
   "execution_count": null,
   "metadata": {},
   "outputs": [],
   "source": [
    "train_df = pd.read_csv('../data/train.csv', index_col='id')\n",
    "test_df = pd.read_csv('../data/test.csv', index_col='id')\n",
    "\n",
    "# ord_5\n",
    "for i in range(2):\n",
    "    train_df[f'ord_5_{i}'] = train_df['ord_5'].str[i]\n",
    "    test_df[f'ord_5_{i}'] = test_df['ord_5'].str[i]\n",
    "\n",
    "# fillna\n",
    "for col in test_df.columns:\n",
    "    train_df[col].fillna(train_df[col].mode()[0], inplace=True)\n",
    "    test_df[col].fillna(test_df[col].mode()[0], inplace=True)\n",
    "\n",
    "# target\n",
    "target = train_df['target']\n",
    "y_train = target.values\n",
    "\n",
    "# drop\n",
    "train_df.drop(['target', 'ord_5'], axis=1, inplace=True)\n",
    "test_df.drop(['ord_5'], axis=1, inplace=True)"
   ]
  },
  {
   "cell_type": "markdown",
   "metadata": {},
   "source": [
    "# ohe"
   ]
  },
  {
   "cell_type": "code",
   "execution_count": null,
   "metadata": {},
   "outputs": [],
   "source": [
    "ohe_features = [\n",
    "    'bin_0', 'bin_1', 'bin_2', 'bin_3', 'bin_4',\n",
    "    'nom_0', 'nom_1', 'nom_2', 'nom_3', 'nom_4',\n",
    "    'ord_0', 'ord_1', 'ord_2', 'ord_3', 'ord_4', 'ord_5_0', 'ord_5_1',\n",
    "    'day', 'month'\n",
    "]\n",
    "\n",
    "\n",
    "ohe = OneHotEncoder(dtype='float32', handle_unknown='ignore')\n",
    "ohe_x_train = ohe.fit_transform(train_df[ohe_features])\n",
    "ohe_x_test = ohe.transform(test_df[ohe_features])"
   ]
  },
  {
   "cell_type": "code",
   "execution_count": null,
   "metadata": {},
   "outputs": [],
   "source": [
    "ohe_x_train.shape"
   ]
  },
  {
   "cell_type": "markdown",
   "metadata": {},
   "source": [
    "## Target Encoder"
   ]
  },
  {
   "cell_type": "code",
   "execution_count": null,
   "metadata": {},
   "outputs": [],
   "source": [
    "target_features = [\n",
    "    'nom_5', 'nom_6', 'nom_7', 'nom_8', 'nom_9'\n",
    "]\n",
    "\n",
    "\n",
    "def transform(transformer, x_train, y_train, cv):\n",
    "    oof = pd.DataFrame(index=x_train.index, columns=x_train.columns)\n",
    "    for train_idx, valid_idx in cv.split(x_train, y_train):\n",
    "        x_train_train = x_train.loc[train_idx]\n",
    "        y_train_train = y_train.loc[train_idx]\n",
    "        x_train_valid = x_train.loc[valid_idx]\n",
    "        transformer.fit(x_train_train, y_train_train)\n",
    "        oof_part = transformer.transform(x_train_valid)\n",
    "        oof.loc[valid_idx] = oof_part\n",
    "    return oof\n",
    "\n",
    "\n",
    "te = TargetEncoder(drop_invariant=True, smoothing=0.2)\n",
    "\n",
    "cv = StratifiedKFold(n_splits=5, shuffle=True, random_state=42)\n",
    "target_x_train = transform(te, train_df[target_features], target, cv).astype('float')\n",
    "\n",
    "te.fit(train_df[target_features], target)\n",
    "target_x_test = te.transform(test_df[target_features]).astype('float')"
   ]
  },
  {
   "cell_type": "markdown",
   "metadata": {},
   "source": [
    "## Merge"
   ]
  },
  {
   "cell_type": "code",
   "execution_count": null,
   "metadata": {},
   "outputs": [],
   "source": [
    "x_train = scipy.sparse.hstack([ohe_x_train, target_x_train]).tocsr()\n",
    "x_test = scipy.sparse.hstack([ohe_x_test, target_x_test]).tocsr()\n",
    "\n",
    "del train_df, test_df, ohe_x_train, target_x_train, ohe_x_test, target_x_test"
   ]
  },
  {
   "cell_type": "markdown",
   "metadata": {},
   "source": [
    "## Tuning"
   ]
  },
  {
   "cell_type": "code",
   "execution_count": null,
   "metadata": {},
   "outputs": [],
   "source": [
    "def neg_auc(y_true, y_pred):\n",
    "    return - roc_auc_score(y_true, y_pred)\n",
    "\n",
    "model = LogisticRegression\n",
    "\n",
    "model_fix_params = {'penalty': 'l2', 'random_state':2333, 'max_iter':10000, 'n_jobs': -1}\n",
    "\n",
    "cv_params = {\n",
    "    'split_method': StratifiedKFold,\n",
    "    'nflod': 10,\n",
    "    'shuffle': True,\n",
    "    'random_state':23333,\n",
    "    'fit_params':None}"
   ]
  },
  {
   "cell_type": "code",
   "execution_count": null,
   "metadata": {},
   "outputs": [],
   "source": [
    "tu = Tuning(x_train, y_train, model, model_fix_params, cv_params, neg_auc)\n",
    "\n",
    "sd = {\n",
    "    'C': tu.hp.loguniform('C', -10, 0),\n",
    "    'solver': tu.hp.choice('solver', ['liblinear', 'sag', 'saga'])\n",
    "}\n",
    "\n",
    "final = tu.fmin(sd)"
   ]
  },
  {
   "cell_type": "code",
   "execution_count": null,
   "metadata": {},
   "outputs": [],
   "source": [
    "tu.best_param"
   ]
  },
  {
   "cell_type": "markdown",
   "metadata": {},
   "source": [
    "# Submission"
   ]
  },
  {
   "cell_type": "code",
   "execution_count": null,
   "metadata": {},
   "outputs": [],
   "source": [
    "submission = pd.read_csv('../data/sample_submission.csv', index_col='id')\n",
    "submission['target'] = y_pred\n",
    "submission.to_csv('logit.csv')"
   ]
  }
 ],
 "metadata": {
  "kernelspec": {
   "display_name": "Python 3",
   "language": "python",
   "name": "python3"
  },
  "language_info": {
   "codemirror_mode": {
    "name": "ipython",
    "version": 3
   },
   "file_extension": ".py",
   "mimetype": "text/x-python",
   "name": "python",
   "nbconvert_exporter": "python",
   "pygments_lexer": "ipython3",
   "version": "3.7.6"
  }
 },
 "nbformat": 4,
 "nbformat_minor": 2
}
