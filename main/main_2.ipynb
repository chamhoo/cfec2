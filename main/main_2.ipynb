{
 "cells": [
  {
   "cell_type": "markdown",
   "metadata": {},
   "source": [
    "# target encoder & ohe & CatBoost"
   ]
  },
  {
   "cell_type": "code",
   "execution_count": 2,
   "metadata": {},
   "outputs": [
    {
     "name": "stdout",
     "output_type": "stream",
     "text": [
      "The autoreload extension is already loaded. To reload it, use:\n",
      "  %reload_ext autoreload\n"
     ]
    }
   ],
   "source": [
    "%load_ext autoreload\n",
    "%autoreload 2\n",
    "\n",
    "import os\n",
    "import warnings\n",
    "warnings.filterwarnings('ignore')\n",
    "\n",
    "import sys\n",
    "sys.path.append(os.path.abspath('..'))\n",
    "# ---------------------------------\n",
    "import numpy as np\n",
    "import pandas as pd\n",
    "import scipy\n",
    "\n",
    "import catboost as cb\n",
    "from category_encoders import TargetEncoder\n",
    "from sklearn.preprocessing import OneHotEncoder\n",
    "from sklearn.model_selection import StratifiedKFold\n",
    "from sklearn.metrics import roc_auc_score\n",
    "from sklearn.model_selection import train_test_split \n",
    "# ---------------------------------\n",
    "# from tools import Tuning"
   ]
  },
  {
   "cell_type": "code",
   "execution_count": 8,
   "metadata": {},
   "outputs": [
    {
     "data": {
      "text/plain": [
       "module"
      ]
     },
     "execution_count": 8,
     "metadata": {},
     "output_type": "execute_result"
    }
   ],
   "source": [
    "os.mkdir('kkk') if "
   ]
  },
  {
   "cell_type": "code",
   "execution_count": 2,
   "metadata": {},
   "outputs": [],
   "source": [
    "train_df = pd.read_csv('../data/train.csv')\n",
    "test_df = pd.read_csv('../data/test.csv')\n",
    "\n",
    "# ord_5\n",
    "for i in range(2):\n",
    "    train_df[f'ord_5_{i}'] = train_df['ord_5'].str[i]\n",
    "    test_df[f'ord_5_{i}'] = test_df['ord_5'].str[i]\n",
    "\n",
    "# fillna\n",
    "for col in test_df.columns:\n",
    "    train_df[col].fillna(train_df[col].mode()[0], inplace=True)\n",
    "    test_df[col].fillna(test_df[col].mode()[0], inplace=True)\n",
    "\n",
    "# target\n",
    "target = train_df['target']\n",
    "y_train = target.values\n",
    "\n",
    "# drop\n",
    "train_df.drop(['target', 'ord_5', 'id'], axis=1, inplace=True)\n",
    "test_df.drop(['ord_5', 'id'], axis=1, inplace=True)"
   ]
  },
  {
   "cell_type": "code",
   "execution_count": 3,
   "metadata": {},
   "outputs": [],
   "source": [
    "train_df = train_df.astype('str')\n",
    "test_df = test_df.astype('str')"
   ]
  },
  {
   "cell_type": "markdown",
   "metadata": {},
   "source": [
    "## Tuning"
   ]
  },
  {
   "cell_type": "code",
   "execution_count": 4,
   "metadata": {},
   "outputs": [],
   "source": [
    "def neg_auc(y_true, y_pred):\n",
    "    return - roc_auc_score(y_true, y_pred)\n",
    "\n",
    "model = cb.CatBoostClassifier\n",
    "\n",
    "model_fix_params = {\n",
    "    'eval_metric': 'AUC', \n",
    "    'iterations': 10000,\n",
    "    'learning_rate': 0.1, \n",
    "    'random_seed':233333,\n",
    "    'task_type':'GPU', \n",
    "    'verbose':0,\n",
    "    'thread_count': 4,\n",
    "    'early_stopping_rounds': 500\n",
    "}\n",
    "\n",
    "cv_params = {\n",
    "    'split_method': StratifiedKFold,\n",
    "    'nflod': 1,\n",
    "    'shuffle': True,\n",
    "    'random_state':23333,\n",
    "    'fit_params':{'cat_features': list(train_df.columns)}\n",
    "}"
   ]
  },
  {
   "cell_type": "code",
   "execution_count": null,
   "metadata": {},
   "outputs": [],
   "source": [
    "tu = Tuning(train_df, target, model, model_fix_params, cv_params, metrics_func=neg_auc, fit_use_metrics=True)"
   ]
  },
  {
   "cell_type": "code",
   "execution_count": null,
   "metadata": {
    "scrolled": false
   },
   "outputs": [],
   "source": [
    "sd = {\n",
    "    'l2_leaf_reg': tu.hp.quniform('l2_leaf_reg', 1, 10, 1),\n",
    "    'depth': tu.hp.quniform('depth', 4, 10, 1),\n",
    "    'loss_function': tu.hp.choice('loss_function', ['Logloss', 'CrossEntropy']),\n",
    "    'bagging_temperature': tu.hp.uniform('bagging_temperature', 0.5, 1),\n",
    "    'random_strength': tu.hp.uniform('random_strength', 0.5, 1)\n",
    "}\n",
    "\n",
    "final = tu.fmin(sd, max_evals=50)"
   ]
  },
  {
   "cell_type": "code",
   "execution_count": null,
   "metadata": {},
   "outputs": [],
   "source": [
    "tu.best_param['learning_rate'] = 0.01\n",
    "tu.best_param['verbose'] = 1\n",
    "tu.cv_params['nflod'] = 5\n",
    "tu.cv_params['fit_params']['verbose_eval'] = 300\n",
    "\n",
    "y_pred = tu.cv_predict(test_df)"
   ]
  },
  {
   "cell_type": "markdown",
   "metadata": {},
   "source": [
    "# Submission"
   ]
  },
  {
   "cell_type": "code",
   "execution_count": null,
   "metadata": {},
   "outputs": [],
   "source": [
    "submission = pd.read_csv('../data/sample_submission.csv', index_col='id')\n",
    "submission['target'] = y_pred\n",
    "submission.to_csv('logit.csv')"
   ]
  }
 ],
 "metadata": {
  "kernelspec": {
   "display_name": "Python 3",
   "language": "python",
   "name": "python3"
  },
  "language_info": {
   "codemirror_mode": {
    "name": "ipython",
    "version": 3
   },
   "file_extension": ".py",
   "mimetype": "text/x-python",
   "name": "python",
   "nbconvert_exporter": "python",
   "pygments_lexer": "ipython3",
   "version": "3.7.6"
  }
 },
 "nbformat": 4,
 "nbformat_minor": 2
}
