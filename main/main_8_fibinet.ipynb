{
 "cells": [
  {
   "cell_type": "markdown",
   "metadata": {},
   "source": [
    "# FiBiNET"
   ]
  },
  {
   "cell_type": "code",
   "execution_count": 1,
   "metadata": {},
   "outputs": [],
   "source": [
    "%load_ext autoreload\n",
    "%autoreload 2\n",
    "\n",
    "import os\n",
    "import warnings\n",
    "warnings.filterwarnings('ignore')\n",
    "\n",
    "import sys\n",
    "sys.path.append(os.path.abspath('..'))\n",
    "# ---------------------------------\n",
    "from time import sleep\n",
    "import numpy as np\n",
    "import pandas as pd\n",
    "import scipy\n",
    "import tqdm\n",
    "import tensorflow as tf\n",
    "from tensorflow.keras.layers import Activation\n",
    "import matplotlib.pyplot as plt\n",
    "\n",
    "from sklearn.preprocessing import OneHotEncoder\n",
    "from sklearn.model_selection import StratifiedKFold, StratifiedShuffleSplit\n",
    "from sklearn.linear_model import LogisticRegression, SGDRegressor\n",
    "from sklearn.metrics import roc_auc_score\n",
    "\n",
    "from hyperopt import hp\n",
    "# ---------------------------------\n",
    "from tools import CV, Tuning, CVGetScore, IdxValEncoder, fibinet, CyclicLR, MaxLrFinder, linear_regression\n",
    "# ---------------------------------\n",
    "from tools import focal_loss, gelu, mish\n",
    "from tensorflow.keras.utils import get_custom_objects\n",
    "\n",
    "get_custom_objects().update({'focal_loss': focal_loss()})\n",
    "get_custom_objects().update({'mish': mish})\n",
    "get_custom_objects().update({'gelu': gelu})"
   ]
  },
  {
   "cell_type": "code",
   "execution_count": 2,
   "metadata": {},
   "outputs": [],
   "source": [
    "train_df = pd.read_csv('../data/train.csv', index_col='id')\n",
    "test_df = pd.read_csv('../data/test.csv', index_col='id')\n",
    "\n",
    "# ord_5\n",
    "for i in range(2):\n",
    "    train_df[f'ord_5_{i}'] = train_df['ord_5'].str[i]\n",
    "    test_df[f'ord_5_{i}'] = test_df['ord_5'].str[i]\n",
    "\n",
    "# null\n",
    "train_df['null'] = train_df.isna().sum(axis=1)\n",
    "test_df['null'] = test_df.isna().sum(axis=1)\n",
    "\n",
    "for col in test_df.columns:\n",
    "    train_df[col].fillna('isnull', inplace=True)\n",
    "    test_df[col].fillna('isnull', inplace=True)\n",
    "\n",
    "# target\n",
    "target = train_df['target']\n",
    "y_train = target.values\n",
    "\n",
    "# drop\n",
    "train_df.drop(['target', 'ord_5'], axis=1, inplace=True)\n",
    "test_df.drop(['ord_5'], axis=1, inplace=True)"
   ]
  },
  {
   "cell_type": "code",
   "execution_count": 3,
   "metadata": {},
   "outputs": [],
   "source": [
    "feature_col = train_df.columns\n",
    "\n",
    "bin_col = ['null']\n",
    "\n",
    "class_col = ['bin_0', 'bin_1', 'bin_2', 'bin_3', 'bin_4',\n",
    "             'nom_0', 'nom_1', 'nom_2', 'nom_3', 'nom_4',\n",
    "             'nom_5', 'nom_6', 'nom_7', 'nom_8', 'nom_9',\n",
    "             'ord_0', 'ord_1', 'ord_2', 'ord_3', 'ord_4',\n",
    "             'day', 'month', 'ord_5_0', 'ord_5_1']"
   ]
  },
  {
   "cell_type": "code",
   "execution_count": 4,
   "metadata": {},
   "outputs": [],
   "source": [
    "# for col in bin_col:\n",
    "#     map_dict = dict(zip(train_df[col].unique(), [0., 1.]))\n",
    "#     train_df[col] = train_df[col].map(map_dict)\n",
    "#     test_df[col] = test_df[col].map(map_dict)"
   ]
  },
  {
   "cell_type": "code",
   "execution_count": 5,
   "metadata": {},
   "outputs": [
    {
     "name": "stderr",
     "output_type": "stream",
     "text": [
      "600000it [00:09, 62340.73it/s]\n"
     ]
    }
   ],
   "source": [
    "ecd = IdxValEncoder(feature_col, bin_col=bin_col, class_col=class_col)\n",
    "ecd.fit(train_df, verbose=1)"
   ]
  },
  {
   "cell_type": "code",
   "execution_count": 6,
   "metadata": {},
   "outputs": [
    {
     "name": "stderr",
     "output_type": "stream",
     "text": [
      "400000it [00:06, 62419.42it/s]\n"
     ]
    }
   ],
   "source": [
    "ecd.fit(test_df, verbose=1)"
   ]
  },
  {
   "cell_type": "code",
   "execution_count": 7,
   "metadata": {},
   "outputs": [
    {
     "name": "stderr",
     "output_type": "stream",
     "text": [
      "600000it [00:11, 51103.30it/s]\n",
      "400000it [00:07, 53361.13it/s]\n"
     ]
    }
   ],
   "source": [
    "idx, val = ecd.transform(train_df, verbose=1)\n",
    "idx_test, val_test = ecd.transform(test_df, verbose=1)"
   ]
  },
  {
   "cell_type": "markdown",
   "metadata": {},
   "source": [
    "经过之前的实验，发现直接训练效果并不好，所以我们将先分别预训练linear和em的权重，最后在进行融合。"
   ]
  },
  {
   "cell_type": "markdown",
   "metadata": {},
   "source": [
    "# PRETRAIN"
   ]
  },
  {
   "cell_type": "markdown",
   "metadata": {},
   "source": [
    "so, 我们用十分之一的数据训练一个epoch, 作为lr部分的权重."
   ]
  },
  {
   "cell_type": "code",
   "execution_count": 38,
   "metadata": {},
   "outputs": [],
   "source": [
    "class PreTrain(object):\n",
    "    def __init__(self, model):\n",
    "        self.model = model\n",
    "    \n",
    "    def get_trainable_w(self, layers):\n",
    "        trainable_w = []\n",
    "        for layer in layers:\n",
    "            for w in self.model.get_layer(layer).weights:\n",
    "                trainable_w.append(w.name)\n",
    "        return trainable_w\n",
    "    \n",
    "    def set_trainable(self, layers):\n",
    "        for l in self.model.layers:\n",
    "            if l.name in layers:\n",
    "                l.trainable = True\n",
    "            else:\n",
    "                l.trainable = False\n",
    "    \n",
    "    def show_w(self, trainable_w):\n",
    "        # loc\n",
    "        len_p = len(trainable_w)\n",
    "        loc1 = int(np.ceil(np.sqrt(len_p)))\n",
    "        loc0 = int(np.ceil(len_p / loc1))\n",
    "\n",
    "        plt.figure(figsize=[loc1 * 7, loc0 * 7])\n",
    "        for idx, w in enumerate(self.model.weights):\n",
    "            if w.name in trainable_w:\n",
    "                plt.subplot(loc0, loc1, idx + 1)\n",
    "                plt.hist(w.numpy())\n",
    "                plt.xlabel(w.name)\n",
    "                \n",
    "    def fit(self, idx, val, y, train_size=0.1, epoch=1, batch_size=1000, base_lr=3, max_lr=3):\n",
    "        # callbacks\n",
    "        clr = CyclicLR(base_lr=0.1**(base_lr),\n",
    "               max_lr = 0.1**(max_lr), \n",
    "               step_size= int(4.0*(train_df.shape[0] * train_size / batch_size)),\n",
    "               mode='triangular2',\n",
    "               gamma=1.0)\n",
    "        \n",
    "        es = tf.keras.callbacks.EarlyStopping(monitor='val_AUC', patience=5, mode='max', restore_best_weights=True)\n",
    "        # fit\n",
    "        ss = StratifiedShuffleSplit(n_splits=1, train_size=train_size, random_state=23333)\n",
    "        for train_idx, test_idx in ss.split(X=idx, y=y_train):\n",
    "            # train idx\n",
    "            x_train_idx = idx[train_idx]\n",
    "            x_train_val = val[train_idx]\n",
    "            y_train_sp = y_train[train_idx]\n",
    "            # test idx\n",
    "            x_test_idx = idx[test_idx]\n",
    "            x_test_val = val[test_idx]\n",
    "            y_test_sp = y_train[test_idx]\n",
    "            # fit\n",
    "            self.model.fit(x=[x_train_idx, x_train_val],\n",
    "                           y=y_train_sp,\n",
    "                           epochs=epoch,\n",
    "                           batch_size=batch_size,\n",
    "                           verbose=1,\n",
    "                           callbacks=[es, clr],\n",
    "                           validation_data=([x_test_idx, x_test_val], y_test_sp))\n",
    "            \n",
    "    def Layers(self, layers='all'):\n",
    "        layers = [l.name for l in self.model.layers] if layers == 'all' else layers\n",
    "        self.set_trainable(layers)\n",
    "        w_lst = self.get_trainable_w(layers)\n",
    "        self.show_w(w_lst)\n",
    "        \n",
    "        \n",
    "        \n",
    "            "
   ]
  },
  {
   "cell_type": "code",
   "execution_count": 39,
   "metadata": {},
   "outputs": [],
   "source": [
    "tf.keras.backend.clear_session()\n",
    "\n",
    "model = fibinet(vocabulary_size=ecd.get_vocabulary(),\n",
    "                feature_number=len(feature_col),\n",
    "                activation='sigmoid',\n",
    "                loss='binary_crossentropy', \n",
    "                metrics=['AUC'],\n",
    "                optimizer='Adam',\n",
    "                bi_type='all',\n",
    "                use_deep=False)"
   ]
  },
  {
   "cell_type": "markdown",
   "metadata": {},
   "source": [
    "# Linear"
   ]
  },
  {
   "cell_type": "code",
   "execution_count": 40,
   "metadata": {
    "scrolled": false
   },
   "outputs": [
    {
     "data": {
      "image/png": "[encoded data removed]",
      "text/plain": [
       "<Figure size 1512x1512 with 8 Axes>"
      ]
     },
     "metadata": {
      "needs_background": "light"
     },
     "output_type": "display_data"
    }
   ],
   "source": [
    "pt = PreTrain(model)\n",
    "pt.Layers('all')"
   ]
  },
  {
   "cell_type": "code",
   "execution_count": 44,
   "metadata": {},
   "outputs": [
    {
     "name": "stdout",
     "output_type": "stream",
     "text": [
      "Train on 6000 samples, validate on 60000 samples\n",
      "6000/6000 [==============================] - 1s 146us/sample - loss: 0.6228 - AUC: 0.5423 - val_loss: 0.6227 - val_AUC: 0.5103\n"
     ]
    }
   ],
   "source": [
    "pt.fit(idx, val, y_train, train_size=0.01, epoch=1, batch_size=1000, base_lr=4, max_lr=4)"
   ]
  },
  {
   "cell_type": "code",
   "execution_count": 45,
   "metadata": {},
   "outputs": [
    {
     "data": {
      "image/png": "[encoded data removed]",
      "text/plain": [
       "<Figure size 1512x1512 with 8 Axes>"
      ]
     },
     "metadata": {
      "needs_background": "light"
     },
     "output_type": "display_data"
    }
   ],
   "source": [
    "pt.Layers()"
   ]
  },
  {
   "cell_type": "markdown",
   "metadata": {},
   "source": [
    "# fit one"
   ]
  },
  {
   "cell_type": "code",
   "execution_count": 46,
   "metadata": {
    "scrolled": true
   },
   "outputs": [
    {
     "name": "stdout",
     "output_type": "stream",
     "text": [
      "CPU times: user 56 µs, sys: 2 µs, total: 58 µs\n",
      "Wall time: 62.9 µs\n"
     ]
    }
   ],
   "source": [
    "%%time\n",
    "\n",
    "batch_size = 1000\n",
    "epochs = 100\n",
    "nflod = 5\n",
    "\n",
    "clr = CyclicLR(base_lr=0.1**(4),\n",
    "               max_lr = 0.1**(3), \n",
    "               step_size= int(4.0*(train_df.shape[0]*((nflod-1)/nflod)) / batch_size),\n",
    "               mode='triangular2',\n",
    "               gamma=1.0)\n",
    "\n",
    "es = tf.keras.callbacks.EarlyStopping(monitor='val_AUC', patience=3, mode='max', restore_best_weights=True)\n",
    "\n",
    "fit_param = {'batch_size': batch_size, 'epochs':epochs, 'verbose': 1, 'callbacks':[es, clr]}"
   ]
  },
  {
   "cell_type": "code",
   "execution_count": 47,
   "metadata": {
    "scrolled": true
   },
   "outputs": [
    {
     "name": "stdout",
     "output_type": "stream",
     "text": [
      "Train on 479999 samples, validate on 120001 samples\n",
      "Epoch 1/100\n",
      "479999/479999 [==============================] - 68s 142us/sample - loss: 0.4966 - AUC: 0.5763 - val_loss: 0.4302 - val_AUC: 0.7614\n",
      "Epoch 2/100\n",
      "479999/479999 [==============================] - 16s 34us/sample - loss: 0.4033 - AUC: 0.7802 - val_loss: 0.3976 - val_AUC: 0.7870\n",
      "Epoch 3/100\n",
      "479999/479999 [==============================] - 16s 34us/sample - loss: 0.3932 - AUC: 0.7939 - val_loss: 0.3981 - val_AUC: 0.7869\n",
      "Epoch 4/100\n",
      "479999/479999 [==============================] - 16s 34us/sample - loss: 0.3924 - AUC: 0.7951 - val_loss: 0.3985 - val_AUC: 0.7865\n",
      "Epoch 5/100\n",
      "479999/479999 [==============================] - 16s 34us/sample - loss: 0.3916 - AUC: 0.7964 - val_loss: 0.3987 - val_AUC: 0.7868\n",
      "folds 0 is done, score is 0.7870933756114791\n",
      "Train on 479999 samples, validate on 120001 samples\n",
      "Epoch 1/100\n",
      "479999/479999 [==============================] - 59s 122us/sample - loss: 0.4436 - AUC: 0.7031 - val_loss: 0.3993 - val_AUC: 0.7850\n",
      "Epoch 2/100\n",
      "479999/479999 [==============================] - 16s 34us/sample - loss: 0.3945 - AUC: 0.7917 - val_loss: 0.3977 - val_AUC: 0.7875\n",
      "Epoch 3/100\n",
      "479999/479999 [==============================] - 16s 33us/sample - loss: 0.3925 - AUC: 0.7947 - val_loss: 0.3987 - val_AUC: 0.7867\n",
      "Epoch 4/100\n",
      "479999/479999 [==============================] - 16s 33us/sample - loss: 0.3921 - AUC: 0.7955 - val_loss: 0.3988 - val_AUC: 0.7867\n",
      "Epoch 5/100\n",
      "479999/479999 [==============================] - 16s 34us/sample - loss: 0.3912 - AUC: 0.7970 - val_loss: 0.3992 - val_AUC: 0.7862\n",
      "folds 1 is done, score is 0.7874746347372962\n",
      "Train on 480000 samples, validate on 120000 samples\n",
      "Epoch 1/100\n",
      "480000/480000 [==============================] - 47s 98us/sample - loss: 0.4414 - AUC: 0.7072 - val_loss: 0.3992 - val_AUC: 0.7848\n",
      "Epoch 2/100\n",
      "480000/480000 [==============================] - 15s 31us/sample - loss: 0.3943 - AUC: 0.7919 - val_loss: 0.3978 - val_AUC: 0.7872\n",
      "Epoch 3/100\n",
      "480000/480000 [==============================] - 15s 31us/sample - loss: 0.3924 - AUC: 0.7950 - val_loss: 0.3982 - val_AUC: 0.7873\n",
      "Epoch 4/100\n",
      "480000/480000 [==============================] - 15s 31us/sample - loss: 0.3920 - AUC: 0.7957 - val_loss: 0.3986 - val_AUC: 0.7865\n",
      "Epoch 5/100\n",
      "480000/480000 [==============================] - 15s 31us/sample - loss: 0.3911 - AUC: 0.7971 - val_loss: 0.3989 - val_AUC: 0.7864\n",
      "Epoch 6/100\n",
      "480000/480000 [==============================] - 15s 32us/sample - loss: 0.3886 - AUC: 0.8008 - val_loss: 0.3999 - val_AUC: 0.7854\n",
      "folds 2 is done, score is 0.7873373296768686\n",
      "Train on 480001 samples, validate on 119999 samples\n",
      "Epoch 1/100\n",
      "480001/480001 [==============================] - 58s 122us/sample - loss: 0.4412 - AUC: 0.7080 - val_loss: 0.3979 - val_AUC: 0.7864\n",
      "Epoch 2/100\n",
      "480001/480001 [==============================] - 16s 34us/sample - loss: 0.3949 - AUC: 0.7912 - val_loss: 0.3959 - val_AUC: 0.7894\n",
      "Epoch 3/100\n",
      "480001/480001 [==============================] - 16s 33us/sample - loss: 0.3935 - AUC: 0.7935 - val_loss: 0.3966 - val_AUC: 0.7888\n",
      "Epoch 4/100\n",
      "480001/480001 [==============================] - 16s 34us/sample - loss: 0.3927 - AUC: 0.7948 - val_loss: 0.3975 - val_AUC: 0.7888\n",
      "Epoch 5/100\n",
      "480001/480001 [==============================] - 16s 34us/sample - loss: 0.3924 - AUC: 0.7954 - val_loss: 0.3971 - val_AUC: 0.7885\n",
      "folds 3 is done, score is 0.7894229354368664\n",
      "Train on 480001 samples, validate on 119999 samples\n",
      "Epoch 1/100\n",
      "480001/480001 [==============================] - 60s 126us/sample - loss: 0.4412 - AUC: 0.7079 - val_loss: 0.3984 - val_AUC: 0.7859\n",
      "Epoch 2/100\n",
      "480001/480001 [==============================] - 16s 34us/sample - loss: 0.3951 - AUC: 0.7909 - val_loss: 0.3965 - val_AUC: 0.7888\n",
      "Epoch 3/100\n",
      "480001/480001 [==============================] - 16s 34us/sample - loss: 0.3931 - AUC: 0.7941 - val_loss: 0.3973 - val_AUC: 0.7884\n",
      "Epoch 4/100\n",
      "480001/480001 [==============================] - 17s 35us/sample - loss: 0.3926 - AUC: 0.7949 - val_loss: 0.3973 - val_AUC: 0.7882\n",
      "Epoch 5/100\n",
      "480001/480001 [==============================] - 16s 34us/sample - loss: 0.3918 - AUC: 0.7962 - val_loss: 0.3975 - val_AUC: 0.7883\n",
      "folds 4 is done, score is 0.7888353806296725\n",
      "CPU times: user 13min 49s, sys: 36.2 s, total: 14min 25s\n",
      "Wall time: 11min 43s\n"
     ]
    }
   ],
   "source": [
    "%%time\n",
    "\n",
    "\n",
    "cv = CV(model, nflod)\n",
    "\n",
    "score = cv.fit(x=[idx, val],\n",
    "               y=y_train,\n",
    "               metrics_func=roc_auc_score,\n",
    "               split_method=StratifiedKFold,\n",
    "               fit_params=fit_param,\n",
    "               eval_param={'batch_size':batch_size},\n",
    "               use_proba=False, \n",
    "               verbose=True,\n",
    "               fit_use_valid=True)\n",
    "\n",
    "tf.keras.backend.clear_session()"
   ]
  },
  {
   "cell_type": "code",
   "execution_count": 48,
   "metadata": {},
   "outputs": [
    {
     "data": {
      "text/plain": [
       "0.7880327312184365"
      ]
     },
     "execution_count": 48,
     "metadata": {},
     "output_type": "execute_result"
    }
   ],
   "source": [
    "score"
   ]
  },
  {
   "cell_type": "markdown",
   "metadata": {},
   "source": [
    "# Tuning"
   ]
  },
  {
   "cell_type": "code",
   "execution_count": null,
   "metadata": {},
   "outputs": [],
   "source": [
    "batch_size = 8192\n",
    "epochs = 100\n",
    "nflod = 5\n",
    "\n",
    "# fit param\n",
    "\n",
    "clr = CyclicLR(base_lr=0.1**(4),\n",
    "               max_lr = 0.1**(3),\n",
    "               step_size= int(4.0*(train_df.shape[0]*((nflod-1)/nflod)) / batch_size),\n",
    "               mode='triangular2',\n",
    "               gamma=1.0)\n",
    "\n",
    "es = tf.keras.callbacks.EarlyStopping(monitor='val_AUC', \n",
    "                                      patience=2,\n",
    "                                      mode='max',\n",
    "                                      restore_best_weights=True)\n",
    "\n",
    "fit_param = {\n",
    "    'batch_size': batch_size, \n",
    "    'epochs':epochs, \n",
    "    'verbose': 0,\n",
    "    'callbacks':[es, clr]\n",
    "}\n",
    "\n",
    "cv_fit_param = {'fit_params': fit_param, \n",
    "                'eval_param': {'batch_size':batch_size},\n",
    "                'use_proba':False, \n",
    "                'fit_use_valid': True}\n",
    "\n",
    "# model_fix_param & model_search_space\n",
    "model_fix_param = {'vocabulary_size':ecd.get_vocabulary(), \n",
    "                   'feature_number': len(feature_col),\n",
    "                   'activation': 'sigmoid',\n",
    "                   'metrics': ['AUC'],\n",
    "                   'optimizer': 'Adam',\n",
    "                   'loss': 'binary_crossentropy',\n",
    "                   'deep_use_bias': True}\n",
    "ss = {\n",
    "    'k': (hp.choice, (10, 20, 30, 40, 50)),\n",
    "    'l2_linear': (hp.loguniform, (-20, -10)),\n",
    "    'l2_pair': (hp.loguniform, (-20, 0)),\n",
    "    'l2_deep': (hp.loguniform, (-20, 0)),\n",
    "    'deep_dropout': (hp.uniform, (0, 0.5)),\n",
    "    'se_ratio': (hp.choice, (3, 4)),\n",
    "    'em_use_bi': (hp.choice, (True, False)),\n",
    "    'selike_bi': (hp.choice, (True, False)),\n",
    "    'bi_type': (hp.choice, ('all', 'each', 'interaction')),\n",
    "    'num_deep_layer': (hp.choice, (1, 2, 3 ,4, 5)),\n",
    "    'num_neuron': (hp.choice, (100, 200, 300, 400, 500)),\n",
    "}\n",
    "\n",
    "# cv get score\n",
    "def neg_auc(y_true, y_pred):\n",
    "    return - roc_auc_score(y_true, y_pred)\n",
    "\n",
    "gs = CVGetScore(x=[idx, val],\n",
    "                y=y_train, \n",
    "                metrics_func=neg_auc,\n",
    "                split_method=StratifiedKFold,\n",
    "                nfolds=nflod, \n",
    "                random_state=2333,\n",
    "                model=fibinet, \n",
    "                cv_fit_params=cv_fit_param, \n",
    "                model_fix_params=model_fix_param, \n",
    "                model_search_space=ss)\n",
    "\n",
    "tuning = Tuning(gs, verbose=1)\n",
    "tuning.fmin(gs.GET_SEARCH_SPACE(), max_evals=100)"
   ]
  },
  {
   "cell_type": "code",
   "execution_count": null,
   "metadata": {},
   "outputs": [],
   "source": [
    "log = tuning.log.get_log()"
   ]
  },
  {
   "cell_type": "code",
   "execution_count": null,
   "metadata": {
    "scrolled": true
   },
   "outputs": [],
   "source": [
    "log.sort_values('score').head(20)"
   ]
  },
  {
   "cell_type": "code",
   "execution_count": null,
   "metadata": {
    "scrolled": true
   },
   "outputs": [],
   "source": [
    "log.sort_values('score').tail(20)"
   ]
  },
  {
   "cell_type": "code",
   "execution_count": null,
   "metadata": {},
   "outputs": [],
   "source": [
    "%matplotlib inline\n",
    "tuning.log.plot(score_interval=[-0.789, -0.788])"
   ]
  },
  {
   "cell_type": "markdown",
   "metadata": {},
   "source": [
    "# Tuning 2"
   ]
  },
  {
   "cell_type": "code",
   "execution_count": null,
   "metadata": {},
   "outputs": [],
   "source": [
    "batch_size = 8192\n",
    "epochs = 100\n",
    "nflod = 5\n",
    "\n",
    "# fit param\n",
    "\n",
    "clr = CyclicLR(base_lr=0.1**(4),\n",
    "               max_lr = 0.1**(3),\n",
    "               step_size= int(4.0*(train_df.shape[0]*((nflod-1)/nflod)) / batch_size),\n",
    "               mode='triangular2',\n",
    "               gamma=1.0)\n",
    "\n",
    "es = tf.keras.callbacks.EarlyStopping(monitor='val_AUC', \n",
    "                                      patience=2,\n",
    "                                      mode='max',\n",
    "                                      restore_best_weights=True)\n",
    "\n",
    "fit_param = {\n",
    "    'batch_size': batch_size, \n",
    "    'epochs':epochs, \n",
    "    'verbose': 0,\n",
    "    'callbacks':[es, clr]\n",
    "}\n",
    "\n",
    "cv_fit_param = {'fit_params': fit_param, \n",
    "                'eval_param': {'batch_size':batch_size},\n",
    "                'use_proba':False, \n",
    "                'fit_use_valid': True}\n",
    "\n",
    "# model_fix_param & model_search_space\n",
    "model_fix_param = {'vocabulary_size':ecd.get_vocabulary(), \n",
    "                   'feature_number': len(feature_col),\n",
    "                   'activation': 'sigmoid',\n",
    "                   'metrics': ['AUC'],\n",
    "                   'optimizer': 'Adam', \n",
    "                   'use_linear': False, \n",
    "                   'use_deep': False,\n",
    "                   'loss': 'binary_crossentropy',\n",
    "                   'use_res':True}\n",
    "\n",
    "ss = {\n",
    "    'k': (hp.choice, (5, 8)),\n",
    "    'attem_size': (hp.choice, (8, 16, 24, 32)),\n",
    "    'head_num': (hp.choice, (2, 4, 8)),\n",
    "    'num_att_layer': (hp.choice, (1, 2, 3 ,4)),\n",
    "    'l2_em': (hp.loguniform, (-12.5, -5)),\n",
    "    'att_act': (hp.choice, ('mish', 'gelu')),\n",
    "    'att_dropout': (hp.uniform, (0, 0.5)),\n",
    "}\n",
    "\n",
    "# cv get score\n",
    "def neg_auc(y_true, y_pred):\n",
    "    return - roc_auc_score(y_true, y_pred)\n",
    "\n",
    "gs = CVGetScore(x=[idx, val],\n",
    "                y=y_train, \n",
    "                metrics_func=neg_auc,\n",
    "                split_method=StratifiedKFold,\n",
    "                nfolds=nflod, \n",
    "                random_state=2333,\n",
    "                model=auto_int, \n",
    "                cv_fit_params=cv_fit_param, \n",
    "                model_fix_params=model_fix_param, \n",
    "                model_search_space=ss)\n",
    "\n",
    "tuning = Tuning(gs, verbose=1)\n",
    "tuning.fmin(gs.GET_SEARCH_SPACE(), max_evals=100)"
   ]
  },
  {
   "cell_type": "code",
   "execution_count": null,
   "metadata": {},
   "outputs": [],
   "source": [
    "log = tuning.log.get_log()"
   ]
  },
  {
   "cell_type": "code",
   "execution_count": null,
   "metadata": {},
   "outputs": [],
   "source": [
    "log.sort_values('score').head(20)"
   ]
  },
  {
   "cell_type": "code",
   "execution_count": null,
   "metadata": {},
   "outputs": [],
   "source": [
    "log.sort_values('score').tail(20)"
   ]
  },
  {
   "cell_type": "code",
   "execution_count": null,
   "metadata": {},
   "outputs": [],
   "source": [
    "%matplotlib inline\n",
    "tuning.log.plot(score_interval=[-0.789, -0.788])"
   ]
  },
  {
   "cell_type": "code",
   "execution_count": null,
   "metadata": {},
   "outputs": [],
   "source": []
  },
  {
   "cell_type": "code",
   "execution_count": null,
   "metadata": {},
   "outputs": [],
   "source": [
    "seed = np.random.randint(2**32)"
   ]
  },
  {
   "cell_type": "markdown",
   "metadata": {},
   "source": [
    "### 2072349059"
   ]
  },
  {
   "cell_type": "code",
   "execution_count": null,
   "metadata": {},
   "outputs": [],
   "source": [
    "! mkdir ../tmp/autoint"
   ]
  },
  {
   "cell_type": "code",
   "execution_count": null,
   "metadata": {},
   "outputs": [],
   "source": [
    "log.to_csv(f'../tmp/autoint/{seed}.csv', index=False)"
   ]
  },
  {
   "cell_type": "code",
   "execution_count": null,
   "metadata": {},
   "outputs": [],
   "source": [
    "batch_size = 8192\n",
    "epochs = 400\n",
    "nflod = 40\n",
    "nmodel = 5"
   ]
  },
  {
   "cell_type": "code",
   "execution_count": null,
   "metadata": {},
   "outputs": [],
   "source": [
    "# model params\n",
    "model_tuning_param = log.sort_values('score').head(nmodel).reset_index(drop=True).to_dict()\n",
    "\n",
    "model_fix_param = {'vocabulary_size':ecd.get_vocabulary(), \n",
    "                   'feature_number': len(feature_col),\n",
    "                   'activation': 'sigmoid',\n",
    "                   'metrics': ['AUC'],\n",
    "                   'optimizer': 'Adam', \n",
    "                   'use_linear': False, \n",
    "                   'use_deep': False,\n",
    "                   'loss': 'binary_crossentropy',\n",
    "                   'use_res':True}"
   ]
  },
  {
   "cell_type": "code",
   "execution_count": null,
   "metadata": {},
   "outputs": [],
   "source": [
    "# callbacks\n",
    "clr = CyclicLR(\n",
    "    base_lr=1e-4,\n",
    "    max_lr = 0.1**(3), \n",
    "    step_size= int(4.0*(train_df.shape[0]*((nflod-1)/nflod)) / batch_size),\n",
    "    mode='triangular2',\n",
    "    gamma=1.0)\n",
    "\n",
    "es = tf.keras.callbacks.EarlyStopping(monitor='val_AUC', \n",
    "                                      patience=2,\n",
    "                                      mode='max',\n",
    "                                      restore_best_weights=True)\n",
    "\n",
    "# fit\n",
    "fit_param = {\n",
    "    'batch_size': batch_size, \n",
    "    'epochs':epochs, \n",
    "    'verbose': 0,\n",
    "    'callbacks':[es, clr]\n",
    "}"
   ]
  },
  {
   "cell_type": "markdown",
   "metadata": {},
   "source": [
    "# Stacking 1"
   ]
  },
  {
   "cell_type": "code",
   "execution_count": null,
   "metadata": {
    "scrolled": false
   },
   "outputs": [],
   "source": [
    "pred_lst = []\n",
    "score_lst = []\n",
    "pred_arr_lst = []\n",
    "\n",
    "for i in range(nmodel):\n",
    "    model_params = {}\n",
    "    for param_name, param_value in model_fix_param.items():\n",
    "        model_params[param_name] = param_value\n",
    "        \n",
    "    for param_name in model_tuning_param.keys():\n",
    "        if param_name not in ['score', 'update', 'usetime', 'index']:\n",
    "            model_params[param_name] = model_tuning_param[param_name][i]\n",
    "            \n",
    "    # cv\n",
    "    model = auto_int(**model_params)\n",
    "    cv = CV(model, nflod)\n",
    "    \n",
    "    score, pred_arr = cv.fit(x=[idx, val],\n",
    "                             y=y_train, \n",
    "                             metrics_func=roc_auc_score,\n",
    "                             split_method=StratifiedKFold,\n",
    "                             fit_params=fit_param,\n",
    "                             eval_param={'batch_size':batch_size},\n",
    "                             use_proba=False, \n",
    "                             verbose=True,\n",
    "                             fit_use_valid=True,\n",
    "                             output_oof_pred=True)\n",
    "    \n",
    "    pred = cv.predict(x=[idx_test, val_test], pred_param={'batch_size': batch_size})\n",
    "    \n",
    "    pred_lst.append(pred)\n",
    "    score_lst.append(score)\n",
    "    pred_arr_lst.append(pred_arr)\n",
    "    \n",
    "    print('score: ', score)\n",
    "    tf.keras.backend.clear_session()"
   ]
  },
  {
   "cell_type": "code",
   "execution_count": null,
   "metadata": {},
   "outputs": [],
   "source": [
    "pred_arr = np.array(pred_arr_lst).squeeze().T\n",
    "np.save(f'../tmp/autoint/{seed}stacking1.npy', pred_arr)\n",
    "pred_arr.shape"
   ]
  },
  {
   "cell_type": "code",
   "execution_count": null,
   "metadata": {},
   "outputs": [],
   "source": [
    "pred = np.array(pred_lst).squeeze().T\n",
    "np.save(f'../tmp/autoint/{seed}predict.npy', pred)\n",
    "pred.shape"
   ]
  },
  {
   "cell_type": "code",
   "execution_count": null,
   "metadata": {},
   "outputs": [],
   "source": [
    "submission = pd.read_csv('../data/sample_submission.csv', index_col='id')\n",
    "submission['target'] = np.mean(pred_lst, axis=0)\n",
    "submission.to_csv(f'/data/main_7_autoint_{seed}.csv')"
   ]
  },
  {
   "cell_type": "code",
   "execution_count": null,
   "metadata": {},
   "outputs": [],
   "source": []
  }
 ],
 "metadata": {
  "kernelspec": {
   "display_name": "Python 3",
   "language": "python",
   "name": "python3"
  },
  "language_info": {
   "codemirror_mode": {
    "name": "ipython",
    "version": 3
   },
   "file_extension": ".py",
   "mimetype": "text/x-python",
   "name": "python",
   "nbconvert_exporter": "python",
   "pygments_lexer": "ipython3",
   "version": "3.6.6"
  }
 },
 "nbformat": 4,
 "nbformat_minor": 2
}
