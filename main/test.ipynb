{
 "cells": [
  {
   "cell_type": "code",
   "execution_count": 6,
   "metadata": {},
   "outputs": [
    {
     "name": "stdout",
     "output_type": "stream",
     "text": [
      "The autoreload extension is already loaded. To reload it, use:\n",
      "  %reload_ext autoreload\n"
     ]
    }
   ],
   "source": [
    "%load_ext autoreload\n",
    "%autoreload 2\n",
    "\n",
    "import os\n",
    "import warnings\n",
    "warnings.filterwarnings('ignore')\n",
    "\n",
    "import sys\n",
    "sys.path.append(os.path.abspath('..'))\n",
    "# ---------------------------------\n",
    "from time import sleep\n",
    "import numpy as np\n",
    "import tensorflow as tf\n",
    "%matplotlib qt5\n",
    "\n",
    "from hyperopt import hp\n",
    "# ---------------------------------\n",
    "from tools import Tuning"
   ]
  },
  {
   "cell_type": "code",
   "execution_count": 9,
   "metadata": {},
   "outputs": [
    {
     "name": "stdout",
     "output_type": "stream",
     "text": [
      "new best, eval 1, score -1.6447, param {'p_choice': True, 'p_log': 0.014083469716463997, 'p_normal': 2.9906689415589716, 'p_uniform': 0.4497535386204372}\n",
      "new best, eval 2, score -5.4694, param {'p_choice': False, 'p_log': 0.00010232193573601608, 'p_normal': 2.0862455150376946, 'p_uniform': 1.6316936640445727}\n",
      "new best, eval 3, score -10.3678, param {'p_choice': True, 'p_log': 0.0007571899652682732, 'p_normal': 0.4766991725248977, 'p_uniform': 1.5252871826190775}\n",
      "new best, eval 8, score -12.0693, param {'p_choice': True, 'p_log': 0.0002827404483652597, 'p_normal': 1.3019367040665666, 'p_uniform': 0.8343914253474431}\n",
      "new best, eval 21, score -19.5203, param {'p_choice': True, 'p_log': 5.699345384530555e-05, 'p_normal': -1.1675987134083037, 'p_uniform': 1.1800184401805554}\n",
      "new best, eval 23, score -21.4127, param {'p_choice': True, 'p_log': 4.656765286137031e-05, 'p_normal': -1.438139076449315, 'p_uniform': 0.7063802734398082}\n",
      "new best, eval 24, score -22.8878, param {'p_choice': True, 'p_log': 4.867930488283875e-05, 'p_normal': -1.5260830907598457, 'p_uniform': 0.012428419479687092}\n",
      "new best, eval 67, score -23.1761, param {'p_choice': True, 'p_log': 7.026431372004983e-05, 'p_normal': -2.07260822873825, 'p_uniform': 0.047816430684855825}\n",
      "new best, eval 68, score -23.4173, param {'p_choice': True, 'p_log': 6.89561343005818e-05, 'p_normal': -2.194683476915092, 'p_uniform': 0.06807033787591413}\n",
      "new best, eval 78, score -23.5803, param {'p_choice': True, 'p_log': 5.879305401212798e-05, 'p_normal': -2.315425435761257, 'p_uniform': 0.2667727378636725}\n",
      "new best, eval 80, score -24.5023, param {'p_choice': True, 'p_log': 5.492744966455055e-05, 'p_normal': -2.7228032772711384, 'p_uniform': 0.2811324847691926}\n",
      "new best, eval 93, score -25.0209, param {'p_choice': True, 'p_log': 4.6764905837156174e-05, 'p_normal': -2.6453051967533328, 'p_uniform': 0.10524075802494315}\n",
      "100%|██████████| 100/100 [00:11<00:00,  8.48trial/s, best loss: -25.020883900681202]\n"
     ]
    },
    {
     "data": {
      "text/plain": [
       "{'p_choice': 0,\n",
       " 'p_log': 4.6764905837156174e-05,\n",
       " 'p_normal': -2.6453051967533328,\n",
       " 'p_uniform': 0.10524075802494315}"
      ]
     },
     "execution_count": 9,
     "metadata": {},
     "output_type": "execute_result"
    }
   ],
   "source": [
    "def scorefunc(params):\n",
    "    if params['p_choice']:\n",
    "        score = (params['p_uniform'] + np.log(params['p_log']) + params['p_normal']) * 2\n",
    "    else:\n",
    "        score = params['p_uniform'] + np.log(params['p_log']) + params['p_normal']\n",
    "    sleep(0.1)\n",
    "    return score\n",
    "\n",
    "\n",
    "sd = {\n",
    "    'p_choice': (hp.choice, (True, False)),\n",
    "    'p_uniform': (hp.uniform, (0, 2)),\n",
    "    'p_log': (hp.loguniform, (-10, 1)),\n",
    "    'p_normal': (hp.normal, (2, 1))\n",
    "}\n",
    "\n",
    "tu = Tuning(scorefunc, 1)\n",
    "tu.fmin(sd, 100)\n"
   ]
  },
  {
   "cell_type": "code",
   "execution_count": 10,
   "metadata": {},
   "outputs": [
    {
     "name": "stdout",
     "output_type": "stream",
     "text": [
      "[-10, 10]\n",
      "[-10, 10]\n",
      "[-10, 10]\n",
      "[-10, 10]\n"
     ]
    }
   ],
   "source": [
    "tu.log.plot([-10, 10])"
   ]
  },
  {
   "cell_type": "code",
   "execution_count": null,
   "metadata": {},
   "outputs": [],
   "source": []
  }
 ],
 "metadata": {
  "kernelspec": {
   "display_name": "Python 3",
   "language": "python",
   "name": "python3"
  },
  "language_info": {
   "codemirror_mode": {
    "name": "ipython",
    "version": 3
   },
   "file_extension": ".py",
   "mimetype": "text/x-python",
   "name": "python",
   "nbconvert_exporter": "python",
   "pygments_lexer": "ipython3",
   "version": "3.7.6"
  }
 },
 "nbformat": 4,
 "nbformat_minor": 2
}
