{
 "cells": [
  {
   "cell_type": "markdown",
   "metadata": {},
   "source": [
    "# deepctr"
   ]
  },
  {
   "cell_type": "code",
   "execution_count": 1,
   "metadata": {},
   "outputs": [],
   "source": [
    "%load_ext autoreload\n",
    "%autoreload 2\n",
    "\n",
    "import os\n",
    "import warnings\n",
    "warnings.filterwarnings('ignore')\n",
    "\n",
    "import sys\n",
    "sys.path.append(os.path.abspath('..'))\n",
    "# ---------------------------------\n",
    "from time import sleep\n",
    "import numpy as np\n",
    "import pandas as pd\n",
    "import scipy\n",
    "import tqdm\n",
    "from copy import deepcopy\n",
    "import tensorflow as tf\n",
    "from tensorflow.keras.layers import Activation\n",
    "import matplotlib.pyplot as plt\n",
    "\n",
    "from sklearn.model_selection import StratifiedKFold\n",
    "from sklearn.metrics import roc_auc_score\n",
    "from sklearn.preprocessing import LabelEncoder\n",
    "\n",
    "from hyperopt import hp\n",
    "from deepctr.models import xDeepFM\n",
    "from deepctr.inputs import  SparseFeat, DenseFeat, get_feature_names\n",
    "# ---------------------------------\n",
    "from tools import CV, Tuning, CVGetScore, IdxValEncoder, LE, CyclicLR, MaxLrFinder\n",
    "# ---------------------------------\n",
    "from tools import focal_loss, gelu, mish\n",
    "from tensorflow.keras.utils import get_custom_objects\n",
    "\n",
    "get_custom_objects().update({'focal_loss': focal_loss()})\n",
    "get_custom_objects().update({'mish': mish})\n",
    "get_custom_objects().update({'gelu': gelu})"
   ]
  },
  {
   "cell_type": "code",
   "execution_count": 2,
   "metadata": {},
   "outputs": [],
   "source": [
    "train_df = pd.read_csv('../data/train.csv', index_col='id')\n",
    "test_df = pd.read_csv('../data/test.csv', index_col='id')\n",
    "\n",
    "# ord_5\n",
    "for i in range(2):\n",
    "    train_df[f'ord_5_{i}'] = train_df['ord_5'].str[i]\n",
    "    test_df[f'ord_5_{i}'] = test_df['ord_5'].str[i]\n",
    "\n",
    "# null\n",
    "train_df['null'] = train_df.isna().sum(axis=1)\n",
    "test_df['null'] = test_df.isna().sum(axis=1)\n",
    "\n",
    "for col in test_df.columns:\n",
    "    train_df[col].fillna('isnull', inplace=True)\n",
    "    test_df[col].fillna('isnull', inplace=True)\n",
    "\n",
    "# target\n",
    "target = train_df['target']\n",
    "y_train = target.values\n",
    "\n",
    "# drop\n",
    "train_df.drop(['target', 'ord_5'], axis=1, inplace=True)\n",
    "test_df.drop(['ord_5'], axis=1, inplace=True)"
   ]
  },
  {
   "cell_type": "code",
   "execution_count": 3,
   "metadata": {},
   "outputs": [],
   "source": [
    "feature_col = train_df.columns\n",
    "\n",
    "bin_col = ['null']\n",
    "\n",
    "class_col = ['bin_0', 'bin_1', 'bin_2', 'bin_3', 'bin_4',\n",
    "             'nom_0', 'nom_1', 'nom_2', 'nom_3', 'nom_4',\n",
    "             'nom_5', 'nom_6', 'nom_7', 'nom_8', 'nom_9',\n",
    "             'ord_0', 'ord_1', 'ord_2', 'ord_3', 'ord_4',\n",
    "             'day', 'month', 'ord_5_0', 'ord_5_1']"
   ]
  },
  {
   "cell_type": "code",
   "execution_count": 4,
   "metadata": {},
   "outputs": [
    {
     "name": "stderr",
     "output_type": "stream",
     "text": [
      "600000it [00:10, 55566.29it/s]\n",
      "400000it [00:07, 53204.08it/s]\n",
      "600000it [00:10, 56144.24it/s]\n",
      "400000it [00:07, 54452.60it/s]\n"
     ]
    }
   ],
   "source": [
    "ecd = LE(feature_col, bin_col=bin_col, class_col=class_col)\n",
    "\n",
    "ecd.fit(train_df, verbose=1)\n",
    "ecd.fit(test_df, verbose=1)\n",
    "\n",
    "x_train_arr = ecd.transform(train_df, verbose=1)\n",
    "x_test_arr = ecd.transform(test_df, verbose=1)\n",
    "\n",
    "del train_df, test_df"
   ]
  },
  {
   "cell_type": "code",
   "execution_count": 5,
   "metadata": {},
   "outputs": [],
   "source": [
    "# x_train_df = pd.DataFrame(data=x_train_arr, columns=feature_col)\n",
    "# x_test_df = pd.DataFrame(data=x_test_arr, columns=feature_col)"
   ]
  },
  {
   "cell_type": "code",
   "execution_count": 6,
   "metadata": {},
   "outputs": [],
   "source": [
    "def col_func(vocabulary, sparse_features, dense_features, k=5):\n",
    "    # sparse\n",
    "    feature_col = list()\n",
    "    for f in sparse_features:\n",
    "        feature_col.append(SparseFeat(f, vocabulary_size=vocabulary[f], embedding_dim=k))\n",
    "    for f in dense_features:\n",
    "        feature_col.append(DenseFeat(f, 1))\n",
    "\n",
    "    dnn_f = feature_col\n",
    "    linear_f= feature_col\n",
    "    fn = get_feature_names(linear_f + dnn_f)\n",
    "    return dnn_f, linear_f, fn"
   ]
  },
  {
   "cell_type": "code",
   "execution_count": 7,
   "metadata": {},
   "outputs": [],
   "source": [
    "def xdeepfm(vocabulary, k, loss, metrics, optimizer, \n",
    "            num_deep_layer=2, num_neuron=256,\n",
    "            num_cin_layer=2, num_cin=128,**kwargs):\n",
    "    \n",
    "    dnn_f, linear_f, _ = col_func(vocabulary, sparse_features=class_col, dense_features=bin_col, k=k)\n",
    "    tf.random.set_seed(1024)\n",
    "    model = xDeepFM(linear_feature_columns=linear_f,\n",
    "                    dnn_feature_columns=dnn_f, \n",
    "                    cin_layer_size=tuple(num_cin for _ in range(num_cin_layer)),\n",
    "                    dnn_hidden_units=tuple(num_neuron for _ in range(num_deep_layer)),\n",
    "                    **kwargs)\n",
    "    model.compile(loss=loss, metrics=metrics, optimizer=optimizer)\n",
    "    return model"
   ]
  },
  {
   "cell_type": "code",
   "execution_count": 8,
   "metadata": {},
   "outputs": [],
   "source": [
    "def mkinput(input_arr, feature_col):\n",
    "    return dict(zip(feature_col, input_arr.T))"
   ]
  },
  {
   "cell_type": "markdown",
   "metadata": {},
   "source": [
    "# Search Max LR"
   ]
  },
  {
   "cell_type": "markdown",
   "metadata": {},
   "source": [
    "see - ./main/main_8_xdeepfm_relu.ipynb"
   ]
  },
  {
   "cell_type": "markdown",
   "metadata": {},
   "source": [
    "# fit one"
   ]
  },
  {
   "cell_type": "code",
   "execution_count": 9,
   "metadata": {},
   "outputs": [],
   "source": [
    "def cv_score(batch_size, epochs, nflod, base_lr, max_lr, model_params, model_func, verbose=1):\n",
    "    clr = CyclicLR(base_lr=0.1**(base_lr),\n",
    "                   max_lr = 0.1**(max_lr), \n",
    "                   step_size= int(4.0*(x_train_arr.shape[0]*((nflod-1)/nflod)) / batch_size),\n",
    "                   mode='triangular2',\n",
    "                   gamma=1.0)\n",
    "\n",
    "    es = tf.keras.callbacks.EarlyStopping(monitor='val_AUC', patience=2, mode='max', restore_best_weights=True)\n",
    "\n",
    "    fit_param = {'batch_size': batch_size, 'epochs':epochs, 'verbose': verbose, 'callbacks':[es, clr]}\n",
    "\n",
    "    model = model_func(**model_params)\n",
    "\n",
    "    cv = CV(model, nflod, random_state=2333)\n",
    "\n",
    "    score = cv.fit(x=mkinput(x_train_arr, feature_col),\n",
    "                   y=y_train,\n",
    "                   metrics_func=roc_auc_score,\n",
    "                   split_method=StratifiedKFold,\n",
    "                   fit_params=fit_param,\n",
    "                   eval_param={'batch_size':batch_size},\n",
    "                   use_proba=False, \n",
    "                   verbose=verbose,\n",
    "                   fit_use_valid=True)\n",
    "\n",
    "    tf.keras.backend.clear_session()\n",
    "    print(score)"
   ]
  },
  {
   "cell_type": "markdown",
   "metadata": {},
   "source": [
    "# tunning"
   ]
  },
  {
   "cell_type": "code",
   "execution_count": 10,
   "metadata": {},
   "outputs": [
    {
     "name": "stdout",
     "output_type": "stream",
     "text": [
      "new best, eval 1, score -0.787, param {'dnn_dropout': 0.0010766953768316173, 'k': 6, 'l2_reg_cin': 0.7604835517745044, 'l2_reg_dnn': 2.387393157392385e-06, 'l2_reg_embedding': 0.059311734896980876, 'l2_reg_linear': 0.04653149945002624}\n",
      "new best, eval 2, score -0.7888, param {'dnn_dropout': 9.063775075015977e-05, 'k': 5, 'l2_reg_cin': 0.40857201488815104, 'l2_reg_dnn': 1.6370068916309882e-07, 'l2_reg_embedding': 0.011814869878807366, 'l2_reg_linear': 0.18486698788530315}\n",
      "new best, eval 5, score -0.7889, param {'dnn_dropout': 2.9175795224705087e-07, 'k': 5, 'l2_reg_cin': 0.18675255313742217, 'l2_reg_dnn': 3.526718729471048e-06, 'l2_reg_embedding': 0.004453696647974755, 'l2_reg_linear': 2.242447169818891e-06}\n",
      "new best, eval 30, score -0.7889, param {'dnn_dropout': 1.693742739540057e-07, 'k': 6, 'l2_reg_cin': 1.720200169029796e-05, 'l2_reg_dnn': 3.1211431559727257e-07, 'l2_reg_embedding': 0.008386568077138478, 'l2_reg_linear': 2.8686681416299586e-05}\n",
      "new best, eval 85, score -0.7889, param {'dnn_dropout': 1.0188645493898435e-08, 'k': 5, 'l2_reg_cin': 0.02179784997522115, 'l2_reg_dnn': 4.310835349530764e-09, 'l2_reg_embedding': 0.006446117846727717, 'l2_reg_linear': 7.63238793494652e-06}\n",
      "100%|██████████| 100/100 [8:45:08<00:00, 307.78s/trial, best loss: -0.7888774952694431] \n"
     ]
    },
    {
     "data": {
      "text/plain": [
       "{'dnn_dropout': 1.0188645493898435e-08,\n",
       " 'k': 0,\n",
       " 'l2_reg_cin': 0.02179784997522115,\n",
       " 'l2_reg_dnn': 4.310835349530764e-09,\n",
       " 'l2_reg_embedding': 0.006446117846727717,\n",
       " 'l2_reg_linear': 7.63238793494652e-06}"
      ]
     },
     "execution_count": 10,
     "metadata": {},
     "output_type": "execute_result"
    }
   ],
   "source": [
    "batch_size = 8192\n",
    "epochs = 100\n",
    "nflod = 5\n",
    "seed = 2333\n",
    "\n",
    "# fit param\n",
    "\n",
    "clr = CyclicLR(base_lr=0.1**(4.5),\n",
    "               max_lr = 0.1**(3.5),\n",
    "               step_size= int(4.0*(x_train_arr.shape[0]*((nflod-1)/nflod)) / batch_size),\n",
    "               mode='triangular2',\n",
    "               gamma=1.0)\n",
    "\n",
    "es = tf.keras.callbacks.EarlyStopping(monitor='val_AUC', \n",
    "                                      patience=2,\n",
    "                                      mode='max',\n",
    "                                      restore_best_weights=True)\n",
    "\n",
    "fit_param = {\n",
    "    'batch_size': batch_size, \n",
    "    'epochs':epochs, \n",
    "    'verbose': 0,\n",
    "    'callbacks':[es, clr]\n",
    "}\n",
    "\n",
    "cv_fit_param = {'fit_params': fit_param, \n",
    "                'eval_param': {'batch_size':batch_size},\n",
    "                'use_proba':False, \n",
    "                'fit_use_valid': True}\n",
    "\n",
    "# model_fix_param & model_search_space\n",
    "model_fix_param = {'vocabulary': ecd.get_vocabulary(),\n",
    "                   'loss': 'binary_crossentropy',\n",
    "                   'metrics': ['AUC'], \n",
    "                   'optimizer': 'Adam',\n",
    "                   'dnn_activation': 'gelu', \n",
    "                   'cin_activation': 'linear',\n",
    "                   'dnn_use_bn': False, \n",
    "                   'num_deep_layer': 2, \n",
    "                   'num_neuron': 256, \n",
    "                   'num_cin_layer': 2,\n",
    "                   'num_cin': 64}\n",
    "\n",
    "ss = {\n",
    "    'k': (hp.choice, (5, 6, 7)),\n",
    "    'l2_reg_linear': (hp.loguniform, (-20, 0)),\n",
    "    'l2_reg_embedding': (hp.loguniform, (-7.5, -2.5)),\n",
    "    'l2_reg_dnn': (hp.loguniform, (-20, -7.5)),\n",
    "    'l2_reg_cin': (hp.loguniform, (-15, 0)),\n",
    "    'dnn_dropout': (hp.loguniform, (-20, -1))\n",
    "}\n",
    "\n",
    "\n",
    "# cv get score\n",
    "def neg_auc(y_true, y_pred):\n",
    "    return - roc_auc_score(y_true, y_pred)\n",
    "\n",
    "gs = CVGetScore(x=mkinput(x_train_arr, feature_col),\n",
    "                y=y_train, \n",
    "                metrics_func=neg_auc,\n",
    "                split_method=StratifiedKFold,\n",
    "                nfolds=nflod, \n",
    "                random_state=seed,\n",
    "                model=xdeepfm, \n",
    "                cv_fit_params=cv_fit_param, \n",
    "                model_fix_params=model_fix_param, \n",
    "                model_search_space=ss)\n",
    "\n",
    "tuning = Tuning(gs, verbose=1)\n",
    "tuning.fmin(gs.GET_SEARCH_SPACE(), max_evals=100)"
   ]
  },
  {
   "cell_type": "code",
   "execution_count": 11,
   "metadata": {},
   "outputs": [],
   "source": [
    "log = tuning.log.get_log()"
   ]
  },
  {
   "cell_type": "code",
   "execution_count": 12,
   "metadata": {},
   "outputs": [
    {
     "data": {
      "text/html": [
       "<div>\n",
       "<style scoped>\n",
       "    .dataframe tbody tr th:only-of-type {\n",
       "        vertical-align: middle;\n",
       "    }\n",
       "\n",
       "    .dataframe tbody tr th {\n",
       "        vertical-align: top;\n",
       "    }\n",
       "\n",
       "    .dataframe thead th {\n",
       "        text-align: right;\n",
       "    }\n",
       "</style>\n",
       "<table border=\"1\" class=\"dataframe\">\n",
       "  <thead>\n",
       "    <tr style=\"text-align: right;\">\n",
       "      <th></th>\n",
       "      <th>score</th>\n",
       "      <th>update</th>\n",
       "      <th>usetime</th>\n",
       "      <th>dnn_dropout</th>\n",
       "      <th>k</th>\n",
       "      <th>l2_reg_cin</th>\n",
       "      <th>l2_reg_dnn</th>\n",
       "      <th>l2_reg_embedding</th>\n",
       "      <th>l2_reg_linear</th>\n",
       "    </tr>\n",
       "  </thead>\n",
       "  <tbody>\n",
       "    <tr>\n",
       "      <th>84</th>\n",
       "      <td>-0.788877</td>\n",
       "      <td>True</td>\n",
       "      <td>293.348967</td>\n",
       "      <td>1.018865e-08</td>\n",
       "      <td>5</td>\n",
       "      <td>0.021798</td>\n",
       "      <td>4.310835e-09</td>\n",
       "      <td>0.006446</td>\n",
       "      <td>0.000008</td>\n",
       "    </tr>\n",
       "    <tr>\n",
       "      <th>29</th>\n",
       "      <td>-0.788873</td>\n",
       "      <td>True</td>\n",
       "      <td>308.217060</td>\n",
       "      <td>1.693743e-07</td>\n",
       "      <td>6</td>\n",
       "      <td>0.000017</td>\n",
       "      <td>3.121143e-07</td>\n",
       "      <td>0.008387</td>\n",
       "      <td>0.000029</td>\n",
       "    </tr>\n",
       "    <tr>\n",
       "      <th>65</th>\n",
       "      <td>-0.788864</td>\n",
       "      <td>False</td>\n",
       "      <td>297.575260</td>\n",
       "      <td>1.117823e-06</td>\n",
       "      <td>6</td>\n",
       "      <td>0.000029</td>\n",
       "      <td>5.530044e-07</td>\n",
       "      <td>0.007404</td>\n",
       "      <td>0.000163</td>\n",
       "    </tr>\n",
       "    <tr>\n",
       "      <th>96</th>\n",
       "      <td>-0.788864</td>\n",
       "      <td>False</td>\n",
       "      <td>288.614749</td>\n",
       "      <td>1.407575e-07</td>\n",
       "      <td>5</td>\n",
       "      <td>0.000003</td>\n",
       "      <td>8.837225e-08</td>\n",
       "      <td>0.006646</td>\n",
       "      <td>0.001013</td>\n",
       "    </tr>\n",
       "    <tr>\n",
       "      <th>56</th>\n",
       "      <td>-0.788864</td>\n",
       "      <td>False</td>\n",
       "      <td>299.586042</td>\n",
       "      <td>7.347306e-02</td>\n",
       "      <td>6</td>\n",
       "      <td>0.000781</td>\n",
       "      <td>2.853652e-06</td>\n",
       "      <td>0.007077</td>\n",
       "      <td>0.000049</td>\n",
       "    </tr>\n",
       "  </tbody>\n",
       "</table>\n",
       "</div>"
      ],
      "text/plain": [
       "       score  update     usetime   dnn_dropout  k  l2_reg_cin    l2_reg_dnn  \\\n",
       "84 -0.788877    True  293.348967  1.018865e-08  5    0.021798  4.310835e-09   \n",
       "29 -0.788873    True  308.217060  1.693743e-07  6    0.000017  3.121143e-07   \n",
       "65 -0.788864   False  297.575260  1.117823e-06  6    0.000029  5.530044e-07   \n",
       "96 -0.788864   False  288.614749  1.407575e-07  5    0.000003  8.837225e-08   \n",
       "56 -0.788864   False  299.586042  7.347306e-02  6    0.000781  2.853652e-06   \n",
       "\n",
       "    l2_reg_embedding  l2_reg_linear  \n",
       "84          0.006446       0.000008  \n",
       "29          0.008387       0.000029  \n",
       "65          0.007404       0.000163  \n",
       "96          0.006646       0.001013  \n",
       "56          0.007077       0.000049  "
      ]
     },
     "execution_count": 12,
     "metadata": {},
     "output_type": "execute_result"
    }
   ],
   "source": [
    "log.sort_values('score').head()"
   ]
  },
  {
   "cell_type": "code",
   "execution_count": 13,
   "metadata": {},
   "outputs": [
    {
     "data": {
      "text/html": [
       "<div>\n",
       "<style scoped>\n",
       "    .dataframe tbody tr th:only-of-type {\n",
       "        vertical-align: middle;\n",
       "    }\n",
       "\n",
       "    .dataframe tbody tr th {\n",
       "        vertical-align: top;\n",
       "    }\n",
       "\n",
       "    .dataframe thead th {\n",
       "        text-align: right;\n",
       "    }\n",
       "</style>\n",
       "<table border=\"1\" class=\"dataframe\">\n",
       "  <thead>\n",
       "    <tr style=\"text-align: right;\">\n",
       "      <th></th>\n",
       "      <th>score</th>\n",
       "      <th>update</th>\n",
       "      <th>usetime</th>\n",
       "      <th>dnn_dropout</th>\n",
       "      <th>k</th>\n",
       "      <th>l2_reg_cin</th>\n",
       "      <th>l2_reg_dnn</th>\n",
       "      <th>l2_reg_embedding</th>\n",
       "      <th>l2_reg_linear</th>\n",
       "    </tr>\n",
       "  </thead>\n",
       "  <tbody>\n",
       "    <tr>\n",
       "      <th>45</th>\n",
       "      <td>-0.787900</td>\n",
       "      <td>False</td>\n",
       "      <td>435.413432</td>\n",
       "      <td>1.812448e-05</td>\n",
       "      <td>7</td>\n",
       "      <td>0.000009</td>\n",
       "      <td>1.172821e-06</td>\n",
       "      <td>0.043093</td>\n",
       "      <td>3.370680e-07</td>\n",
       "    </tr>\n",
       "    <tr>\n",
       "      <th>36</th>\n",
       "      <td>-0.787895</td>\n",
       "      <td>False</td>\n",
       "      <td>433.853510</td>\n",
       "      <td>1.499126e-07</td>\n",
       "      <td>6</td>\n",
       "      <td>0.000041</td>\n",
       "      <td>2.040874e-08</td>\n",
       "      <td>0.038685</td>\n",
       "      <td>2.041022e-05</td>\n",
       "    </tr>\n",
       "    <tr>\n",
       "      <th>93</th>\n",
       "      <td>-0.787893</td>\n",
       "      <td>False</td>\n",
       "      <td>368.176240</td>\n",
       "      <td>2.090855e-09</td>\n",
       "      <td>5</td>\n",
       "      <td>0.000214</td>\n",
       "      <td>3.037244e-08</td>\n",
       "      <td>0.039162</td>\n",
       "      <td>5.128146e-03</td>\n",
       "    </tr>\n",
       "    <tr>\n",
       "      <th>0</th>\n",
       "      <td>-0.787021</td>\n",
       "      <td>True</td>\n",
       "      <td>419.112198</td>\n",
       "      <td>1.076695e-03</td>\n",
       "      <td>6</td>\n",
       "      <td>0.760484</td>\n",
       "      <td>2.387393e-06</td>\n",
       "      <td>0.059312</td>\n",
       "      <td>4.653150e-02</td>\n",
       "    </tr>\n",
       "    <tr>\n",
       "      <th>48</th>\n",
       "      <td>-0.786442</td>\n",
       "      <td>False</td>\n",
       "      <td>492.285535</td>\n",
       "      <td>1.305249e-06</td>\n",
       "      <td>7</td>\n",
       "      <td>0.000201</td>\n",
       "      <td>3.485975e-08</td>\n",
       "      <td>0.076872</td>\n",
       "      <td>2.943690e-06</td>\n",
       "    </tr>\n",
       "  </tbody>\n",
       "</table>\n",
       "</div>"
      ],
      "text/plain": [
       "       score  update     usetime   dnn_dropout  k  l2_reg_cin    l2_reg_dnn  \\\n",
       "45 -0.787900   False  435.413432  1.812448e-05  7    0.000009  1.172821e-06   \n",
       "36 -0.787895   False  433.853510  1.499126e-07  6    0.000041  2.040874e-08   \n",
       "93 -0.787893   False  368.176240  2.090855e-09  5    0.000214  3.037244e-08   \n",
       "0  -0.787021    True  419.112198  1.076695e-03  6    0.760484  2.387393e-06   \n",
       "48 -0.786442   False  492.285535  1.305249e-06  7    0.000201  3.485975e-08   \n",
       "\n",
       "    l2_reg_embedding  l2_reg_linear  \n",
       "45          0.043093   3.370680e-07  \n",
       "36          0.038685   2.041022e-05  \n",
       "93          0.039162   5.128146e-03  \n",
       "0           0.059312   4.653150e-02  \n",
       "48          0.076872   2.943690e-06  "
      ]
     },
     "execution_count": 13,
     "metadata": {},
     "output_type": "execute_result"
    }
   ],
   "source": [
    "log.sort_values('score').tail()"
   ]
  },
  {
   "cell_type": "code",
   "execution_count": 14,
   "metadata": {},
   "outputs": [
    {
     "data": {
      "image/png": "[encoded data removed]",
      "text/plain": [
       "<Figure size 1512x1008 with 6 Axes>"
      ]
     },
     "metadata": {
      "needs_background": "light"
     },
     "output_type": "display_data"
    }
   ],
   "source": [
    "tuning.log.plot(score_interval=[-0.789, -0.788])"
   ]
  },
  {
   "cell_type": "code",
   "execution_count": 15,
   "metadata": {},
   "outputs": [
    {
     "name": "stdout",
     "output_type": "stream",
     "text": [
      "3973270008\n"
     ]
    }
   ],
   "source": [
    "seed = np.random.randint(2**32)\n",
    "print(seed)"
   ]
  },
  {
   "cell_type": "markdown",
   "metadata": {},
   "source": [
    "##  3973270008"
   ]
  },
  {
   "cell_type": "code",
   "execution_count": 16,
   "metadata": {},
   "outputs": [],
   "source": [
    "######\n",
    "log.to_csv(f'/data/{seed}.csv', index=False)\n",
    "#####"
   ]
  },
  {
   "cell_type": "code",
   "execution_count": 11,
   "metadata": {},
   "outputs": [
    {
     "name": "stdout",
     "output_type": "stream",
     "text": [
      "3973270008.csv\t4293006264.csv\t4293006264predict.npy  4293006264stacking1.npy\r\n"
     ]
    }
   ],
   "source": [
    "! ls ../tmp/xdeepfm"
   ]
  },
  {
   "cell_type": "code",
   "execution_count": 9,
   "metadata": {},
   "outputs": [],
   "source": [
    "######\n",
    "seed = 3973270008\n",
    "log = pd.read_csv(f'../tmp/xdeepfm/{seed}.csv')\n",
    "#####"
   ]
  },
  {
   "cell_type": "markdown",
   "metadata": {},
   "source": [
    "# Try some new"
   ]
  },
  {
   "cell_type": "markdown",
   "metadata": {},
   "source": [
    "# stacking"
   ]
  },
  {
   "cell_type": "code",
   "execution_count": null,
   "metadata": {},
   "outputs": [
    {
     "name": "stdout",
     "output_type": "stream",
     "text": [
      "Train on 585000 samples, validate on 15000 samples\n",
      "Epoch 1/400\n",
      "585000/585000 [==============================] - 53s 91us/sample - loss: 0.5903 - AUC: 0.5208 - val_loss: 0.4725 - val_AUC: 0.7274\n",
      "Epoch 2/400\n",
      "585000/585000 [==============================] - 45s 77us/sample - loss: 0.4362 - AUC: 0.7462 - val_loss: 0.4148 - val_AUC: 0.7687\n",
      "Epoch 3/400\n",
      "585000/585000 [==============================] - 45s 77us/sample - loss: 0.4065 - AUC: 0.7830 - val_loss: 0.4095 - val_AUC: 0.7785\n",
      "Epoch 4/400\n",
      "585000/585000 [==============================] - 46s 78us/sample - loss: 0.4022 - AUC: 0.7899 - val_loss: 0.4084 - val_AUC: 0.7805\n",
      "Epoch 5/400\n",
      "585000/585000 [==============================] - 46s 78us/sample - loss: 0.4000 - AUC: 0.7922 - val_loss: 0.4071 - val_AUC: 0.7814\n",
      "Epoch 6/400\n",
      "585000/585000 [==============================] - 46s 78us/sample - loss: 0.3981 - AUC: 0.7939 - val_loss: 0.4065 - val_AUC: 0.7811\n",
      "Epoch 7/400\n",
      "585000/585000 [==============================] - 46s 78us/sample - loss: 0.3965 - AUC: 0.7956 - val_loss: 0.4064 - val_AUC: 0.7811\n",
      "Epoch 8/400\n",
      "585000/585000 [==============================] - 45s 77us/sample - loss: 0.3950 - AUC: 0.7972 - val_loss: 0.4065 - val_AUC: 0.7808\n",
      "Epoch 9/400\n",
      "585000/585000 [==============================] - 45s 78us/sample - loss: 0.3942 - AUC: 0.7982 - val_loss: 0.4066 - val_AUC: 0.7803\n",
      "Epoch 10/400\n",
      "585000/585000 [==============================] - 45s 77us/sample - loss: 0.3945 - AUC: 0.7975 - val_loss: 0.4065 - val_AUC: 0.7800\n",
      "folds 0 is done, score is 0.78145296399582\n",
      "Train on 585000 samples, validate on 15000 samples\n",
      "Epoch 1/400\n",
      "585000/585000 [==============================] - 52s 90us/sample - loss: 0.5048 - AUC: 0.6029 - val_loss: 0.4455 - val_AUC: 0.7552\n",
      "Epoch 2/400\n",
      "585000/585000 [==============================] - 43s 73us/sample - loss: 0.4168 - AUC: 0.7676 - val_loss: 0.4075 - val_AUC: 0.7815\n",
      "Epoch 3/400\n",
      "585000/585000 [==============================] - 47s 80us/sample - loss: 0.4041 - AUC: 0.7863 - val_loss: 0.4029 - val_AUC: 0.7888\n",
      "Epoch 4/400\n",
      "585000/585000 [==============================] - 46s 78us/sample - loss: 0.4010 - AUC: 0.7908 - val_loss: 0.4014 - val_AUC: 0.7900\n",
      "Epoch 5/400\n",
      "585000/585000 [==============================] - 46s 78us/sample - loss: 0.3996 - AUC: 0.7919 - val_loss: 0.4006 - val_AUC: 0.7902\n",
      "Epoch 6/400\n",
      "585000/585000 [==============================] - 46s 79us/sample - loss: 0.3977 - AUC: 0.7936 - val_loss: 0.4001 - val_AUC: 0.7904\n",
      "Epoch 7/400\n",
      "585000/585000 [==============================] - 46s 79us/sample - loss: 0.3962 - AUC: 0.7952 - val_loss: 0.3995 - val_AUC: 0.7907\n",
      "Epoch 8/400\n",
      "282624/585000 [=============>................] - ETA: 23s - loss: 0.3937 - AUC: 0.7981"
     ]
    }
   ],
   "source": [
    "batch_size = 512\n",
    "epochs = 400\n",
    "nflod = 40\n",
    "nmodel = 1\n",
    "\n",
    "# model params\n",
    "model_tuning_param = log.sort_values('score').head(nmodel).reset_index(drop=True).to_dict()\n",
    "\n",
    "model_fix_param = {'vocabulary': ecd.get_vocabulary(),\n",
    "                   'loss': 'binary_crossentropy',\n",
    "                   'metrics': ['AUC'], \n",
    "                   'optimizer': 'Adam',\n",
    "                   'dnn_activation': 'gelu', \n",
    "                   'cin_activation': 'linear',\n",
    "                   'dnn_use_bn': False, \n",
    "                   'num_deep_layer': 2, \n",
    "                   'num_neuron': 256, \n",
    "                   'num_cin_layer': 2,\n",
    "                   'num_cin': 64}\n",
    "\n",
    "# callbacks\n",
    "clr = CyclicLR(\n",
    "    base_lr=0.1**(5),\n",
    "    max_lr = 0.1**(4), \n",
    "    step_size= int(4.0*(x_train_arr.shape[0]*((nflod-1)/nflod)) / batch_size),\n",
    "    mode='triangular2',\n",
    "    gamma=1.0)\n",
    "\n",
    "es = tf.keras.callbacks.EarlyStopping(monitor='val_AUC', \n",
    "                                      patience=5,\n",
    "                                      mode='max',\n",
    "                                      restore_best_weights=True)\n",
    "\n",
    "# fit\n",
    "fit_param = {\n",
    "    'batch_size': batch_size, \n",
    "    'epochs':epochs, \n",
    "    'verbose': 1,\n",
    "    'callbacks':[es, clr]\n",
    "}\n",
    "\n",
    "pred_lst = []\n",
    "score_lst = []\n",
    "pred_arr_lst = []\n",
    "\n",
    "for i in range(nmodel):\n",
    "    model_params = deepcopy(model_fix_param)\n",
    "    for param_name in model_tuning_param.keys():\n",
    "        if param_name not in ['score', 'update', 'usetime', 'index']:\n",
    "            model_params[param_name] = model_tuning_param[param_name][i]\n",
    "            \n",
    "    # cv\n",
    "    model = xdeepfm(**model_params)\n",
    "    cv = CV(model, nflod)\n",
    "    \n",
    "    score, pred_arr = cv.fit(x=mkinput(x_train_arr, feature_col),\n",
    "                             y=y_train, \n",
    "                             metrics_func=roc_auc_score,\n",
    "                             split_method=StratifiedKFold,\n",
    "                             fit_params=fit_param,\n",
    "                             eval_param={'batch_size':batch_size},\n",
    "                             use_proba=False, \n",
    "                             verbose=True,\n",
    "                             fit_use_valid=True,\n",
    "                             output_oof_pred=True)\n",
    "    \n",
    "    pred = cv.predict(x=mkinput(x_test_arr, feature_col), pred_param={'batch_size': batch_size})\n",
    "    \n",
    "    pred_lst.append(pred)\n",
    "    score_lst.append(score)\n",
    "    pred_arr_lst.append(pred_arr)\n",
    "    \n",
    "    print('score: ', score)\n",
    "    del model, cv\n",
    "    tf.keras.backend.clear_session()"
   ]
  },
  {
   "cell_type": "code",
   "execution_count": 18,
   "metadata": {},
   "outputs": [
    {
     "data": {
      "text/plain": [
       "[0.7889641070088029]"
      ]
     },
     "execution_count": 18,
     "metadata": {},
     "output_type": "execute_result"
    }
   ],
   "source": [
    "score_lst"
   ]
  },
  {
   "cell_type": "code",
   "execution_count": null,
   "metadata": {},
   "outputs": [],
   "source": []
  }
 ],
 "metadata": {
  "kernelspec": {
   "display_name": "Python 3",
   "language": "python",
   "name": "python3"
  },
  "language_info": {
   "codemirror_mode": {
    "name": "ipython",
    "version": 3
   },
   "file_extension": ".py",
   "mimetype": "text/x-python",
   "name": "python",
   "nbconvert_exporter": "python",
   "pygments_lexer": "ipython3",
   "version": "3.7.6"
  }
 },
 "nbformat": 4,
 "nbformat_minor": 2
}
