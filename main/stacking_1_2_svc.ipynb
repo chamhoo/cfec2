{
 "cells": [
  {
   "cell_type": "markdown",
   "metadata": {},
   "source": [
    "# STACKING 1 - Linear, FM, afm, CrossNet, CIN, DeepFM"
   ]
  },
  {
   "cell_type": "code",
   "execution_count": 1,
   "metadata": {},
   "outputs": [],
   "source": [
    "%load_ext autoreload\n",
    "%autoreload 2\n",
    "\n",
    "import os\n",
    "import warnings\n",
    "warnings.filterwarnings('ignore')\n",
    "\n",
    "import sys\n",
    "sys.path.append(os.path.abspath('..'))\n",
    "# ---------------------------------\n",
    "from time import sleep\n",
    "import numpy as np\n",
    "import pandas as pd\n",
    "import matplotlib.pyplot as plt\n",
    "import seaborn\n",
    "from sklearn.metrics import roc_auc_score\n",
    "from sklearn.model_selection import StratifiedKFold\n",
    "import tensorflow as tf\n",
    "# ---------------------------------\n",
    "from tools import CV, Tuning, CVGetScore\n",
    "from hyperopt import hp"
   ]
  },
  {
   "cell_type": "code",
   "execution_count": 2,
   "metadata": {},
   "outputs": [
    {
     "name": "stdout",
     "output_type": "stream",
     "text": [
      "(600000,)\n"
     ]
    }
   ],
   "source": [
    "y_train = pd.read_csv('../data/train.csv', index_col='id')['target'].values\n",
    "print(y_train.shape)"
   ]
  },
  {
   "cell_type": "code",
   "execution_count": 3,
   "metadata": {},
   "outputs": [],
   "source": [
    "def mk_mdf(mdict, rule_dict={}):\n",
    "    df = list()\n",
    "    for name, path in mdict.items():\n",
    "        marr = np.load(path)\n",
    "        df.append(pd.DataFrame(data=marr, columns=[f'{name}{i}' for i in range(marr.shape[1])]))\n",
    "    df = pd.concat(df, axis=1)\n",
    "    \n",
    "    mdf = dict()\n",
    "    for colname, rules in rule_dict.items():\n",
    "        values = np.mean(df[rules].values, axis=1)\n",
    "        mdf[colname] = values\n",
    "    del df\n",
    "    return pd.DataFrame(mdf)"
   ]
  },
  {
   "cell_type": "code",
   "execution_count": 4,
   "metadata": {},
   "outputs": [],
   "source": [
    "train_dict = {\n",
    "    'lr': '../tmp/lr/2432137157stacking1.npy',\n",
    "    'fm': '../tmp/fm/3366580204stacking1.npy',\n",
    "    'afm': '../tmp/afm/1372484291stacking1.npy',\n",
    "    'cross': '../tmp/cross/2072349059stacking1.npy',\n",
    "    'cin': '../tmp/cin/1960993645stacking1.npy',\n",
    "    'deepfm': '../tmp/deepfm/1615107092stacking1.npy'\n",
    "}\n",
    "\n",
    "\n",
    "test_dict = {\n",
    "    'lr': '../tmp/lr/2432137157predict.npy',\n",
    "    'fm': '../tmp/fm/3366580204predict.npy',\n",
    "    'afm': '../tmp/afm/1372484291predict.npy',\n",
    "    'cross': '../tmp/cross/2072349059predict.npy',\n",
    "    'cin': '../tmp/cin/1960993645predict.npy',\n",
    "    'deepfm': '../tmp/deepfm/1615107092predict.npy'\n",
    "}\n",
    "\n",
    "\n",
    "rule_dict = {\n",
    "    'deepfm': [f'deepfm{i}' for i in range(10)],\n",
    "    'cin':  [f'cin{i}' for i in range(5)],\n",
    "    'fm':  [f'fm{i}' for i in range(5)],\n",
    "    'cross1': ['cross0', 'cross1', 'cross3', 'cross4'],\n",
    "    'cross2': ['cross2'],\n",
    "    'lr': ['lr0', 'lr1', 'lr2', 'lr4'],\n",
    "    'lr2': ['lr3']\n",
    "}\n",
    "\n",
    "x_train = mk_mdf(train_dict, rule_dict).values\n",
    "x_test = mk_mdf(test_dict, rule_dict).values"
   ]
  },
  {
   "cell_type": "markdown",
   "metadata": {},
   "source": [
    "# SVC"
   ]
  },
  {
   "cell_type": "code",
   "execution_count": 5,
   "metadata": {},
   "outputs": [],
   "source": [
    "from sklearn.svm import SVC"
   ]
  },
  {
   "cell_type": "code",
   "execution_count": 10,
   "metadata": {},
   "outputs": [
    {
     "name": "stdout",
     "output_type": "stream",
     "text": [
      "new best, eval 1, score -0.7892, param {'C': 0.005929531596245599, 'solver': 'lbfgs'}\n",
      "new best, eval 2, score -0.7896, param {'C': 2.3444166719379296, 'solver': 'saga'}\n",
      "new best, eval 12, score -0.7896, param {'C': 1.1540537135820568, 'solver': 'lbfgs'}\n",
      "new best, eval 14, score -0.7896, param {'C': 0.3975664277860179, 'solver': 'liblinear'}\n",
      "new best, eval 35, score -0.7896, param {'C': 1.0496611103410838, 'solver': 'lbfgs'}\n",
      "new best, eval 44, score -0.7896, param {'C': 1.205299850457256, 'solver': 'lbfgs'}\n",
      "100%|██████████| 50/50 [11:15<00:00, 13.51s/trial, best loss: -0.7896019222937785]\n"
     ]
    },
    {
     "data": {
      "text/plain": [
       "{'C': 1.205299850457256, 'solver': 1}"
      ]
     },
     "execution_count": 10,
     "metadata": {},
     "output_type": "execute_result"
    }
   ],
   "source": [
    "nflod = 5\n",
    "\n",
    "cv_fit_param = {'fit_params': {}, \n",
    "                'use_proba':True}\n",
    "\n",
    "# model_fix_param & model_search_space\n",
    "model_fix_param = {'penalty': 'l2', 'max_iter': 1000, 'n_jobs': -1}\n",
    "\n",
    "ss = {\n",
    "    'solver': (hp.choice, ('newton-cg', 'lbfgs', 'liblinear', 'sag', 'saga')),\n",
    "    'C': (hp.loguniform, (-10, 5))\n",
    "    }\n",
    "\n",
    "# cv get score\n",
    "def neg_auc(y_true, y_pred):\n",
    "    return - roc_auc_score(y_true, y_pred)\n",
    "\n",
    "gs = CVGetScore(x=x_train,\n",
    "                y=y_train, \n",
    "                metrics_func=neg_auc,\n",
    "                split_method=StratifiedKFold,\n",
    "                nfolds=nflod, \n",
    "                random_state=2333,\n",
    "                model=LogisticRegression, \n",
    "                cv_fit_params=cv_fit_param, \n",
    "                model_fix_params=model_fix_param, \n",
    "                model_search_space=ss)\n",
    "\n",
    "tuning = Tuning(gs, verbose=1)\n",
    "tuning.fmin(gs.GET_SEARCH_SPACE(), max_evals=50)"
   ]
  },
  {
   "cell_type": "code",
   "execution_count": 14,
   "metadata": {},
   "outputs": [
    {
     "data": {
      "image/png": "[encoded data removed]",
      "text/plain": [
       "<Figure size 1008x504 with 2 Axes>"
      ]
     },
     "metadata": {},
     "output_type": "display_data"
    }
   ],
   "source": [
    "tuning.log.plot(score_interval=[-0.7900, -0.7895])"
   ]
  },
  {
   "cell_type": "markdown",
   "metadata": {},
   "source": [
    "# TRAINING & SUBMISSION"
   ]
  },
  {
   "cell_type": "code",
   "execution_count": null,
   "metadata": {
    "scrolled": true
   },
   "outputs": [],
   "source": [
    "%%time\n",
    "\n",
    "nflod = 5\n",
    "\n",
    "model_param = {'probability': True}\n",
    "model = SVC(**model_param)\n",
    "cv = CV(model, nflod)\n",
    "\n",
    "score = cv.fit(x=x_train,\n",
    "               y=y_train, \n",
    "               metrics_func=roc_auc_score,\n",
    "               split_method=StratifiedKFold,\n",
    "               use_proba=True, \n",
    "               verbose=True)"
   ]
  },
  {
   "cell_type": "code",
   "execution_count": 10,
   "metadata": {},
   "outputs": [
    {
     "name": "stdout",
     "output_type": "stream",
     "text": [
      "0.7896149109718108\n"
     ]
    }
   ],
   "source": [
    "print(score)"
   ]
  },
  {
   "cell_type": "code",
   "execution_count": 12,
   "metadata": {
    "collapsed": true
   },
   "outputs": [],
   "source": [
    "submission = pd.read_csv('../data/sample_submission.csv', index_col='id')\n",
    "submission['target'] = cv.predict(x=x_test, use_proba=True)\n",
    "submission.to_csv(f'../tmp/submission/stacking_1_1_lr.csv')"
   ]
  },
  {
   "cell_type": "code",
   "execution_count": null,
   "metadata": {},
   "outputs": [],
   "source": []
  }
 ],
 "metadata": {
  "kernelspec": {
   "display_name": "Python 3",
   "language": "python",
   "name": "python3"
  },
  "language_info": {
   "codemirror_mode": {
    "name": "ipython",
    "version": 3
   },
   "file_extension": ".py",
   "mimetype": "text/x-python",
   "name": "python",
   "nbconvert_exporter": "python",
   "pygments_lexer": "ipython3",
   "version": "3.7.6"
  }
 },
 "nbformat": 4,
 "nbformat_minor": 2
}
