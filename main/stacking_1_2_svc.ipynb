{
 "cells": [
  {
   "cell_type": "markdown",
   "metadata": {},
   "source": [
    "# STACKING 2 - Linear, FM, afm, CrossNet, CIN, DeepFM, xDeepFM"
   ]
  },
  {
   "cell_type": "code",
   "execution_count": 1,
   "metadata": {},
   "outputs": [],
   "source": [
    "%load_ext autoreload\n",
    "%autoreload 2\n",
    "\n",
    "import os\n",
    "import warnings\n",
    "warnings.filterwarnings('ignore')\n",
    "\n",
    "import sys\n",
    "sys.path.append(os.path.abspath('..'))\n",
    "# ---------------------------------\n",
    "from time import sleep\n",
    "import numpy as np\n",
    "import pandas as pd\n",
    "from copy import deepcopy\n",
    "import matplotlib.pyplot as plt\n",
    "import seaborn\n",
    "from sklearn.metrics import roc_auc_score\n",
    "from sklearn.model_selection import StratifiedKFold\n",
    "import tensorflow as tf\n",
    "# ---------------------------------\n",
    "from tools import CV, Tuning, CVGetScore\n",
    "from hyperopt import hp"
   ]
  },
  {
   "cell_type": "code",
   "execution_count": 2,
   "metadata": {},
   "outputs": [
    {
     "name": "stdout",
     "output_type": "stream",
     "text": [
      "(600000,)\n"
     ]
    }
   ],
   "source": [
    "y_train = pd.read_csv('../data/train.csv', index_col='id')['target'].values\n",
    "print(y_train.shape)"
   ]
  },
  {
   "cell_type": "code",
   "execution_count": 3,
   "metadata": {},
   "outputs": [],
   "source": [
    "def mk_mdf(mdict, rule_dict={}):\n",
    "    df = list()\n",
    "    for name, path in mdict.items():\n",
    "        marr = np.load(path)\n",
    "        df.append(pd.DataFrame(data=marr, columns=[f'{name}{i}' for i in range(marr.shape[1])]))\n",
    "    df = pd.concat(df, axis=1)\n",
    "    \n",
    "    mdf = dict()\n",
    "    for colname, rules in rule_dict.items():\n",
    "        values = np.mean(df[rules].values, axis=1)\n",
    "        mdf[colname] = values\n",
    "    del df\n",
    "    return pd.DataFrame(mdf)"
   ]
  },
  {
   "cell_type": "code",
   "execution_count": 4,
   "metadata": {},
   "outputs": [
    {
     "name": "stdout",
     "output_type": "stream",
     "text": [
      "3973270008.csv\t4293006264.csv\t4293006264predict.npy  4293006264stacking1.npy\r\n"
     ]
    }
   ],
   "source": [
    "! ls ../tmp/xdeepfm/"
   ]
  },
  {
   "cell_type": "code",
   "execution_count": 5,
   "metadata": {},
   "outputs": [],
   "source": [
    "train_dict = {\n",
    "    'lr': '../tmp/lr/2432137157stacking1.npy',\n",
    "    'fm': '../tmp/fm/3366580204stacking1.npy',\n",
    "    'afm': '../tmp/afm/1372484291stacking1.npy',\n",
    "    'cross': '../tmp/cross/2072349059stacking1.npy',\n",
    "    'cin': '../tmp/cin/1960993645stacking1.npy',\n",
    "    'deepfm': '../tmp/deepfm/1615107092stacking1.npy',\n",
    "    'xdeepfm': '../tmp/xdeepfm/4293006264stacking1.npy'\n",
    "}\n",
    "\n",
    "\n",
    "test_dict = {\n",
    "    'lr': '../tmp/lr/2432137157predict.npy',\n",
    "    'fm': '../tmp/fm/3366580204predict.npy',\n",
    "    'afm': '../tmp/afm/1372484291predict.npy',\n",
    "    'cross': '../tmp/cross/2072349059predict.npy',\n",
    "    'cin': '../tmp/cin/1960993645predict.npy',\n",
    "    'deepfm': '../tmp/deepfm/1615107092predict.npy',\n",
    "    'xdeepfm': '../tmp/xdeepfm/4293006264predict.npy'\n",
    "}\n",
    "\n",
    "\n",
    "rule_dict = {\n",
    "    'deepfm': [f'deepfm{i}' for i in range(10)],\n",
    "    'cin':  [f'cin{i}' for i in range(5)],\n",
    "    'fm':  [f'fm{i}' for i in range(5)],\n",
    "    'cross1': ['cross0', 'cross1', 'cross3', 'cross4'],\n",
    "    'cross2': ['cross2'],\n",
    "    'lr': ['lr0', 'lr1', 'lr2', 'lr4'],\n",
    "    'lr2': ['lr3'],\n",
    "    'xdeepfm': [f'xdeepfm{i}' for i in range(5)]\n",
    "}\n",
    "\n",
    "x_train = mk_mdf(train_dict, rule_dict).values\n",
    "x_test = mk_mdf(test_dict, rule_dict).values"
   ]
  },
  {
   "cell_type": "markdown",
   "metadata": {},
   "source": [
    "# Catboost"
   ]
  },
  {
   "cell_type": "code",
   "execution_count": 6,
   "metadata": {},
   "outputs": [],
   "source": [
    "from catboost import CatBoostClassifier"
   ]
  },
  {
   "cell_type": "code",
   "execution_count": 7,
   "metadata": {},
   "outputs": [
    {
     "name": "stdout",
     "output_type": "stream",
     "text": [
      "folds 0 is done, score is 0.7816639022552737\n",
      "folds 1 is done, score is 0.7912986967541183\n",
      "folds 2 is done, score is 0.7913594238387135\n",
      "folds 3 is done, score is 0.7875139009233086\n",
      "folds 4 is done, score is 0.7917169074485347\n",
      "folds 5 is done, score is 0.7908908993380368\n",
      "folds 6 is done, score is 0.7901601150350329\n",
      "folds 7 is done, score is 0.7900040180941592\n",
      "folds 8 is done, score is 0.7885596832447226\n",
      "folds 9 is done, score is 0.7842104088618197\n",
      "folds 10 is done, score is 0.7886281363100179\n",
      "folds 11 is done, score is 0.8004000772773329\n",
      "folds 12 is done, score is 0.7870876867555018\n",
      "folds 13 is done, score is 0.7910662162989508\n",
      "folds 14 is done, score is 0.7861033909723624\n",
      "folds 15 is done, score is 0.7899228587846123\n",
      "folds 16 is done, score is 0.7908980557284773\n",
      "folds 17 is done, score is 0.7926069141364007\n",
      "folds 18 is done, score is 0.7952090945395982\n",
      "folds 19 is done, score is 0.7951690041482526\n",
      "folds 20 is done, score is 0.788779311406854\n",
      "folds 21 is done, score is 0.7868541109344505\n",
      "folds 22 is done, score is 0.7866742372514599\n",
      "folds 23 is done, score is 0.7848985323148711\n",
      "folds 24 is done, score is 0.7831267414857064\n",
      "folds 25 is done, score is 0.7882349729821433\n",
      "folds 26 is done, score is 0.79536181775355\n",
      "folds 27 is done, score is 0.7808934949170349\n",
      "folds 28 is done, score is 0.797254902098242\n",
      "folds 29 is done, score is 0.787118006483164\n",
      "folds 30 is done, score is 0.7898284820600684\n",
      "folds 31 is done, score is 0.78892690830847\n",
      "folds 32 is done, score is 0.7883969848987893\n",
      "folds 33 is done, score is 0.7917699961817006\n",
      "folds 34 is done, score is 0.7937026597469921\n",
      "folds 35 is done, score is 0.7931200711456207\n",
      "folds 36 is done, score is 0.7854778348185911\n",
      "folds 37 is done, score is 0.7844526594168252\n",
      "folds 38 is done, score is 0.7913524351152369\n",
      "folds 39 is done, score is 0.7836727827889771\n",
      "score:  0.7893591583213493\n"
     ]
    }
   ],
   "source": [
    "nflod = 40\n",
    "nmodel = 1\n",
    "\n",
    "# model params\n",
    "model_param = {'learning_rate': 0.01,\n",
    "               'random_seed': 2333, \n",
    "               'loss_function': 'Logloss',\n",
    "               'eval_metric': 'AUC',\n",
    "               'iterations': 10000,   # 1000\n",
    "               'task_type': 'GPU',\n",
    "               'early_stopping_rounds': 50}\n",
    "\n",
    "# fit\n",
    "fit_param = {'silent': True}\n",
    "model_params = deepcopy(model_param)\n",
    "\n",
    "# cv\n",
    "model = CatBoostClassifier(**model_params)\n",
    "cv = CV(model, nflod)\n",
    "\n",
    "score, pred_arr = cv.fit(x=x_train,\n",
    "                         y=y_train, \n",
    "                         metrics_func=roc_auc_score,\n",
    "                         split_method=StratifiedKFold,\n",
    "                         fit_params=fit_param,\n",
    "                         eval_param=None,\n",
    "                         use_proba=True, \n",
    "                         verbose=True,\n",
    "                         fit_use_valid='eval_set',\n",
    "                         output_oof_pred=True)\n",
    "\n",
    "pred = cv.predict(x=x_test)\n",
    "\n",
    "print('score: ', score)\n",
    "del model, cv"
   ]
  },
  {
   "cell_type": "code",
   "execution_count": null,
   "metadata": {},
   "outputs": [],
   "source": [
    "suck!"
   ]
  }
 ],
 "metadata": {
  "kernelspec": {
   "display_name": "Python 3",
   "language": "python",
   "name": "python3"
  },
  "language_info": {
   "codemirror_mode": {
    "name": "ipython",
    "version": 3
   },
   "file_extension": ".py",
   "mimetype": "text/x-python",
   "name": "python",
   "nbconvert_exporter": "python",
   "pygments_lexer": "ipython3",
   "version": "3.7.6"
  }
 },
 "nbformat": 4,
 "nbformat_minor": 2
}
