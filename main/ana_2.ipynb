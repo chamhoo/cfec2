{
 "cells": [
  {
   "cell_type": "code",
   "execution_count": 1,
   "metadata": {},
   "outputs": [],
   "source": [
    "%load_ext autoreload\n",
    "%autoreload 2\n",
    "\n",
    "import os\n",
    "import warnings\n",
    "warnings.filterwarnings('ignore')\n",
    "\n",
    "import sys\n",
    "sys.path.append(os.path.abspath('..'))\n",
    "# ---------------------------------\n",
    "from time import sleep\n",
    "import numpy as np\n",
    "import pandas as pd\n",
    "import matplotlib.pyplot as plt\n",
    "import seaborn\n",
    "from sklearn.metrics import roc_auc_score\n",
    "from sklearn.model_selection import StratifiedKFold\n",
    "import tensorflow as tf\n",
    "# ---------------------------------\n",
    "from tools import CV, Tuning, CVGetScore\n",
    "from hyperopt import hp"
   ]
  },
  {
   "cell_type": "code",
   "execution_count": 2,
   "metadata": {},
   "outputs": [
    {
     "name": "stdout",
     "output_type": "stream",
     "text": [
      "(600000,)\n"
     ]
    }
   ],
   "source": [
    "y_train = pd.read_csv('../data/train.csv', index_col='id')['target'].values\n",
    "print(y_train.shape)"
   ]
  },
  {
   "cell_type": "code",
   "execution_count": 3,
   "metadata": {},
   "outputs": [],
   "source": [
    "def mk_mdf(mdict, rule_dict={}):\n",
    "    df = list()\n",
    "    for name, path in mdict.items():\n",
    "        marr = np.load(path)\n",
    "        df.append(pd.DataFrame(data=marr, columns=[f'{name}{i}' for i in range(marr.shape[1])]))\n",
    "    df = pd.concat(df, axis=1)\n",
    "    \n",
    "    mdf = dict()\n",
    "    for colname, rules in rule_dict.items():\n",
    "        values = np.mean(df[rules].values, axis=1)\n",
    "        mdf[colname] = values\n",
    "    del df\n",
    "    return pd.DataFrame(mdf)"
   ]
  },
  {
   "cell_type": "code",
   "execution_count": 4,
   "metadata": {},
   "outputs": [
    {
     "name": "stdout",
     "output_type": "stream",
     "text": [
      "3973270008.csv\t4293006264.csv\t4293006264predict.npy  4293006264stacking1.npy\r\n"
     ]
    }
   ],
   "source": [
    "! ls ../tmp/xdeepfm"
   ]
  },
  {
   "cell_type": "code",
   "execution_count": 5,
   "metadata": {},
   "outputs": [],
   "source": [
    "train_dict = {\n",
    "    'cin': '../tmp/cin/1960993645stacking1.npy',\n",
    "    'xdeepfm': '../tmp/xdeepfm/4293006264stacking1.npy'\n",
    "}\n",
    "\n",
    "\n",
    "test_dict = {\n",
    "    'cin': '../tmp/cin/1960993645predict.npy',\n",
    "    'xdeepfm': '../tmp/xdeepfm/4293006264predict.npy'\n",
    "}\n",
    "\n",
    "\n",
    "rule_dict = {\n",
    "    'cin':  [f'cin{i}' for i in range(5)],\n",
    "    'xdeepfm': [f'xdeepfm{i}' for i in range(5)],\n",
    "}\n",
    "\n",
    "x_train_df = mk_mdf(train_dict, rule_dict)\n",
    "x_train = x_train_df.values\n",
    "x_test_df = mk_mdf(test_dict, rule_dict)\n",
    "x_test = x_test_df.values"
   ]
  },
  {
   "cell_type": "code",
   "execution_count": 9,
   "metadata": {},
   "outputs": [
    {
     "data": {
      "text/html": [
       "<div>\n",
       "<style scoped>\n",
       "    .dataframe tbody tr th:only-of-type {\n",
       "        vertical-align: middle;\n",
       "    }\n",
       "\n",
       "    .dataframe tbody tr th {\n",
       "        vertical-align: top;\n",
       "    }\n",
       "\n",
       "    .dataframe thead th {\n",
       "        text-align: right;\n",
       "    }\n",
       "</style>\n",
       "<table border=\"1\" class=\"dataframe\">\n",
       "  <thead>\n",
       "    <tr style=\"text-align: right;\">\n",
       "      <th></th>\n",
       "      <th>cin</th>\n",
       "      <th>xdeepfm</th>\n",
       "    </tr>\n",
       "  </thead>\n",
       "  <tbody>\n",
       "    <tr>\n",
       "      <th>0</th>\n",
       "      <td>0.177138</td>\n",
       "      <td>0.048773</td>\n",
       "    </tr>\n",
       "    <tr>\n",
       "      <th>1</th>\n",
       "      <td>0.218902</td>\n",
       "      <td>0.085085</td>\n",
       "    </tr>\n",
       "    <tr>\n",
       "      <th>2</th>\n",
       "      <td>0.320728</td>\n",
       "      <td>0.269822</td>\n",
       "    </tr>\n",
       "    <tr>\n",
       "      <th>3</th>\n",
       "      <td>0.135259</td>\n",
       "      <td>0.028764</td>\n",
       "    </tr>\n",
       "    <tr>\n",
       "      <th>4</th>\n",
       "      <td>0.242454</td>\n",
       "      <td>0.122328</td>\n",
       "    </tr>\n",
       "  </tbody>\n",
       "</table>\n",
       "</div>"
      ],
      "text/plain": [
       "        cin   xdeepfm\n",
       "0  0.177138  0.048773\n",
       "1  0.218902  0.085085\n",
       "2  0.320728  0.269822\n",
       "3  0.135259  0.028764\n",
       "4  0.242454  0.122328"
      ]
     },
     "execution_count": 9,
     "metadata": {},
     "output_type": "execute_result"
    }
   ],
   "source": [
    "x_train_df.head()"
   ]
  },
  {
   "cell_type": "code",
   "execution_count": 8,
   "metadata": {},
   "outputs": [
    {
     "data": {
      "text/html": [
       "<div>\n",
       "<style scoped>\n",
       "    .dataframe tbody tr th:only-of-type {\n",
       "        vertical-align: middle;\n",
       "    }\n",
       "\n",
       "    .dataframe tbody tr th {\n",
       "        vertical-align: top;\n",
       "    }\n",
       "\n",
       "    .dataframe thead th {\n",
       "        text-align: right;\n",
       "    }\n",
       "</style>\n",
       "<table border=\"1\" class=\"dataframe\">\n",
       "  <thead>\n",
       "    <tr style=\"text-align: right;\">\n",
       "      <th></th>\n",
       "      <th>cin</th>\n",
       "      <th>xdeepfm</th>\n",
       "    </tr>\n",
       "  </thead>\n",
       "  <tbody>\n",
       "    <tr>\n",
       "      <th>0</th>\n",
       "      <td>0.238673</td>\n",
       "      <td>0.119105</td>\n",
       "    </tr>\n",
       "    <tr>\n",
       "      <th>1</th>\n",
       "      <td>0.303313</td>\n",
       "      <td>0.242635</td>\n",
       "    </tr>\n",
       "    <tr>\n",
       "      <th>2</th>\n",
       "      <td>0.259058</td>\n",
       "      <td>0.148813</td>\n",
       "    </tr>\n",
       "    <tr>\n",
       "      <th>3</th>\n",
       "      <td>0.239284</td>\n",
       "      <td>0.113369</td>\n",
       "    </tr>\n",
       "    <tr>\n",
       "      <th>4</th>\n",
       "      <td>0.253513</td>\n",
       "      <td>0.134890</td>\n",
       "    </tr>\n",
       "  </tbody>\n",
       "</table>\n",
       "</div>"
      ],
      "text/plain": [
       "        cin   xdeepfm\n",
       "0  0.238673  0.119105\n",
       "1  0.303313  0.242635\n",
       "2  0.259058  0.148813\n",
       "3  0.239284  0.113369\n",
       "4  0.253513  0.134890"
      ]
     },
     "execution_count": 8,
     "metadata": {},
     "output_type": "execute_result"
    }
   ],
   "source": [
    "x_test_df.head()"
   ]
  },
  {
   "cell_type": "code",
   "execution_count": 11,
   "metadata": {},
   "outputs": [],
   "source": [
    "from sklearn.linear_model import LogisticRegression"
   ]
  },
  {
   "cell_type": "code",
   "execution_count": null,
   "metadata": {},
   "outputs": [],
   "source": [
    "nflod = 5\n",
    "\n",
    "cv_fit_param = {'fit_params': {}, \n",
    "                'use_proba':True}\n",
    "\n",
    "# model_fix_param & model_search_space\n",
    "model_fix_param = {'penalty': 'l2', 'max_iter': 1000, 'n_jobs': -1}\n",
    "\n",
    "ss = {\n",
    "    'solver': (hp.choice, ('newton-cg', 'lbfgs', 'liblinear', 'sag', 'saga')),\n",
    "    'C': (hp.loguniform, (-10, 5))\n",
    "    }\n",
    "\n",
    "# cv get score\n",
    "def neg_auc(y_true, y_pred):\n",
    "    return - roc_auc_score(y_true, y_pred)\n",
    "\n",
    "gs = CVGetScore(x=x_train,\n",
    "                y=y_train, \n",
    "                metrics_func=neg_auc,\n",
    "                split_method=StratifiedKFold,\n",
    "                nfolds=nflod, \n",
    "                random_state=2333,\n",
    "                model=LogisticRegression, \n",
    "                cv_fit_params=cv_fit_param, \n",
    "                model_fix_params=model_fix_param, \n",
    "                model_search_space=ss)\n",
    "\n",
    "tuning = Tuning(gs, verbose=1)\n",
    "tuning.fmin(gs.GET_SEARCH_SPACE(), max_evals=50)"
   ]
  },
  {
   "cell_type": "code",
   "execution_count": null,
   "metadata": {},
   "outputs": [],
   "source": [
    "tuning.log.plot(score_interval=[-0.7900, -0.7895])"
   ]
  },
  {
   "cell_type": "code",
   "execution_count": 12,
   "metadata": {},
   "outputs": [
    {
     "name": "stdout",
     "output_type": "stream",
     "text": [
      "folds 0 is done, score is 0.7819049703789698\n",
      "folds 1 is done, score is 0.7916823815158789\n",
      "folds 2 is done, score is 0.7916385668805289\n",
      "folds 3 is done, score is 0.7878708879672627\n",
      "folds 4 is done, score is 0.7926082139705828\n",
      "folds 5 is done, score is 0.791173898067763\n",
      "folds 6 is done, score is 0.7908437109757648\n",
      "folds 7 is done, score is 0.7903241862395407\n",
      "folds 8 is done, score is 0.7889320784354413\n",
      "folds 9 is done, score is 0.7845134892994144\n",
      "folds 10 is done, score is 0.7892035539160702\n",
      "folds 11 is done, score is 0.800677818250817\n",
      "folds 12 is done, score is 0.7874174649109031\n",
      "folds 13 is done, score is 0.7912118123322192\n",
      "folds 14 is done, score is 0.7864969778417121\n",
      "folds 15 is done, score is 0.7900172793237918\n",
      "folds 16 is done, score is 0.7914613512854162\n",
      "folds 17 is done, score is 0.792580932057638\n",
      "folds 18 is done, score is 0.7958508475035706\n",
      "folds 19 is done, score is 0.7951185588980865\n",
      "folds 20 is done, score is 0.7890375256578505\n",
      "folds 21 is done, score is 0.7872753594435845\n",
      "folds 22 is done, score is 0.7864664536457515\n",
      "folds 23 is done, score is 0.7852638295346628\n",
      "folds 24 is done, score is 0.7834746150855075\n",
      "folds 25 is done, score is 0.7887892427242001\n",
      "folds 26 is done, score is 0.7961687372879138\n",
      "folds 27 is done, score is 0.781331524431508\n",
      "folds 28 is done, score is 0.7975300580082405\n",
      "folds 29 is done, score is 0.7873824424123802\n",
      "folds 30 is done, score is 0.7903882724461794\n",
      "folds 31 is done, score is 0.7890097763887953\n",
      "folds 32 is done, score is 0.7892225402580554\n",
      "folds 33 is done, score is 0.7918823223018596\n",
      "folds 34 is done, score is 0.794026318458323\n",
      "folds 35 is done, score is 0.7932661345349994\n",
      "folds 36 is done, score is 0.7857057439468036\n",
      "folds 37 is done, score is 0.7848501828862015\n",
      "folds 38 is done, score is 0.7915065181671848\n",
      "folds 39 is done, score is 0.7842694768175893\n",
      "CPU times: user 2min 7s, sys: 1.28 s, total: 2min 8s\n",
      "Wall time: 1min 53s\n"
     ]
    }
   ],
   "source": [
    "%%time\n",
    "\n",
    "nflod = 40\n",
    "\n",
    "model_param = {\n",
    "    'max_iter': 1000,\n",
    "    'n_jobs': -1,\n",
    "    'C': 0.027669607403232415,\n",
    "    'solver': 'saga'\n",
    "}\n",
    "\n",
    "model = LogisticRegression(**model_param)\n",
    "cv = CV(model, nflod)\n",
    "\n",
    "score = cv.fit(x=x_train,\n",
    "               y=y_train, \n",
    "               metrics_func=roc_auc_score,\n",
    "               split_method=StratifiedKFold,\n",
    "               use_proba=True, \n",
    "               verbose=True)"
   ]
  },
  {
   "cell_type": "code",
   "execution_count": 13,
   "metadata": {},
   "outputs": [
    {
     "data": {
      "text/plain": [
       "0.7896885676276588"
      ]
     },
     "execution_count": 13,
     "metadata": {},
     "output_type": "execute_result"
    }
   ],
   "source": [
    "score"
   ]
  },
  {
   "cell_type": "code",
   "execution_count": 14,
   "metadata": {},
   "outputs": [
    {
     "data": {
      "text/plain": [
       "array([[8.49387973, 1.87813581]])"
      ]
     },
     "execution_count": 14,
     "metadata": {},
     "output_type": "execute_result"
    }
   ],
   "source": [
    "cv.model[0].coef_"
   ]
  },
  {
   "cell_type": "code",
   "execution_count": 15,
   "metadata": {},
   "outputs": [],
   "source": [
    "submission = pd.read_csv('../data/sample_submission.csv', index_col='id')\n",
    "submission['target'] = cv.predict(x=x_test, use_proba=True)\n",
    "submission.to_csv(f'../tmp/submission/cinx2.csv')"
   ]
  },
  {
   "cell_type": "code",
   "execution_count": null,
   "metadata": {},
   "outputs": [],
   "source": []
  }
 ],
 "metadata": {
  "kernelspec": {
   "display_name": "Python 3",
   "language": "python",
   "name": "python3"
  },
  "language_info": {
   "codemirror_mode": {
    "name": "ipython",
    "version": 3
   },
   "file_extension": ".py",
   "mimetype": "text/x-python",
   "name": "python",
   "nbconvert_exporter": "python",
   "pygments_lexer": "ipython3",
   "version": "3.7.6"
  }
 },
 "nbformat": 4,
 "nbformat_minor": 2
}
